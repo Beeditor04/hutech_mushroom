{
 "cells": [
  {
   "cell_type": "code",
   "execution_count": 23,
   "metadata": {},
   "outputs": [
    {
     "name": "stderr",
     "output_type": "stream",
     "text": [
      "\u001b[34m\u001b[1mwandb\u001b[0m: \u001b[33mWARNING\u001b[0m If you're specifying your api key in code, ensure this code is not shared publicly.\n",
      "\u001b[34m\u001b[1mwandb\u001b[0m: \u001b[33mWARNING\u001b[0m Consider setting the WANDB_API_KEY environment variable, or running `wandb login` from the command line.\n",
      "\u001b[34m\u001b[1mwandb\u001b[0m: Appending key for api.wandb.ai to your netrc file: /root/.netrc\n",
      "\u001b[34m\u001b[1mwandb\u001b[0m: Currently logged in as: \u001b[33mbeehappy2554\u001b[0m (\u001b[33mbeehappy2554-bosch-global\u001b[0m) to \u001b[32mhttps://api.wandb.ai\u001b[0m. Use \u001b[1m`wandb login --relogin`\u001b[0m to force relogin\n",
      "\u001b[34m\u001b[1mwandb\u001b[0m: \u001b[33mWARNING\u001b[0m `wandb.require('core')` is redundant as it is now the default behavior.\n"
     ]
    }
   ],
   "source": [
    "import os\n",
    "import wandb\n",
    "from dotenv import load_dotenv\n",
    "\n",
    "load_dotenv()\n",
    "# Read the WandB API key from the environment variable\n",
    "api_key = os.getenv(\"WANDB_API_KEY\")\n",
    "if api_key:\n",
    "    wandb.login(key=api_key)\n",
    "else:\n",
    "    print(\"WANDB_API_KEY not found in environment. Please set it to your WandB API key.\")\n",
    "wandb.require(\"core\")\n"
   ]
  },
  {
   "cell_type": "code",
   "execution_count": 26,
   "metadata": {},
   "outputs": [
    {
     "name": "stdout",
     "output_type": "stream",
     "text": [
      "{'program': 'train.py', 'name': 'aug_sweep', 'method': 'grid', 'metric': {'name': 'test_accuracy', 'goal': 'maximize'}, 'parameters': {'model': {'value': 'alexnet'}, 'dataset': {'value': 'hutech-dataset:latest'}, 'resize': {'values': [224]}, 'horizontal_flip': {'values': [0, 224]}, 'vertical_flip': {'values': [0, 0.5]}, 'random_rotation': {'values': [0, 90]}, 'brightness': {'values': [0, 0.2]}, 'contrast': {'values': [0, 0.2]}, 'saturation': {'values': [0, 0.2]}, 'hue': {'values': [0, 0.2]}, 'num_classes': {'value': 4}, 'lr': {'value': '1e-5'}, 'num_epochs': {'value': 30}, 'batch_size': {'value': 4}, 'optimizer': {'value': 'adam'}, 'scheduler': {'value': 'reduce_lr_on_plateau'}, 'es_patience': {'value': 10}, 'weight_decay': {'value': 0.0001}, 'momentum': {'value': 0.9}}, 'command': ['${env}', 'python', '${program}']}\n",
      "Create sweep with ID: u8ycqh9h\n",
      "Sweep URL: https://wandb.ai/beehappy2554-bosch-global/hutech_mushroom/sweeps/u8ycqh9h\n",
      "Sweep ID: u8ycqh9h\n"
     ]
    }
   ],
   "source": [
    "# sweep_config = {\n",
    "#     'program': 'train.py',\n",
    "#     'method': 'random',  # Can be 'grid', 'random', or 'bayes'\n",
    "#     'metric': {\n",
    "#         'name': 'val_loss',  # The metric to optimize\n",
    "#         'goal': 'minimize'  # The optimization goal of the metric\n",
    "#     },\n",
    "#     'parameters': {\n",
    "#         'lr': {\n",
    "#             'distribution': 'uniform',\n",
    "#             'min': 1e-6,\n",
    "#             'max': 1e-2\n",
    "#         },\n",
    "#         'num_epochs': {\n",
    "#             'values': [10, 20, 30]\n",
    "#         },\n",
    "#         'batch_size': {\n",
    "#             'values': [16, 32, 64]\n",
    "#         },\n",
    "#         'optimizer': {\n",
    "#             'values': ['adam', 'sgd', 'adamw']\n",
    "#         },\n",
    "#         # You can add more hyperparameters as needed.\n",
    "#     }\n",
    "# }\n",
    "\n",
    "import wandb\n",
    "from utils.helper import load_config\n",
    "config_path = \"../config/sweep_aug.yaml\"\n",
    "\n",
    "PROJECT = 'hutech_mushroom'\n",
    "with open(config_path, 'r') as f:\n",
    "    sweep_config = load_config(config_path)\n",
    "print(sweep_config)\n",
    "sweep_id = wandb.sweep(sweep_config, project=PROJECT)\n",
    "print(f\"Sweep ID: {sweep_id}\")"
   ]
  },
  {
   "cell_type": "markdown",
   "metadata": {},
   "source": [
    "- 2 ways to activate agent for sweeping:"
   ]
  },
  {
   "cell_type": "code",
   "execution_count": 28,
   "metadata": {},
   "outputs": [
    {
     "name": "stdout",
     "output_type": "stream",
     "text": [
      "Sweep ID: u8ycqh9h\n"
     ]
    },
    {
     "name": "stderr",
     "output_type": "stream",
     "text": [
      "\u001b[34m\u001b[1mwandb\u001b[0m: Agent Starting Run: 1vz0mfq5 with config:\n",
      "\u001b[34m\u001b[1mwandb\u001b[0m: \tbatch_size: 4\n",
      "\u001b[34m\u001b[1mwandb\u001b[0m: \tbrightness: 0\n",
      "\u001b[34m\u001b[1mwandb\u001b[0m: \tcontrast: 0\n",
      "\u001b[34m\u001b[1mwandb\u001b[0m: \tdataset: hutech-dataset:latest\n",
      "\u001b[34m\u001b[1mwandb\u001b[0m: \tes_patience: 10\n",
      "\u001b[34m\u001b[1mwandb\u001b[0m: \thorizontal_flip: 0\n",
      "\u001b[34m\u001b[1mwandb\u001b[0m: \thue: 0\n",
      "\u001b[34m\u001b[1mwandb\u001b[0m: \tlr: 1e-05\n",
      "\u001b[34m\u001b[1mwandb\u001b[0m: \tmodel: alexnet\n",
      "\u001b[34m\u001b[1mwandb\u001b[0m: \tmomentum: 0.9\n",
      "\u001b[34m\u001b[1mwandb\u001b[0m: \tnum_classes: 4\n",
      "\u001b[34m\u001b[1mwandb\u001b[0m: \tnum_epochs: 30\n",
      "\u001b[34m\u001b[1mwandb\u001b[0m: \toptimizer: adam\n",
      "\u001b[34m\u001b[1mwandb\u001b[0m: \trandom_rotation: 0\n",
      "\u001b[34m\u001b[1mwandb\u001b[0m: \tresize: 224\n",
      "\u001b[34m\u001b[1mwandb\u001b[0m: \tsaturation: 0\n",
      "\u001b[34m\u001b[1mwandb\u001b[0m: \tscheduler: reduce_lr_on_plateau\n",
      "\u001b[34m\u001b[1mwandb\u001b[0m: \tvertical_flip: 0\n",
      "\u001b[34m\u001b[1mwandb\u001b[0m: \tweight_decay: 0.0001\n",
      "usage: ipykernel_launcher.py [-h] [--model MODEL] [--config CONFIG]\n",
      "                             [--project PROJECT] [--dataset DATASET]\n",
      "ipykernel_launcher.py: error: unrecognized arguments: --f=/run/user/0/jupyter/runtime/kernel-v3e7c7720064deeeb7ad22f68b0e729ae2898022fc.json\n"
     ]
    }
   ],
   "source": [
    "from train import trainer\n",
    "print(f\"Sweep ID: {sweep_id}\")\n",
    "wandb.agent(sweep_id, trainer, count=1)"
   ]
  },
  {
   "cell_type": "code",
   "execution_count": 27,
   "metadata": {},
   "outputs": [
    {
     "name": "stdout",
     "output_type": "stream",
     "text": [
      "Traceback (most recent call last):\n",
      "  File \"/root/anaconda3/envs/pytorch37/lib/python3.9/site-packages/wandb/sdk/lib/service_connection.py\", line 56, in _try_connect_to_existing_service\n",
      "    client.connect(token.port)\n",
      "  File \"/root/anaconda3/envs/pytorch37/lib/python3.9/site-packages/wandb/sdk/lib/sock_client.py\", line 102, in connect\n",
      "    s.connect((\"localhost\", port))\n",
      "ConnectionRefusedError: [Errno 111] Connection refused\n",
      "\n",
      "The above exception was the direct cause of the following exception:\n",
      "\n",
      "Traceback (most recent call last):\n",
      "  File \"/root/anaconda3/envs/pytorch37/bin/wandb\", line 8, in <module>\n",
      "    sys.exit(cli())\n",
      "  File \"/root/anaconda3/envs/pytorch37/lib/python3.9/site-packages/click/core.py\", line 1161, in __call__\n",
      "    return self.main(*args, **kwargs)\n",
      "  File \"/root/anaconda3/envs/pytorch37/lib/python3.9/site-packages/click/core.py\", line 1082, in main\n",
      "    rv = self.invoke(ctx)\n",
      "  File \"/root/anaconda3/envs/pytorch37/lib/python3.9/site-packages/click/core.py\", line 1697, in invoke\n",
      "    return _process_result(sub_ctx.command.invoke(sub_ctx))\n",
      "  File \"/root/anaconda3/envs/pytorch37/lib/python3.9/site-packages/click/core.py\", line 1443, in invoke\n",
      "    return ctx.invoke(self.callback, **ctx.params)\n",
      "  File \"/root/anaconda3/envs/pytorch37/lib/python3.9/site-packages/click/core.py\", line 788, in invoke\n",
      "    return __callback(*args, **kwargs)\n",
      "  File \"/root/anaconda3/envs/pytorch37/lib/python3.9/site-packages/click/decorators.py\", line 33, in new_func\n",
      "    return f(get_current_context(), *args, **kwargs)\n",
      "  File \"/root/anaconda3/envs/pytorch37/lib/python3.9/site-packages/wandb/cli/cli.py\", line 104, in wrapper\n",
      "    return func(*args, **kwargs)\n",
      "  File \"/root/anaconda3/envs/pytorch37/lib/python3.9/site-packages/wandb/cli/cli.py\", line 1669, in agent\n",
      "    api = _get_cling_api()\n",
      "  File \"/root/anaconda3/envs/pytorch37/lib/python3.9/site-packages/wandb/cli/cli.py\", line 132, in _get_cling_api\n",
      "    wandb.setup(settings=wandb.Settings(x_cli_only_mode=True))\n",
      "  File \"/root/anaconda3/envs/pytorch37/lib/python3.9/site-packages/wandb/sdk/wandb_setup.py\", line 382, in setup\n",
      "    return _setup(settings=settings)\n",
      "  File \"/root/anaconda3/envs/pytorch37/lib/python3.9/site-packages/wandb/sdk/wandb_setup.py\", line 321, in _setup\n",
      "    _singleton.ensure_service()\n",
      "  File \"/root/anaconda3/envs/pytorch37/lib/python3.9/site-packages/wandb/sdk/wandb_setup.py\", line 264, in ensure_service\n",
      "    self._connection = service_connection.connect_to_service(self._settings)\n",
      "  File \"/root/anaconda3/envs/pytorch37/lib/python3.9/site-packages/wandb/sdk/lib/service_connection.py\", line 37, in connect_to_service\n",
      "    conn = _try_connect_to_existing_service()\n",
      "  File \"/root/anaconda3/envs/pytorch37/lib/python3.9/site-packages/wandb/sdk/lib/service_connection.py\", line 59, in _try_connect_to_existing_service\n",
      "    raise WandbServiceConnectionError(\n",
      "wandb.sdk.lib.service_connection.WandbServiceConnectionError: Failed to connect to internal service.\n"
     ]
    }
   ],
   "source": [
    "!wandb agent --count 20 {sweep_id}"
   ]
  }
 ],
 "metadata": {
  "kernelspec": {
   "display_name": "pytorch37",
   "language": "python",
   "name": "python3"
  },
  "language_info": {
   "codemirror_mode": {
    "name": "ipython",
    "version": 3
   },
   "file_extension": ".py",
   "mimetype": "text/x-python",
   "name": "python",
   "nbconvert_exporter": "python",
   "pygments_lexer": "ipython3",
   "version": "3.9.21"
  }
 },
 "nbformat": 4,
 "nbformat_minor": 2
}
