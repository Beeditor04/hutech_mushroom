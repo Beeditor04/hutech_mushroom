{
 "cells": [
  {
   "cell_type": "code",
   "execution_count": 4,
   "metadata": {},
   "outputs": [
    {
     "name": "stdout",
     "output_type": "stream",
     "text": [
      "{'program': 'train.py', 'name': 'aug_sweep', 'method': 'grid', 'metric': {'name': 'test_accuracy', 'goal': 'maximize'}, 'parameters': {'model': {'value': 'alexnet'}, 'dataset': {'value': 'hutech-dataset:latest'}, 'resize': {'values': [224]}, 'horizontal_flip': {'values': [0, 224]}, 'vertical_flip': {'values': [0, 0.5]}, 'random_rotation': {'values': [0, 90]}, 'brightness': {'values': [0, 0.2]}, 'contrast': {'values': [0, 0.2]}, 'saturation': {'values': [0, 0.2]}, 'hue': {'values': [0, 0.2]}, 'num_classes': {'value': 4}, 'lr': {'value': '1e-5'}, 'num_epochs': {'value': 30}, 'batch_size': {'value': 4}, 'optimizer': {'value': 'adam'}, 'weight_decay': {'value': 0.0001}, 'momentum': {'value': 0.9}}, 'command': ['${env}', 'python', '${program}']}\n",
      "Create sweep with ID: 338vs9ve\n",
      "Sweep URL: https://wandb.ai/beehappy2554-bosch-global/hutech_mushroom/sweeps/338vs9ve\n",
      "Sweep ID: 338vs9ve\n"
     ]
    }
   ],
   "source": [
    "# sweep_config = {\n",
    "#     'program': 'train.py',\n",
    "#     'method': 'random',  # Can be 'grid', 'random', or 'bayes'\n",
    "#     'metric': {\n",
    "#         'name': 'val_loss',  # The metric to optimize\n",
    "#         'goal': 'minimize'  # The optimization goal of the metric\n",
    "#     },\n",
    "#     'parameters': {\n",
    "#         'lr': {\n",
    "#             'distribution': 'uniform',\n",
    "#             'min': 1e-6,\n",
    "#             'max': 1e-2\n",
    "#         },\n",
    "#         'num_epochs': {\n",
    "#             'values': [10, 20, 30]\n",
    "#         },\n",
    "#         'batch_size': {\n",
    "#             'values': [16, 32, 64]\n",
    "#         },\n",
    "#         'optimizer': {\n",
    "#             'values': ['adam', 'sgd', 'adamw']\n",
    "#         },\n",
    "#         # You can add more hyperparameters as needed.\n",
    "#     }\n",
    "# }\n",
    "\n",
    "import wandb\n",
    "from utils.helper import load_config\n",
    "config_path = \"../config/sweep_aug.yaml\"\n",
    "\n",
    "PROJECT = 'hutech_mushroom'\n",
    "with open(config_path, 'r') as f:\n",
    "    sweep_config = load_config(config_path)\n",
    "print(sweep_config)\n",
    "sweep_id = wandb.sweep(sweep_config, project=PROJECT)\n",
    "print(f\"Sweep ID: {sweep_id}\")"
   ]
  },
  {
   "cell_type": "markdown",
   "metadata": {},
   "source": [
    "- 2 ways to activate agent for sweeping:"
   ]
  },
  {
   "cell_type": "code",
   "execution_count": 5,
   "metadata": {},
   "outputs": [
    {
     "name": "stdout",
     "output_type": "stream",
     "text": [
      "Sweep ID: qsuyhmxw\n"
     ]
    },
    {
     "name": "stderr",
     "output_type": "stream",
     "text": [
      "\u001b[34m\u001b[1mwandb\u001b[0m: Agent Starting Run: q52lie4j with config:\n",
      "\u001b[34m\u001b[1mwandb\u001b[0m: \tbatch_size: 4\n",
      "\u001b[34m\u001b[1mwandb\u001b[0m: \tbrightness: 0\n",
      "\u001b[34m\u001b[1mwandb\u001b[0m: \tcontrast: 0\n",
      "\u001b[34m\u001b[1mwandb\u001b[0m: \tdataset: hutech-dataset:latest\n",
      "\u001b[34m\u001b[1mwandb\u001b[0m: \thorizontal_flip: 0\n",
      "\u001b[34m\u001b[1mwandb\u001b[0m: \thue: 0\n",
      "\u001b[34m\u001b[1mwandb\u001b[0m: \tkernel_size: [[0, 0], [3, 3]]\n",
      "\u001b[34m\u001b[1mwandb\u001b[0m: \tlr: 1e-05\n",
      "\u001b[34m\u001b[1mwandb\u001b[0m: \tmodel: alexnet\n",
      "\u001b[34m\u001b[1mwandb\u001b[0m: \tmomentum: 0.9\n",
      "\u001b[34m\u001b[1mwandb\u001b[0m: \tnum_classes: 4\n",
      "\u001b[34m\u001b[1mwandb\u001b[0m: \tnum_epochs: 30\n",
      "\u001b[34m\u001b[1mwandb\u001b[0m: \toptimizer: adam\n",
      "\u001b[34m\u001b[1mwandb\u001b[0m: \trandom_rotation: 0\n",
      "\u001b[34m\u001b[1mwandb\u001b[0m: \tresize: 0\n",
      "\u001b[34m\u001b[1mwandb\u001b[0m: \tsaturation: 0\n",
      "\u001b[34m\u001b[1mwandb\u001b[0m: \tsigma: 3\n",
      "\u001b[34m\u001b[1mwandb\u001b[0m: \tvertical_flip: 0.5\n",
      "\u001b[34m\u001b[1mwandb\u001b[0m: \tweight_decay: 0.0001\n",
      "usage: ipykernel_launcher.py [-h] [--model MODEL] [--config CONFIG]\n",
      "                             [--project PROJECT] [--dataset DATASET]\n",
      "ipykernel_launcher.py: error: unrecognized arguments: --f=/run/user/0/jupyter/runtime/kernel-v3a11c3aa585e6079fe2a8abdf3ad72805e01c0563.json\n"
     ]
    }
   ],
   "source": [
    "from train import trainer\n",
    "print(f\"Sweep ID: {sweep_id}\")\n",
    "wandb.agent(sweep_id, trainer, count=1)"
   ]
  },
  {
   "cell_type": "code",
   "execution_count": 5,
   "metadata": {},
   "outputs": [
    {
     "name": "stdout",
     "output_type": "stream",
     "text": [
      "\u001b[34m\u001b[1mwandb\u001b[0m: Starting wandb agent 🕵️\n",
      "2025-03-29 10:09:24,698 - wandb.wandb_agent - INFO - Running runs: []\n",
      "2025-03-29 10:09:25,050 - wandb.wandb_agent - INFO - Agent received command: run\n",
      "2025-03-29 10:09:25,051 - wandb.wandb_agent - INFO - Agent starting run with config:\n",
      "\tbatch_size: 4\n",
      "\tbrightness: 0\n",
      "\tcontrast: 0\n",
      "\tdataset: hutech-dataset:latest\n",
      "\thorizontal_flip: 0\n",
      "\thue: 0\n",
      "\tlr: 1e-05\n",
      "\tmodel: alexnet\n",
      "\tmomentum: 0.9\n",
      "\tnum_classes: 4\n",
      "\tnum_epochs: 30\n",
      "\toptimizer: adam\n",
      "\trandom_rotation: 0\n",
      "\tresize: 224\n",
      "\tsaturation: 0\n",
      "\tvertical_flip: 0\n",
      "\tweight_decay: 0.0001\n",
      "2025-03-29 10:09:25,056 - wandb.wandb_agent - INFO - About to run command: /usr/bin/env python train.py\n",
      "HERE None\n",
      "HERE config! {'project': 'hutech_mushroom', 'dataset': 'hutech-dataset:latest', 'model': 'alexnet', 'resize': 224, 'horizontal_flip': 0.5, 'vertical_flip': 0.5, 'random_rotation': 90, 'brightness': 0.2, 'contrast': 0.2, 'saturation': 0.2, 'hue': 0.2, 'kernel_size': [3, 3], 'sigma': [0.1, 3.0], 'scheduler': 'reduce_lr_on_plateau', 'es_patience': 10, 'num_classes': 4, 'lr': '1e-5', 'num_epochs': 30, 'batch_size': 4, 'optimizer': 'adam', 'weight_decay': 0.0001, 'momentum': 0.9}\n",
      "\u001b[34m\u001b[1mwandb\u001b[0m: Currently logged in as: \u001b[33mbeehappy2554\u001b[0m (\u001b[33mbeehappy2554-bosch-global\u001b[0m) to \u001b[32mhttps://api.wandb.ai\u001b[0m. Use \u001b[1m`wandb login --relogin`\u001b[0m to force relogin\n",
      "\u001b[34m\u001b[1mwandb\u001b[0m: \u001b[33mWARNING\u001b[0m Ignoring project 'hutech_mushroom' when running a sweep.\n",
      "2025-03-29 10:09:30,062 - wandb.wandb_agent - INFO - Running runs: ['fid5e6d5']\n",
      "\u001b[34m\u001b[1mwandb\u001b[0m: Tracking run with wandb version 0.19.8\n",
      "\u001b[34m\u001b[1mwandb\u001b[0m: Run data is saved locally in \u001b[35m\u001b[1m/mnt/c/Users/beeha/VSCode/! - Self-study/All HUGE Projects/Computer Vision/hutech_mushroom/src/wandb/run-20250329_100929-fid5e6d5\u001b[0m\n",
      "\u001b[34m\u001b[1mwandb\u001b[0m: Run \u001b[1m`wandb offline`\u001b[0m to turn off syncing.\n",
      "\u001b[34m\u001b[1mwandb\u001b[0m: Syncing run \u001b[33mcrisp-sweep-1\u001b[0m\n",
      "\u001b[34m\u001b[1mwandb\u001b[0m: ⭐️ View project at \u001b[34m\u001b[4mhttps://wandb.ai/beehappy2554-bosch-global/hutech_mushroom\u001b[0m\n",
      "\u001b[34m\u001b[1mwandb\u001b[0m: 🧹 View sweep at \u001b[34m\u001b[4mhttps://wandb.ai/beehappy2554-bosch-global/hutech_mushroom/sweeps/338vs9ve\u001b[0m\n",
      "\u001b[34m\u001b[1mwandb\u001b[0m: 🚀 View run at \u001b[34m\u001b[4mhttps://wandb.ai/beehappy2554-bosch-global/hutech_mushroom/runs/fid5e6d5\u001b[0m\n",
      "HERE config! {'project': 'hutech_mushroom', 'dataset': 'hutech-dataset:latest', 'model': 'alexnet', 'resize': 224, 'horizontal_flip': 0, 'vertical_flip': 0, 'random_rotation': 0, 'brightness': 0, 'contrast': 0, 'saturation': 0, 'hue': 0, 'kernel_size': [3, 3], 'sigma': [0.1, 3.0], 'scheduler': 'reduce_lr_on_plateau', 'es_patience': 10, 'num_classes': 4, 'lr': 1e-05, 'num_epochs': 30, 'batch_size': 4, 'optimizer': 'adam', 'weight_decay': 0.0001, 'momentum': 0.9}\n",
      "\u001b[34m\u001b[1mwandb\u001b[0m:   1205 of 1205 files downloaded.  \n",
      "{'project': 'hutech_mushroom', 'dataset': 'hutech-dataset:latest', 'model': 'alexnet', 'resize': 224, 'horizontal_flip': 0, 'vertical_flip': 0, 'random_rotation': 0, 'brightness': 0, 'contrast': 0, 'saturation': 0, 'hue': 0, 'kernel_size': [3, 3], 'sigma': [0.1, 3.0], 'scheduler': 'reduce_lr_on_plateau', 'es_patience': 10, 'num_classes': 4, 'lr': 1e-05, 'num_epochs': 30, 'batch_size': 4, 'optimizer': 'adam', 'weight_decay': 0.0001, 'momentum': 0.9}\n",
      "Training model...\n",
      "Device: cuda\n",
      "Number of epochs: 30\n",
      "Optimizer: Adam (\n",
      "Parameter Group 0\n",
      "    amsgrad: False\n",
      "    betas: (0.9, 0.999)\n",
      "    capturable: False\n",
      "    differentiable: False\n",
      "    eps: 1e-08\n",
      "    foreach: None\n",
      "    fused: None\n",
      "    lr: 1e-05\n",
      "    maximize: False\n",
      "    weight_decay: 0.0001\n",
      ")\n",
      "Criterion: CrossEntropyLoss()\n",
      "Scheduler: <torch.optim.lr_scheduler.ReduceLROnPlateau object at 0x7f3ab968d250>\n",
      "Batch size: 4\n",
      "Early stopping: 10\n",
      "Dataset: 720 training samples, 120 validation samples\n",
      " 22%|█████████                                 | 39/180 [00:02<00:09, 15.29it/s]"
     ]
    },
    {
     "name": "stderr",
     "output_type": "stream",
     "text": [
      "message_loop has been closed\n",
      "Traceback (most recent call last):\n",
      "  File \"/root/anaconda3/envs/pytorch37/lib/python3.9/site-packages/wandb/sdk/interface/router_sock.py\", line 27, in _read_message\n",
      "    return self._sock_client.read_server_response(timeout=1)\n",
      "  File \"/root/anaconda3/envs/pytorch37/lib/python3.9/site-packages/wandb/sdk/lib/sock_client.py\", line 235, in read_server_response\n",
      "    data = self._read_packet_bytes(timeout=timeout)\n",
      "  File \"/root/anaconda3/envs/pytorch37/lib/python3.9/site-packages/wandb/sdk/lib/sock_client.py\", line 220, in _read_packet_bytes\n",
      "    raise SockClientClosedError\n",
      "wandb.sdk.lib.sock_client.SockClientClosedError\n",
      "\n",
      "The above exception was the direct cause of the following exception:\n",
      "\n",
      "Traceback (most recent call last):\n",
      "  File \"/root/anaconda3/envs/pytorch37/lib/python3.9/site-packages/wandb/sdk/interface/router.py\", line 56, in message_loop\n",
      "    msg = self._read_message()\n",
      "  File \"/root/anaconda3/envs/pytorch37/lib/python3.9/site-packages/wandb/sdk/interface/router_sock.py\", line 29, in _read_message\n",
      "    raise MessageRouterClosedError from e\n",
      "wandb.sdk.interface.router.MessageRouterClosedError\n"
     ]
    },
    {
     "name": "stdout",
     "output_type": "stream",
     "text": [
      "\u001b[34m\u001b[1mwandb\u001b[0m: Ctrl-c pressed. Waiting for runs to end. Press ctrl-c again to terminate them.\n",
      "\n",
      "Aborted!\n",
      " 22%|█████████                                 | 39/180 [00:02<00:10, 13.60it/s]\n",
      "Traceback (most recent call last):\n",
      "  File \"/mnt/c/Users/beeha/VSCode/! - Self-study/All HUGE Projects/Computer Vision/hutech_mushroom/src/train.py\", line 182, in <module>\n",
      "    trainer()\n",
      "  File \"/mnt/c/Users/beeha/VSCode/! - Self-study/All HUGE Projects/Computer Vision/hutech_mushroom/src/train.py\", line 132, in trainer\n",
      "    train_loss, train_acc = train_one_epoch(model, train_loader, optimizer, criterion)\n",
      "  File \"/mnt/c/Users/beeha/VSCode/! - Self-study/All HUGE Projects/Computer Vision/hutech_mushroom/src/train.py\", line 40, in train_one_epoch\n",
      "    running_loss += loss.item() * images.size(0)\n",
      "KeyboardInterrupt\n",
      "^C\n"
     ]
    }
   ],
   "source": [
    "!wandb agent --count 1 {sweep_id}"
   ]
  }
 ],
 "metadata": {
  "kernelspec": {
   "display_name": "pytorch37",
   "language": "python",
   "name": "python3"
  },
  "language_info": {
   "codemirror_mode": {
    "name": "ipython",
    "version": 3
   },
   "file_extension": ".py",
   "mimetype": "text/x-python",
   "name": "python",
   "nbconvert_exporter": "python",
   "pygments_lexer": "ipython3",
   "version": "3.9.21"
  }
 },
 "nbformat": 4,
 "nbformat_minor": 2
}
