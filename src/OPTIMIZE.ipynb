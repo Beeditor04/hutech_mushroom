{
 "cells": [
  {
   "cell_type": "code",
   "execution_count": 1,
   "metadata": {},
   "outputs": [
    {
     "name": "stderr",
     "output_type": "stream",
     "text": [
      "\u001b[34m\u001b[1mwandb\u001b[0m: Using wandb-core as the SDK backend.  Please refer to https://wandb.me/wandb-core for more information.\n",
      "\u001b[34m\u001b[1mwandb\u001b[0m: \u001b[33mWARNING\u001b[0m If you're specifying your api key in code, ensure this code is not shared publicly.\n",
      "\u001b[34m\u001b[1mwandb\u001b[0m: \u001b[33mWARNING\u001b[0m Consider setting the WANDB_API_KEY environment variable, or running `wandb login` from the command line.\n",
      "\u001b[34m\u001b[1mwandb\u001b[0m: Appending key for api.wandb.ai to your netrc file: /root/.netrc\n",
      "\u001b[34m\u001b[1mwandb\u001b[0m: Currently logged in as: \u001b[33mbeehappy2554\u001b[0m (\u001b[33mbeehappy2554-bosch-global\u001b[0m) to \u001b[32mhttps://api.wandb.ai\u001b[0m. Use \u001b[1m`wandb login --relogin`\u001b[0m to force relogin\n",
      "\u001b[34m\u001b[1mwandb\u001b[0m: \u001b[33mWARNING\u001b[0m `wandb.require('core')` is redundant as it is now the default behavior.\n"
     ]
    }
   ],
   "source": [
    "import os\n",
    "import wandb\n",
    "from dotenv import load_dotenv\n",
    "\n",
    "load_dotenv()\n",
    "# Read the WandB API key from the environment variable\n",
    "api_key = os.getenv(\"WANDB_API_KEY\")\n",
    "if api_key:\n",
    "    wandb.login(key=api_key)\n",
    "else:\n",
    "    print(\"WANDB_API_KEY not found in environment. Please set it to your WandB API key.\")\n",
    "wandb.require(\"core\")\n"
   ]
  },
  {
   "cell_type": "code",
   "execution_count": 2,
   "metadata": {},
   "outputs": [
    {
     "name": "stderr",
     "output_type": "stream",
     "text": [
      "/root/anaconda3/envs/pytorch37/lib/python3.9/site-packages/tqdm/auto.py:21: TqdmWarning: IProgress not found. Please update jupyter and ipywidgets. See https://ipywidgets.readthedocs.io/en/stable/user_install.html\n",
      "  from .autonotebook import tqdm as notebook_tqdm\n"
     ]
    },
    {
     "name": "stdout",
     "output_type": "stream",
     "text": [
      "{'program': 'train.py', 'name': 'model_sweep', 'method': 'grid', 'metric': {'name': 'test_accuracy', 'goal': 'maximize'}, 'parameters': {'model': {'values': ['alexnet', 'convnext', 'densenet', 'efficientnet', 'mobilenet', 'resnet', 'vit', 'inception', 'negnet', 'resnext', 'shufflenet']}, 'dataset': {'value': 'hutech-dataset:latest'}, 'resize': {'values': [224]}, 'horizontal_flip': {'values': [0.5]}, 'vertical_flip': {'values': [0.5]}, 'random_rotation': {'values': [90]}, 'contrast': {'values': [0.2]}, 'saturation': {'values': [0.2]}, 'num_classes': {'value': 4}, 'lr': {'value': '1e-5'}, 'num_epochs': {'value': 30}, 'batch_size': {'value': 4}, 'optimizer': {'value': 'adam'}, 'scheduler': {'value': 'reduce_lr_on_plateau'}, 'es_patience': {'value': 10}, 'weight_decay': {'value': 0.0001}, 'momentum': {'value': 0.9}}, 'command': ['${env}', 'python', '${program}']}\n",
      "Create sweep with ID: v1g5ljm5\n",
      "Sweep URL: https://wandb.ai/beehappy2554-bosch-global/hutech_mushroom/sweeps/v1g5ljm5\n",
      "Sweep ID: v1g5ljm5\n"
     ]
    }
   ],
   "source": [
    "# sweep_config = {\n",
    "#     'program': 'train.py',\n",
    "#     'method': 'random',  # Can be 'grid', 'random', or 'bayes'\n",
    "#     'metric': {\n",
    "#         'name': 'val_loss',  # The metric to optimize\n",
    "#         'goal': 'minimize'  # The optimization goal of the metric\n",
    "#     },\n",
    "#     'parameters': {\n",
    "#         'lr': {\n",
    "#             'distribution': 'uniform',\n",
    "#             'min': 1e-6,\n",
    "#             'max': 1e-2\n",
    "#         },\n",
    "#         'num_epochs': {\n",
    "#             'values': [10, 20, 30]\n",
    "#         },\n",
    "#         'batch_size': {\n",
    "#             'values': [16, 32, 64]\n",
    "#         },\n",
    "#         'optimizer': {\n",
    "#             'values': ['adam', 'sgd', 'adamw']\n",
    "#         },\n",
    "#         # You can add more hyperparameters as needed.\n",
    "#     }\n",
    "# }\n",
    "\n",
    "import wandb\n",
    "from utils.helper import load_config\n",
    "config_path = \"../config/sweep_model.yaml\"\n",
    "\n",
    "PROJECT = 'hutech_mushroom'\n",
    "with open(config_path, 'r') as f:\n",
    "    sweep_config = load_config(config_path)\n",
    "print(sweep_config)\n",
    "sweep_id = wandb.sweep(sweep_config, project=PROJECT)\n",
    "print(f\"Sweep ID: {sweep_id}\")"
   ]
  },
  {
   "cell_type": "markdown",
   "metadata": {},
   "source": [
    "- 2 ways to activate agent for sweeping:"
   ]
  },
  {
   "cell_type": "code",
   "execution_count": null,
   "metadata": {},
   "outputs": [
    {
     "name": "stdout",
     "output_type": "stream",
     "text": [
      "Sweep ID: l64vt3el\n"
     ]
    },
    {
     "name": "stderr",
     "output_type": "stream",
     "text": [
      "\u001b[34m\u001b[1mwandb\u001b[0m: Agent Starting Run: 1usdczqc with config:\n",
      "\u001b[34m\u001b[1mwandb\u001b[0m: \tbatch_size: 4\n",
      "\u001b[34m\u001b[1mwandb\u001b[0m: \tbrightness: 0\n",
      "\u001b[34m\u001b[1mwandb\u001b[0m: \tcontrast: 0\n",
      "\u001b[34m\u001b[1mwandb\u001b[0m: \tdataset: hutech-dataset:latest\n",
      "\u001b[34m\u001b[1mwandb\u001b[0m: \tes_patience: 10\n",
      "\u001b[34m\u001b[1mwandb\u001b[0m: \thorizontal_flip: 0\n",
      "\u001b[34m\u001b[1mwandb\u001b[0m: \thue: 0\n",
      "\u001b[34m\u001b[1mwandb\u001b[0m: \tlr: 1e-05\n",
      "\u001b[34m\u001b[1mwandb\u001b[0m: \tmodel: alexnet\n",
      "\u001b[34m\u001b[1mwandb\u001b[0m: \tmomentum: 0.9\n",
      "\u001b[34m\u001b[1mwandb\u001b[0m: \tnum_classes: 4\n",
      "\u001b[34m\u001b[1mwandb\u001b[0m: \tnum_epochs: 30\n",
      "\u001b[34m\u001b[1mwandb\u001b[0m: \toptimizer: adam\n",
      "\u001b[34m\u001b[1mwandb\u001b[0m: \trandom_rotation: 0\n",
      "\u001b[34m\u001b[1mwandb\u001b[0m: \tresize: 224\n",
      "\u001b[34m\u001b[1mwandb\u001b[0m: \tsaturation: 0\n",
      "\u001b[34m\u001b[1mwandb\u001b[0m: \tscheduler: reduce_lr_on_plateau\n",
      "\u001b[34m\u001b[1mwandb\u001b[0m: \tvertical_flip: 0.5\n",
      "\u001b[34m\u001b[1mwandb\u001b[0m: \tweight_decay: 0.0001\n"
     ]
    },
    {
     "name": "stdout",
     "output_type": "stream",
     "text": [
      "args Namespace(model='alexnet', config=None, project='hutech_mushroom', dataset='hutech-dataset:latest')\n"
     ]
    },
    {
     "name": "stderr",
     "output_type": "stream",
     "text": [
      "wandb: Using wandb-core as the SDK backend.  Please refer to https://wandb.me/wandb-core for more information.\n",
      "wandb: Currently logged in as: beehappy2554 (beehappy2554-bosch-global) to https://api.wandb.ai. Use `wandb login --relogin` to force relogin\n",
      "wandb: WARNING Ignoring project 'hutech_mushroom' when running a sweep.\n",
      "wandb: Tracking run with wandb version 0.19.8\n",
      "wandb: Run data is saved locally in /mnt/c/Users/beeha/VSCode/! - Self-study/All HUGE Projects/Computer Vision/hutech_mushroom/src/wandb/run-20250329_133518-1usdczqc\n",
      "wandb: Run `wandb offline` to turn off syncing.\n",
      "wandb: Syncing run serene-sweep-2\n",
      "wandb: ⭐️ View project at https://wandb.ai/beehappy2554-bosch-global/hutech_mushroom\n",
      "wandb: 🧹 View sweep at https://wandb.ai/beehappy2554-bosch-global/hutech_mushroom/sweeps/l64vt3el\n",
      "wandb: 🚀 View run at https://wandb.ai/beehappy2554-bosch-global/hutech_mushroom/runs/1usdczqc\n"
     ]
    },
    {
     "name": "stdout",
     "output_type": "stream",
     "text": [
      "here config!!! None\n",
      "HERE config! {'batch_size': 4, 'brightness': 0, 'contrast': 0, 'dataset': 'hutech-dataset:latest', 'es_patience': 10, 'horizontal_flip': 0, 'hue': 0, 'lr': 1e-05, 'model': 'alexnet', 'momentum': 0.9, 'num_classes': 4, 'num_epochs': 30, 'optimizer': 'adam', 'random_rotation': 0, 'resize': 224, 'saturation': 0, 'scheduler': 'reduce_lr_on_plateau', 'vertical_flip': 0.5, 'weight_decay': 0.0001}\n"
     ]
    },
    {
     "name": "stderr",
     "output_type": "stream",
     "text": [
      "wandb:   1205 of 1205 files downloaded.  \n"
     ]
    },
    {
     "name": "stdout",
     "output_type": "stream",
     "text": [
      "{'batch_size': 4, 'brightness': 0, 'contrast': 0, 'dataset': 'hutech-dataset:latest', 'es_patience': 10, 'horizontal_flip': 0, 'hue': 0, 'lr': 1e-05, 'model': 'alexnet', 'momentum': 0.9, 'num_classes': 4, 'num_epochs': 30, 'optimizer': 'adam', 'random_rotation': 0, 'resize': 224, 'saturation': 0, 'scheduler': 'reduce_lr_on_plateau', 'vertical_flip': 0.5, 'weight_decay': 0.0001}\n",
      "Training model...\n",
      "Device: cuda\n",
      "Number of epochs: 30\n",
      "Optimizer: Adam (\n",
      "Parameter Group 0\n",
      "    amsgrad: False\n",
      "    betas: (0.9, 0.999)\n",
      "    capturable: False\n",
      "    differentiable: False\n",
      "    eps: 1e-08\n",
      "    foreach: None\n",
      "    fused: None\n",
      "    lr: 1e-05\n",
      "    maximize: False\n",
      "    weight_decay: 0.0001\n",
      ")\n",
      "Criterion: CrossEntropyLoss()\n",
      "Scheduler: <torch.optim.lr_scheduler.ReduceLROnPlateau object at 0x7f08b0a8d8b0>\n",
      "Batch size: 4\n",
      "Early stopping: 10\n",
      "Dataset: 720 training samples, 120 validation samples\n"
     ]
    },
    {
     "name": "stderr",
     "output_type": "stream",
     "text": [
      "100%|██████████| 180/180 [00:10<00:00, 16.86it/s]\n",
      "100%|██████████| 120/120 [00:01<00:00, 117.56it/s]\n",
      "  1%|          | 2/180 [00:00<00:10, 16.88it/s]"
     ]
    },
    {
     "name": "stdout",
     "output_type": "stream",
     "text": [
      "[Epoch 1/30] Train Loss: 1.1307 Val Loss: 0.8115 Train Acc: 0.5458 Val Acc: 0.6833\n"
     ]
    },
    {
     "name": "stderr",
     "output_type": "stream",
     "text": [
      "100%|██████████| 180/180 [00:10<00:00, 17.15it/s]\n",
      "100%|██████████| 120/120 [00:01<00:00, 84.36it/s]\n",
      "  0%|          | 0/180 [00:00<?, ?it/s]"
     ]
    },
    {
     "name": "stdout",
     "output_type": "stream",
     "text": [
      "[Epoch 2/30] Train Loss: 0.5602 Val Loss: 0.3730 Train Acc: 0.8069 Val Acc: 0.8917\n"
     ]
    },
    {
     "name": "stderr",
     "output_type": "stream",
     "text": [
      "100%|██████████| 180/180 [00:11<00:00, 15.49it/s]\n",
      "100%|██████████| 120/120 [00:01<00:00, 115.81it/s]\n",
      "  1%|          | 2/180 [00:00<00:10, 16.76it/s]"
     ]
    },
    {
     "name": "stdout",
     "output_type": "stream",
     "text": [
      "[Epoch 3/30] Train Loss: 0.2807 Val Loss: 0.1854 Train Acc: 0.9125 Val Acc: 0.9417\n"
     ]
    },
    {
     "name": "stderr",
     "output_type": "stream",
     "text": [
      "100%|██████████| 180/180 [00:10<00:00, 16.60it/s]\n",
      "100%|██████████| 120/120 [00:01<00:00, 109.45it/s]\n",
      "  0%|          | 0/180 [00:00<?, ?it/s]"
     ]
    },
    {
     "name": "stdout",
     "output_type": "stream",
     "text": [
      "[Epoch 4/30] Train Loss: 0.2167 Val Loss: 0.1589 Train Acc: 0.9153 Val Acc: 0.9583\n"
     ]
    },
    {
     "name": "stderr",
     "output_type": "stream",
     "text": [
      "100%|██████████| 180/180 [00:11<00:00, 16.28it/s]\n",
      "100%|██████████| 120/120 [00:00<00:00, 126.87it/s]\n",
      "  0%|          | 0/180 [00:00<?, ?it/s]"
     ]
    },
    {
     "name": "stdout",
     "output_type": "stream",
     "text": [
      "[Epoch 5/30] Train Loss: 0.1649 Val Loss: 0.0951 Train Acc: 0.9431 Val Acc: 0.9667\n"
     ]
    },
    {
     "name": "stderr",
     "output_type": "stream",
     "text": [
      "100%|██████████| 180/180 [00:10<00:00, 17.34it/s]\n",
      "100%|██████████| 120/120 [00:00<00:00, 129.79it/s]\n",
      "  0%|          | 0/180 [00:00<?, ?it/s]"
     ]
    },
    {
     "name": "stdout",
     "output_type": "stream",
     "text": [
      "[Epoch 6/30] Train Loss: 0.1199 Val Loss: 0.0754 Train Acc: 0.9681 Val Acc: 0.9750\n"
     ]
    },
    {
     "name": "stderr",
     "output_type": "stream",
     "text": [
      "100%|██████████| 180/180 [00:10<00:00, 17.63it/s]\n",
      "100%|██████████| 120/120 [00:00<00:00, 145.28it/s]\n",
      "  1%|          | 2/180 [00:00<00:09, 18.10it/s]"
     ]
    },
    {
     "name": "stdout",
     "output_type": "stream",
     "text": [
      "[Epoch 7/30] Train Loss: 0.0908 Val Loss: 0.0970 Train Acc: 0.9681 Val Acc: 0.9667\n"
     ]
    },
    {
     "name": "stderr",
     "output_type": "stream",
     "text": [
      "100%|██████████| 180/180 [00:10<00:00, 17.54it/s]\n",
      "100%|██████████| 120/120 [00:00<00:00, 143.09it/s]\n",
      "  0%|          | 0/180 [00:00<?, ?it/s]"
     ]
    },
    {
     "name": "stdout",
     "output_type": "stream",
     "text": [
      "[Epoch 8/30] Train Loss: 0.0735 Val Loss: 0.0574 Train Acc: 0.9792 Val Acc: 0.9750\n"
     ]
    },
    {
     "name": "stderr",
     "output_type": "stream",
     "text": [
      "100%|██████████| 180/180 [00:10<00:00, 17.59it/s]\n",
      "100%|██████████| 120/120 [00:00<00:00, 141.44it/s]\n",
      "  1%|          | 2/180 [00:00<00:10, 17.44it/s]"
     ]
    },
    {
     "name": "stdout",
     "output_type": "stream",
     "text": [
      "[Epoch 9/30] Train Loss: 0.0481 Val Loss: 0.0430 Train Acc: 0.9875 Val Acc: 0.9917\n"
     ]
    },
    {
     "name": "stderr",
     "output_type": "stream",
     "text": [
      "100%|██████████| 180/180 [00:10<00:00, 17.46it/s]\n",
      "100%|██████████| 120/120 [00:00<00:00, 145.38it/s]\n",
      "  0%|          | 0/180 [00:00<?, ?it/s]"
     ]
    },
    {
     "name": "stdout",
     "output_type": "stream",
     "text": [
      "[Epoch 10/30] Train Loss: 0.0462 Val Loss: 0.0319 Train Acc: 0.9861 Val Acc: 0.9917\n"
     ]
    },
    {
     "name": "stderr",
     "output_type": "stream",
     "text": [
      "100%|██████████| 180/180 [00:10<00:00, 17.50it/s]\n",
      "100%|██████████| 120/120 [00:00<00:00, 142.13it/s]\n",
      "  0%|          | 0/180 [00:00<?, ?it/s]"
     ]
    },
    {
     "name": "stdout",
     "output_type": "stream",
     "text": [
      "[Epoch 11/30] Train Loss: 0.0345 Val Loss: 0.0292 Train Acc: 0.9931 Val Acc: 1.0000\n"
     ]
    },
    {
     "name": "stderr",
     "output_type": "stream",
     "text": [
      "100%|██████████| 180/180 [00:10<00:00, 17.43it/s]\n",
      "100%|██████████| 120/120 [00:00<00:00, 142.41it/s]\n",
      "  0%|          | 0/180 [00:00<?, ?it/s]"
     ]
    },
    {
     "name": "stdout",
     "output_type": "stream",
     "text": [
      "[Epoch 12/30] Train Loss: 0.0446 Val Loss: 0.0716 Train Acc: 0.9861 Val Acc: 0.9667\n"
     ]
    },
    {
     "name": "stderr",
     "output_type": "stream",
     "text": [
      "100%|██████████| 180/180 [00:10<00:00, 17.21it/s]\n",
      "100%|██████████| 120/120 [00:00<00:00, 144.55it/s]\n",
      "  0%|          | 0/180 [00:00<?, ?it/s]"
     ]
    },
    {
     "name": "stdout",
     "output_type": "stream",
     "text": [
      "[Epoch 13/30] Train Loss: 0.0224 Val Loss: 0.0592 Train Acc: 0.9958 Val Acc: 0.9750\n"
     ]
    },
    {
     "name": "stderr",
     "output_type": "stream",
     "text": [
      "100%|██████████| 180/180 [00:10<00:00, 17.36it/s]\n",
      "100%|██████████| 120/120 [00:00<00:00, 138.82it/s]\n",
      "  0%|          | 0/180 [00:00<?, ?it/s]"
     ]
    },
    {
     "name": "stdout",
     "output_type": "stream",
     "text": [
      "[Epoch 14/30] Train Loss: 0.0441 Val Loss: 0.1279 Train Acc: 0.9819 Val Acc: 0.9500\n"
     ]
    },
    {
     "name": "stderr",
     "output_type": "stream",
     "text": [
      "100%|██████████| 180/180 [00:10<00:00, 17.19it/s]\n",
      "100%|██████████| 120/120 [00:00<00:00, 143.58it/s]\n",
      "  0%|          | 0/180 [00:00<?, ?it/s]"
     ]
    },
    {
     "name": "stdout",
     "output_type": "stream",
     "text": [
      "[Epoch 15/30] Train Loss: 0.0313 Val Loss: 0.0585 Train Acc: 0.9903 Val Acc: 0.9833\n"
     ]
    },
    {
     "name": "stderr",
     "output_type": "stream",
     "text": [
      "100%|██████████| 180/180 [00:10<00:00, 17.32it/s]\n",
      "100%|██████████| 120/120 [00:00<00:00, 139.40it/s]\n",
      "  0%|          | 0/180 [00:00<?, ?it/s]"
     ]
    },
    {
     "name": "stdout",
     "output_type": "stream",
     "text": [
      "[Epoch 16/30] Train Loss: 0.0183 Val Loss: 0.0520 Train Acc: 0.9944 Val Acc: 0.9667\n"
     ]
    },
    {
     "name": "stderr",
     "output_type": "stream",
     "text": [
      "100%|██████████| 180/180 [00:10<00:00, 17.23it/s]\n",
      "100%|██████████| 120/120 [00:00<00:00, 143.17it/s]\n",
      "  0%|          | 0/180 [00:00<?, ?it/s]"
     ]
    },
    {
     "name": "stdout",
     "output_type": "stream",
     "text": [
      "[Epoch 17/30] Train Loss: 0.0122 Val Loss: 0.0188 Train Acc: 0.9972 Val Acc: 0.9917\n"
     ]
    },
    {
     "name": "stderr",
     "output_type": "stream",
     "text": [
      "100%|██████████| 180/180 [00:10<00:00, 16.85it/s]\n",
      "100%|██████████| 120/120 [00:00<00:00, 138.40it/s]\n",
      "  0%|          | 0/180 [00:00<?, ?it/s]"
     ]
    },
    {
     "name": "stdout",
     "output_type": "stream",
     "text": [
      "[Epoch 18/30] Train Loss: 0.0091 Val Loss: 0.0227 Train Acc: 1.0000 Val Acc: 0.9917\n"
     ]
    },
    {
     "name": "stderr",
     "output_type": "stream",
     "text": [
      "100%|██████████| 180/180 [00:10<00:00, 17.26it/s]\n",
      "100%|██████████| 120/120 [00:00<00:00, 148.31it/s]\n",
      "  1%|          | 2/180 [00:00<00:10, 17.51it/s]"
     ]
    },
    {
     "name": "stdout",
     "output_type": "stream",
     "text": [
      "[Epoch 19/30] Train Loss: 0.0084 Val Loss: 0.0153 Train Acc: 0.9986 Val Acc: 0.9917\n"
     ]
    },
    {
     "name": "stderr",
     "output_type": "stream",
     "text": [
      "100%|██████████| 180/180 [00:10<00:00, 17.22it/s]\n",
      "100%|██████████| 120/120 [00:00<00:00, 138.66it/s]\n",
      "  0%|          | 0/180 [00:00<?, ?it/s]"
     ]
    },
    {
     "name": "stdout",
     "output_type": "stream",
     "text": [
      "[Epoch 20/30] Train Loss: 0.0105 Val Loss: 0.0614 Train Acc: 0.9986 Val Acc: 0.9750\n"
     ]
    },
    {
     "name": "stderr",
     "output_type": "stream",
     "text": [
      "100%|██████████| 180/180 [00:10<00:00, 17.14it/s]\n",
      "100%|██████████| 120/120 [00:00<00:00, 139.69it/s]\n",
      "  0%|          | 0/180 [00:00<?, ?it/s]"
     ]
    },
    {
     "name": "stdout",
     "output_type": "stream",
     "text": [
      "[Epoch 21/30] Train Loss: 0.0044 Val Loss: 0.0157 Train Acc: 1.0000 Val Acc: 0.9917\n"
     ]
    },
    {
     "name": "stderr",
     "output_type": "stream",
     "text": [
      "100%|██████████| 180/180 [00:10<00:00, 17.10it/s]\n",
      "100%|██████████| 120/120 [00:00<00:00, 138.73it/s]\n",
      "  0%|          | 0/180 [00:00<?, ?it/s]"
     ]
    },
    {
     "name": "stdout",
     "output_type": "stream",
     "text": [
      "[Epoch 22/30] Train Loss: 0.0027 Val Loss: 0.0309 Train Acc: 1.0000 Val Acc: 0.9833\n"
     ]
    },
    {
     "name": "stderr",
     "output_type": "stream",
     "text": [
      "100%|██████████| 180/180 [00:10<00:00, 17.17it/s]\n",
      "100%|██████████| 120/120 [00:00<00:00, 132.95it/s]\n",
      "  0%|          | 0/180 [00:00<?, ?it/s]"
     ]
    },
    {
     "name": "stdout",
     "output_type": "stream",
     "text": [
      "[Epoch 23/30] Train Loss: 0.0152 Val Loss: 0.1964 Train Acc: 0.9931 Val Acc: 0.9417\n"
     ]
    },
    {
     "name": "stderr",
     "output_type": "stream",
     "text": [
      "100%|██████████| 180/180 [00:10<00:00, 17.23it/s]\n",
      "100%|██████████| 120/120 [00:00<00:00, 141.26it/s]\n",
      "  0%|          | 0/180 [00:00<?, ?it/s]"
     ]
    },
    {
     "name": "stdout",
     "output_type": "stream",
     "text": [
      "[Epoch 24/30] Train Loss: 0.0567 Val Loss: 0.0565 Train Acc: 0.9833 Val Acc: 0.9833\n"
     ]
    },
    {
     "name": "stderr",
     "output_type": "stream",
     "text": [
      "100%|██████████| 180/180 [00:10<00:00, 16.88it/s]\n",
      "100%|██████████| 120/120 [00:00<00:00, 144.19it/s]\n",
      "  1%|          | 2/180 [00:00<00:10, 17.46it/s]"
     ]
    },
    {
     "name": "stdout",
     "output_type": "stream",
     "text": [
      "[Epoch 25/30] Train Loss: 0.0073 Val Loss: 0.0361 Train Acc: 0.9986 Val Acc: 0.9750\n"
     ]
    },
    {
     "name": "stderr",
     "output_type": "stream",
     "text": [
      "100%|██████████| 180/180 [00:10<00:00, 16.95it/s]\n",
      "100%|██████████| 120/120 [00:00<00:00, 141.15it/s]\n",
      "  0%|          | 0/180 [00:00<?, ?it/s]"
     ]
    },
    {
     "name": "stdout",
     "output_type": "stream",
     "text": [
      "[Epoch 26/30] Train Loss: 0.0040 Val Loss: 0.0160 Train Acc: 1.0000 Val Acc: 1.0000\n"
     ]
    },
    {
     "name": "stderr",
     "output_type": "stream",
     "text": [
      "100%|██████████| 180/180 [00:10<00:00, 17.14it/s]\n",
      "100%|██████████| 120/120 [00:00<00:00, 137.37it/s]\n",
      "  0%|          | 0/180 [00:00<?, ?it/s]"
     ]
    },
    {
     "name": "stdout",
     "output_type": "stream",
     "text": [
      "[Epoch 27/30] Train Loss: 0.0035 Val Loss: 0.0260 Train Acc: 1.0000 Val Acc: 0.9833\n"
     ]
    },
    {
     "name": "stderr",
     "output_type": "stream",
     "text": [
      "100%|██████████| 180/180 [00:10<00:00, 17.00it/s]\n",
      "100%|██████████| 120/120 [00:00<00:00, 134.98it/s]\n",
      "  0%|          | 0/180 [00:00<?, ?it/s]"
     ]
    },
    {
     "name": "stdout",
     "output_type": "stream",
     "text": [
      "[Epoch 28/30] Train Loss: 0.0013 Val Loss: 0.0178 Train Acc: 1.0000 Val Acc: 1.0000\n"
     ]
    },
    {
     "name": "stderr",
     "output_type": "stream",
     "text": [
      "100%|██████████| 180/180 [00:10<00:00, 17.03it/s]\n",
      "100%|██████████| 120/120 [00:00<00:00, 137.95it/s]\n"
     ]
    },
    {
     "name": "stdout",
     "output_type": "stream",
     "text": [
      "[Epoch 29/30] Train Loss: 0.0013 Val Loss: 0.0345 Train Acc: 1.0000 Val Acc: 0.9917\n",
      "Early stopping triggered\n",
      "Testing model...\n",
      "Accuracy: 0.9861111111111112\n",
      "Classification Report:\n",
      "               precision    recall  f1-score   support\n",
      "\n",
      "           0       1.00      0.98      0.99        90\n",
      "           1       0.98      0.99      0.98        90\n",
      "           2       0.98      1.00      0.99        90\n",
      "           3       0.99      0.98      0.98        90\n",
      "\n",
      "    accuracy                           0.99       360\n",
      "   macro avg       0.99      0.99      0.99       360\n",
      "weighted avg       0.99      0.99      0.99       360\n",
      "\n",
      "Confusion Matrix:\n",
      " [[88  0  1  1]\n",
      " [ 0 89  1  0]\n",
      " [ 0  0 90  0]\n",
      " [ 0  2  0 88]]\n",
      "Test time: 2.55 seconds\n",
      "Test Accuracy: 0.9861\n",
      "Model saved at ../models/alexnet-2025-03-29-13:35:28.pt\n"
     ]
    },
    {
     "name": "stderr",
     "output_type": "stream",
     "text": [
      "wandb: uploading artifact alexnet-model; uploading wandb-summary.json; uploading config.yaml\n",
      "wandb: uploading artifact alexnet-model\n",
      "wandb:                                                                                \n",
      "wandb: \n",
      "wandb: Run history:\n",
      "wandb:  train_acc ▁▅▇▇▇████████████████████████\n",
      "wandb: train_loss █▄▃▂▂▂▂▁▁▁▁▁▁▁▁▁▁▁▁▁▁▁▁▁▁▁▁▁▁\n",
      "wandb:    val_acc ▁▆▇▇▇▇▇▇███▇▇▇█▇███▇██▇█▇████\n",
      "wandb:   val_loss █▄▂▂▂▂▂▁▁▁▁▁▁▂▁▁▁▁▁▁▁▁▃▁▁▁▁▁▁\n",
      "wandb: \n",
      "wandb: Run summary:\n",
      "wandb:  train_acc 1\n",
      "wandb: train_loss 0.00131\n",
      "wandb:    val_acc 0.99167\n",
      "wandb:   val_loss 0.03452\n",
      "wandb: \n",
      "wandb: 🚀 View run serene-sweep-2 at: https://wandb.ai/beehappy2554-bosch-global/hutech_mushroom/runs/1usdczqc\n",
      "wandb: ⭐️ View project at: https://wandb.ai/beehappy2554-bosch-global/hutech_mushroom\n",
      "wandb: Synced 5 W&B file(s), 1 media file(s), 4 artifact file(s) and 0 other file(s)\n",
      "wandb: Find logs at: ./wandb/run-20250329_133518-1usdczqc/logs\n",
      "\u001b[34m\u001b[1mwandb\u001b[0m: Agent Starting Run: 97cp8i4w with config:\n",
      "\u001b[34m\u001b[1mwandb\u001b[0m: \tbatch_size: 4\n",
      "\u001b[34m\u001b[1mwandb\u001b[0m: \tbrightness: 0\n",
      "\u001b[34m\u001b[1mwandb\u001b[0m: \tcontrast: 0\n",
      "\u001b[34m\u001b[1mwandb\u001b[0m: \tdataset: hutech-dataset:latest\n",
      "\u001b[34m\u001b[1mwandb\u001b[0m: \tes_patience: 10\n",
      "\u001b[34m\u001b[1mwandb\u001b[0m: \thorizontal_flip: 0\n",
      "\u001b[34m\u001b[1mwandb\u001b[0m: \thue: 0\n",
      "\u001b[34m\u001b[1mwandb\u001b[0m: \tlr: 1e-05\n",
      "\u001b[34m\u001b[1mwandb\u001b[0m: \tmodel: alexnet\n",
      "\u001b[34m\u001b[1mwandb\u001b[0m: \tmomentum: 0.9\n",
      "\u001b[34m\u001b[1mwandb\u001b[0m: \tnum_classes: 4\n",
      "\u001b[34m\u001b[1mwandb\u001b[0m: \tnum_epochs: 30\n",
      "\u001b[34m\u001b[1mwandb\u001b[0m: \toptimizer: adam\n",
      "\u001b[34m\u001b[1mwandb\u001b[0m: \trandom_rotation: 0\n",
      "\u001b[34m\u001b[1mwandb\u001b[0m: \tresize: 224\n",
      "\u001b[34m\u001b[1mwandb\u001b[0m: \tsaturation: 0.2\n",
      "\u001b[34m\u001b[1mwandb\u001b[0m: \tscheduler: reduce_lr_on_plateau\n",
      "\u001b[34m\u001b[1mwandb\u001b[0m: \tvertical_flip: 0\n",
      "\u001b[34m\u001b[1mwandb\u001b[0m: \tweight_decay: 0.0001\n"
     ]
    },
    {
     "name": "stdout",
     "output_type": "stream",
     "text": [
      "args Namespace(model='alexnet', config=None, project='hutech_mushroom', dataset='hutech-dataset:latest')\n"
     ]
    },
    {
     "name": "stderr",
     "output_type": "stream",
     "text": [
      "wandb: Using wandb-core as the SDK backend.  Please refer to https://wandb.me/wandb-core for more information.\n",
      "wandb: Currently logged in as: beehappy2554 (beehappy2554-bosch-global) to https://api.wandb.ai. Use `wandb login --relogin` to force relogin\n",
      "wandb: WARNING Ignoring project 'hutech_mushroom' when running a sweep.\n",
      "wandb: Tracking run with wandb version 0.19.8\n",
      "wandb: Run data is saved locally in /mnt/c/Users/beeha/VSCode/! - Self-study/All HUGE Projects/Computer Vision/hutech_mushroom/src/wandb/run-20250329_134147-97cp8i4w\n",
      "wandb: Run `wandb offline` to turn off syncing.\n",
      "wandb: Syncing run revived-sweep-3\n",
      "wandb: ⭐️ View project at https://wandb.ai/beehappy2554-bosch-global/hutech_mushroom\n",
      "wandb: 🧹 View sweep at https://wandb.ai/beehappy2554-bosch-global/hutech_mushroom/sweeps/l64vt3el\n",
      "wandb: 🚀 View run at https://wandb.ai/beehappy2554-bosch-global/hutech_mushroom/runs/97cp8i4w\n"
     ]
    },
    {
     "name": "stdout",
     "output_type": "stream",
     "text": [
      "here config!!! None\n",
      "HERE config! {'batch_size': 4, 'brightness': 0, 'contrast': 0, 'dataset': 'hutech-dataset:latest', 'es_patience': 10, 'horizontal_flip': 0, 'hue': 0, 'lr': 1e-05, 'model': 'alexnet', 'momentum': 0.9, 'num_classes': 4, 'num_epochs': 30, 'optimizer': 'adam', 'random_rotation': 0, 'resize': 224, 'saturation': 0.2, 'scheduler': 'reduce_lr_on_plateau', 'vertical_flip': 0, 'weight_decay': 0.0001}\n"
     ]
    },
    {
     "name": "stderr",
     "output_type": "stream",
     "text": [
      "wandb:   1205 of 1205 files downloaded.  \n"
     ]
    },
    {
     "name": "stdout",
     "output_type": "stream",
     "text": [
      "{'batch_size': 4, 'brightness': 0, 'contrast': 0, 'dataset': 'hutech-dataset:latest', 'es_patience': 10, 'horizontal_flip': 0, 'hue': 0, 'lr': 1e-05, 'model': 'alexnet', 'momentum': 0.9, 'num_classes': 4, 'num_epochs': 30, 'optimizer': 'adam', 'random_rotation': 0, 'resize': 224, 'saturation': 0.2, 'scheduler': 'reduce_lr_on_plateau', 'vertical_flip': 0, 'weight_decay': 0.0001}\n",
      "Training model...\n",
      "Device: cuda\n",
      "Number of epochs: 30\n",
      "Optimizer: Adam (\n",
      "Parameter Group 0\n",
      "    amsgrad: False\n",
      "    betas: (0.9, 0.999)\n",
      "    capturable: False\n",
      "    differentiable: False\n",
      "    eps: 1e-08\n",
      "    foreach: None\n",
      "    fused: None\n",
      "    lr: 1e-05\n",
      "    maximize: False\n",
      "    weight_decay: 0.0001\n",
      ")\n",
      "Criterion: CrossEntropyLoss()\n",
      "Scheduler: <torch.optim.lr_scheduler.ReduceLROnPlateau object at 0x7fc056087850>\n",
      "Batch size: 4\n",
      "Early stopping: 10\n",
      "Dataset: 720 training samples, 120 validation samples\n"
     ]
    },
    {
     "name": "stderr",
     "output_type": "stream",
     "text": [
      "100%|██████████| 180/180 [00:10<00:00, 17.37it/s]\n",
      "100%|██████████| 120/120 [00:00<00:00, 156.83it/s]\n",
      "  1%|          | 2/180 [00:00<00:09, 18.03it/s]"
     ]
    },
    {
     "name": "stdout",
     "output_type": "stream",
     "text": [
      "[Epoch 1/30] Train Loss: 0.9240 Val Loss: 0.5068 Train Acc: 0.6889 Val Acc: 0.8417\n"
     ]
    },
    {
     "name": "stderr",
     "output_type": "stream",
     "text": [
      "100%|██████████| 180/180 [00:10<00:00, 17.36it/s]\n",
      "100%|██████████| 120/120 [00:00<00:00, 122.85it/s]\n",
      "  0%|          | 0/180 [00:00<?, ?it/s]"
     ]
    },
    {
     "name": "stdout",
     "output_type": "stream",
     "text": [
      "[Epoch 2/30] Train Loss: 0.3265 Val Loss: 0.2885 Train Acc: 0.9097 Val Acc: 0.8917\n"
     ]
    },
    {
     "name": "stderr",
     "output_type": "stream",
     "text": [
      "100%|██████████| 180/180 [00:10<00:00, 16.77it/s]\n",
      "100%|██████████| 120/120 [00:00<00:00, 129.42it/s]\n",
      "  0%|          | 0/180 [00:00<?, ?it/s]"
     ]
    },
    {
     "name": "stdout",
     "output_type": "stream",
     "text": [
      "[Epoch 3/30] Train Loss: 0.1786 Val Loss: 0.1708 Train Acc: 0.9444 Val Acc: 0.9167\n"
     ]
    },
    {
     "name": "stderr",
     "output_type": "stream",
     "text": [
      "100%|██████████| 180/180 [00:10<00:00, 16.75it/s]\n",
      "100%|██████████| 120/120 [00:00<00:00, 141.50it/s]\n",
      "  0%|          | 0/180 [00:00<?, ?it/s]"
     ]
    },
    {
     "name": "stdout",
     "output_type": "stream",
     "text": [
      "[Epoch 4/30] Train Loss: 0.0961 Val Loss: 0.2965 Train Acc: 0.9722 Val Acc: 0.9000\n"
     ]
    },
    {
     "name": "stderr",
     "output_type": "stream",
     "text": [
      "100%|██████████| 180/180 [00:10<00:00, 16.78it/s]\n",
      "100%|██████████| 120/120 [00:00<00:00, 145.58it/s]\n",
      "  0%|          | 0/180 [00:00<?, ?it/s]"
     ]
    },
    {
     "name": "stdout",
     "output_type": "stream",
     "text": [
      "[Epoch 5/30] Train Loss: 0.0612 Val Loss: 0.0978 Train Acc: 0.9861 Val Acc: 0.9667\n"
     ]
    },
    {
     "name": "stderr",
     "output_type": "stream",
     "text": [
      "100%|██████████| 180/180 [00:10<00:00, 16.77it/s]\n",
      "100%|██████████| 120/120 [00:00<00:00, 137.41it/s]\n",
      "  1%|          | 2/180 [00:00<00:10, 16.89it/s]"
     ]
    },
    {
     "name": "stdout",
     "output_type": "stream",
     "text": [
      "[Epoch 6/30] Train Loss: 0.0476 Val Loss: 0.1151 Train Acc: 0.9861 Val Acc: 0.9583\n"
     ]
    },
    {
     "name": "stderr",
     "output_type": "stream",
     "text": [
      "100%|██████████| 180/180 [00:10<00:00, 16.70it/s]\n",
      "100%|██████████| 120/120 [00:00<00:00, 137.07it/s]\n",
      "  1%|          | 2/180 [00:00<00:10, 16.30it/s]"
     ]
    },
    {
     "name": "stdout",
     "output_type": "stream",
     "text": [
      "[Epoch 7/30] Train Loss: 0.0437 Val Loss: 0.1143 Train Acc: 0.9875 Val Acc: 0.9417\n"
     ]
    },
    {
     "name": "stderr",
     "output_type": "stream",
     "text": [
      "100%|██████████| 180/180 [00:10<00:00, 16.56it/s]\n",
      "100%|██████████| 120/120 [00:00<00:00, 149.02it/s]\n",
      "  0%|          | 0/180 [00:00<?, ?it/s]"
     ]
    },
    {
     "name": "stdout",
     "output_type": "stream",
     "text": [
      "[Epoch 8/30] Train Loss: 0.0179 Val Loss: 0.1270 Train Acc: 0.9986 Val Acc: 0.9500\n"
     ]
    },
    {
     "name": "stderr",
     "output_type": "stream",
     "text": [
      "100%|██████████| 180/180 [00:10<00:00, 16.58it/s]\n",
      "100%|██████████| 120/120 [00:00<00:00, 149.01it/s]\n",
      "  1%|          | 2/180 [00:00<00:10, 16.64it/s]"
     ]
    },
    {
     "name": "stdout",
     "output_type": "stream",
     "text": [
      "[Epoch 9/30] Train Loss: 0.0197 Val Loss: 0.0928 Train Acc: 0.9917 Val Acc: 0.9667\n"
     ]
    },
    {
     "name": "stderr",
     "output_type": "stream",
     "text": [
      "100%|██████████| 180/180 [00:10<00:00, 16.67it/s]\n",
      "100%|██████████| 120/120 [00:00<00:00, 144.38it/s]\n",
      "  1%|          | 2/180 [00:00<00:10, 16.26it/s]"
     ]
    },
    {
     "name": "stdout",
     "output_type": "stream",
     "text": [
      "[Epoch 10/30] Train Loss: 0.0117 Val Loss: 0.0909 Train Acc: 0.9986 Val Acc: 0.9667\n"
     ]
    },
    {
     "name": "stderr",
     "output_type": "stream",
     "text": [
      "100%|██████████| 180/180 [00:11<00:00, 16.32it/s]\n",
      "100%|██████████| 120/120 [00:00<00:00, 147.15it/s]\n",
      "  0%|          | 0/180 [00:00<?, ?it/s]"
     ]
    },
    {
     "name": "stdout",
     "output_type": "stream",
     "text": [
      "[Epoch 11/30] Train Loss: 0.0149 Val Loss: 0.1168 Train Acc: 0.9986 Val Acc: 0.9750\n"
     ]
    },
    {
     "name": "stderr",
     "output_type": "stream",
     "text": [
      "100%|██████████| 180/180 [00:11<00:00, 16.29it/s]\n",
      "100%|██████████| 120/120 [00:00<00:00, 149.33it/s]\n",
      "  1%|          | 2/180 [00:00<00:10, 16.97it/s]"
     ]
    },
    {
     "name": "stdout",
     "output_type": "stream",
     "text": [
      "[Epoch 12/30] Train Loss: 0.0037 Val Loss: 0.1233 Train Acc: 1.0000 Val Acc: 0.9583\n"
     ]
    },
    {
     "name": "stderr",
     "output_type": "stream",
     "text": [
      "100%|██████████| 180/180 [00:10<00:00, 16.44it/s]\n",
      "100%|██████████| 120/120 [00:00<00:00, 135.00it/s]\n",
      "  1%|          | 2/180 [00:00<00:10, 16.48it/s]"
     ]
    },
    {
     "name": "stdout",
     "output_type": "stream",
     "text": [
      "[Epoch 13/30] Train Loss: 0.0026 Val Loss: 0.0746 Train Acc: 1.0000 Val Acc: 0.9667\n"
     ]
    },
    {
     "name": "stderr",
     "output_type": "stream",
     "text": [
      "100%|██████████| 180/180 [00:11<00:00, 16.31it/s]\n",
      "100%|██████████| 120/120 [00:00<00:00, 144.50it/s]\n",
      "  0%|          | 0/180 [00:00<?, ?it/s]"
     ]
    },
    {
     "name": "stdout",
     "output_type": "stream",
     "text": [
      "[Epoch 14/30] Train Loss: 0.0032 Val Loss: 0.0630 Train Acc: 1.0000 Val Acc: 0.9750\n"
     ]
    },
    {
     "name": "stderr",
     "output_type": "stream",
     "text": [
      "100%|██████████| 180/180 [00:10<00:00, 16.45it/s]\n",
      "100%|██████████| 120/120 [00:00<00:00, 135.33it/s]\n",
      "  0%|          | 0/180 [00:00<?, ?it/s]"
     ]
    },
    {
     "name": "stdout",
     "output_type": "stream",
     "text": [
      "[Epoch 15/30] Train Loss: 0.0014 Val Loss: 0.0873 Train Acc: 1.0000 Val Acc: 0.9750\n"
     ]
    },
    {
     "name": "stderr",
     "output_type": "stream",
     "text": [
      "100%|██████████| 180/180 [00:11<00:00, 16.31it/s]\n",
      "100%|██████████| 120/120 [00:00<00:00, 138.92it/s]\n",
      "  0%|          | 0/180 [00:00<?, ?it/s]"
     ]
    },
    {
     "name": "stdout",
     "output_type": "stream",
     "text": [
      "[Epoch 16/30] Train Loss: 0.0065 Val Loss: 0.0821 Train Acc: 0.9972 Val Acc: 0.9500\n"
     ]
    },
    {
     "name": "stderr",
     "output_type": "stream",
     "text": [
      "100%|██████████| 180/180 [00:11<00:00, 16.29it/s]\n",
      "100%|██████████| 120/120 [00:00<00:00, 143.18it/s]\n",
      "  0%|          | 0/180 [00:00<?, ?it/s]"
     ]
    },
    {
     "name": "stdout",
     "output_type": "stream",
     "text": [
      "[Epoch 17/30] Train Loss: 0.0028 Val Loss: 0.0997 Train Acc: 1.0000 Val Acc: 0.9750\n"
     ]
    },
    {
     "name": "stderr",
     "output_type": "stream",
     "text": [
      "100%|██████████| 180/180 [00:10<00:00, 16.48it/s]\n",
      "100%|██████████| 120/120 [00:00<00:00, 142.36it/s]\n",
      "  0%|          | 0/180 [00:00<?, ?it/s]"
     ]
    },
    {
     "name": "stdout",
     "output_type": "stream",
     "text": [
      "[Epoch 18/30] Train Loss: 0.0024 Val Loss: 0.1727 Train Acc: 1.0000 Val Acc: 0.9667\n"
     ]
    },
    {
     "name": "stderr",
     "output_type": "stream",
     "text": [
      "100%|██████████| 180/180 [00:11<00:00, 16.10it/s]\n",
      "100%|██████████| 120/120 [00:00<00:00, 141.26it/s]\n",
      "  0%|          | 0/180 [00:00<?, ?it/s]"
     ]
    },
    {
     "name": "stdout",
     "output_type": "stream",
     "text": [
      "[Epoch 19/30] Train Loss: 0.0007 Val Loss: 0.1012 Train Acc: 1.0000 Val Acc: 0.9667\n"
     ]
    },
    {
     "name": "stderr",
     "output_type": "stream",
     "text": [
      "100%|██████████| 180/180 [00:11<00:00, 16.12it/s]\n",
      "100%|██████████| 120/120 [00:00<00:00, 137.57it/s]\n",
      "  0%|          | 0/180 [00:00<?, ?it/s]"
     ]
    },
    {
     "name": "stdout",
     "output_type": "stream",
     "text": [
      "[Epoch 20/30] Train Loss: 0.0229 Val Loss: 0.1493 Train Acc: 0.9931 Val Acc: 0.9583\n"
     ]
    },
    {
     "name": "stderr",
     "output_type": "stream",
     "text": [
      "100%|██████████| 180/180 [00:11<00:00, 16.29it/s]\n",
      "100%|██████████| 120/120 [00:00<00:00, 140.90it/s]\n",
      "  0%|          | 0/180 [00:00<?, ?it/s]"
     ]
    },
    {
     "name": "stdout",
     "output_type": "stream",
     "text": [
      "[Epoch 21/30] Train Loss: 0.0054 Val Loss: 0.0873 Train Acc: 0.9986 Val Acc: 0.9667\n"
     ]
    },
    {
     "name": "stderr",
     "output_type": "stream",
     "text": [
      "100%|██████████| 180/180 [00:10<00:00, 16.37it/s]\n",
      "100%|██████████| 120/120 [00:00<00:00, 142.54it/s]\n",
      "  0%|          | 0/180 [00:00<?, ?it/s]"
     ]
    },
    {
     "name": "stdout",
     "output_type": "stream",
     "text": [
      "[Epoch 22/30] Train Loss: 0.0011 Val Loss: 0.0661 Train Acc: 1.0000 Val Acc: 0.9750\n"
     ]
    },
    {
     "name": "stderr",
     "output_type": "stream",
     "text": [
      "100%|██████████| 180/180 [00:11<00:00, 16.25it/s]\n",
      "100%|██████████| 120/120 [00:00<00:00, 134.36it/s]\n",
      "  0%|          | 0/180 [00:00<?, ?it/s]"
     ]
    },
    {
     "name": "stdout",
     "output_type": "stream",
     "text": [
      "[Epoch 23/30] Train Loss: 0.0007 Val Loss: 0.0977 Train Acc: 1.0000 Val Acc: 0.9750\n"
     ]
    },
    {
     "name": "stderr",
     "output_type": "stream",
     "text": [
      "100%|██████████| 180/180 [00:11<00:00, 16.07it/s]\n",
      "100%|██████████| 120/120 [00:00<00:00, 134.97it/s]\n"
     ]
    },
    {
     "name": "stdout",
     "output_type": "stream",
     "text": [
      "[Epoch 24/30] Train Loss: 0.0011 Val Loss: 0.1256 Train Acc: 1.0000 Val Acc: 0.9667\n",
      "Early stopping triggered\n",
      "Testing model...\n",
      "Accuracy: 0.9861111111111112\n",
      "Classification Report:\n",
      "               precision    recall  f1-score   support\n",
      "\n",
      "           0       1.00      1.00      1.00        90\n",
      "           1       0.99      0.97      0.98        90\n",
      "           2       0.99      1.00      0.99        90\n",
      "           3       0.97      0.98      0.97        90\n",
      "\n",
      "    accuracy                           0.99       360\n",
      "   macro avg       0.99      0.99      0.99       360\n",
      "weighted avg       0.99      0.99      0.99       360\n",
      "\n",
      "Confusion Matrix:\n",
      " [[90  0  0  0]\n",
      " [ 0 87  0  3]\n",
      " [ 0  0 90  0]\n",
      " [ 0  1  1 88]]\n",
      "Test time: 2.56 seconds\n",
      "Test Accuracy: 0.9861\n",
      "Model saved at ../models/alexnet-2025-03-29-13:41:56.pt\n"
     ]
    },
    {
     "name": "stderr",
     "output_type": "stream",
     "text": [
      "wandb: uploading artifact alexnet-model; uploading wandb-summary.json; uploading config.yaml\n",
      "wandb: uploading artifact alexnet-model\n",
      "wandb:                                                                                \n",
      "wandb: \n",
      "wandb: Run history:\n",
      "wandb:  train_acc ▁▆▇▇████████████████████\n",
      "wandb: train_loss █▃▂▂▁▁▁▁▁▁▁▁▁▁▁▁▁▁▁▁▁▁▁▁\n",
      "wandb:    val_acc ▁▄▅▄█▇▆▇███▇███▇███▇████\n",
      "wandb:   val_loss █▅▃▅▂▂▂▂▁▁▂▂▁▁▁▁▂▃▂▂▁▁▂▂\n",
      "wandb: \n",
      "wandb: Run summary:\n",
      "wandb:  train_acc 1\n",
      "wandb: train_loss 0.00112\n",
      "wandb:    val_acc 0.96667\n",
      "wandb:   val_loss 0.12563\n",
      "wandb: \n",
      "wandb: 🚀 View run revived-sweep-3 at: https://wandb.ai/beehappy2554-bosch-global/hutech_mushroom/runs/97cp8i4w\n",
      "wandb: ⭐️ View project at: https://wandb.ai/beehappy2554-bosch-global/hutech_mushroom\n",
      "wandb: Synced 5 W&B file(s), 1 media file(s), 4 artifact file(s) and 0 other file(s)\n",
      "wandb: Find logs at: ./wandb/run-20250329_134147-97cp8i4w/logs\n",
      "\u001b[34m\u001b[1mwandb\u001b[0m: Agent Starting Run: jrgpvy9v with config:\n",
      "\u001b[34m\u001b[1mwandb\u001b[0m: \tbatch_size: 4\n",
      "\u001b[34m\u001b[1mwandb\u001b[0m: \tbrightness: 0\n",
      "\u001b[34m\u001b[1mwandb\u001b[0m: \tcontrast: 0\n",
      "\u001b[34m\u001b[1mwandb\u001b[0m: \tdataset: hutech-dataset:latest\n",
      "\u001b[34m\u001b[1mwandb\u001b[0m: \tes_patience: 10\n",
      "\u001b[34m\u001b[1mwandb\u001b[0m: \thorizontal_flip: 0\n",
      "\u001b[34m\u001b[1mwandb\u001b[0m: \thue: 0\n",
      "\u001b[34m\u001b[1mwandb\u001b[0m: \tlr: 1e-05\n",
      "\u001b[34m\u001b[1mwandb\u001b[0m: \tmodel: alexnet\n",
      "\u001b[34m\u001b[1mwandb\u001b[0m: \tmomentum: 0.9\n",
      "\u001b[34m\u001b[1mwandb\u001b[0m: \tnum_classes: 4\n",
      "\u001b[34m\u001b[1mwandb\u001b[0m: \tnum_epochs: 30\n",
      "\u001b[34m\u001b[1mwandb\u001b[0m: \toptimizer: adam\n",
      "\u001b[34m\u001b[1mwandb\u001b[0m: \trandom_rotation: 0\n",
      "\u001b[34m\u001b[1mwandb\u001b[0m: \tresize: 224\n",
      "\u001b[34m\u001b[1mwandb\u001b[0m: \tsaturation: 0.2\n",
      "\u001b[34m\u001b[1mwandb\u001b[0m: \tscheduler: reduce_lr_on_plateau\n",
      "\u001b[34m\u001b[1mwandb\u001b[0m: \tvertical_flip: 0.5\n",
      "\u001b[34m\u001b[1mwandb\u001b[0m: \tweight_decay: 0.0001\n"
     ]
    },
    {
     "name": "stdout",
     "output_type": "stream",
     "text": [
      "args Namespace(model='alexnet', config=None, project='hutech_mushroom', dataset='hutech-dataset:latest')\n"
     ]
    },
    {
     "name": "stderr",
     "output_type": "stream",
     "text": [
      "wandb: Using wandb-core as the SDK backend.  Please refer to https://wandb.me/wandb-core for more information.\n",
      "wandb: Currently logged in as: beehappy2554 (beehappy2554-bosch-global) to https://api.wandb.ai. Use `wandb login --relogin` to force relogin\n",
      "wandb: WARNING Ignoring project 'hutech_mushroom' when running a sweep.\n",
      "wandb: Tracking run with wandb version 0.19.8\n",
      "wandb: Run data is saved locally in /mnt/c/Users/beeha/VSCode/! - Self-study/All HUGE Projects/Computer Vision/hutech_mushroom/src/wandb/run-20250329_134727-jrgpvy9v\n",
      "wandb: Run `wandb offline` to turn off syncing.\n",
      "wandb: Syncing run dutiful-sweep-4\n",
      "wandb: ⭐️ View project at https://wandb.ai/beehappy2554-bosch-global/hutech_mushroom\n",
      "wandb: 🧹 View sweep at https://wandb.ai/beehappy2554-bosch-global/hutech_mushroom/sweeps/l64vt3el\n",
      "wandb: 🚀 View run at https://wandb.ai/beehappy2554-bosch-global/hutech_mushroom/runs/jrgpvy9v\n"
     ]
    },
    {
     "name": "stdout",
     "output_type": "stream",
     "text": [
      "here config!!! None\n",
      "HERE config! {'batch_size': 4, 'brightness': 0, 'contrast': 0, 'dataset': 'hutech-dataset:latest', 'es_patience': 10, 'horizontal_flip': 0, 'hue': 0, 'lr': 1e-05, 'model': 'alexnet', 'momentum': 0.9, 'num_classes': 4, 'num_epochs': 30, 'optimizer': 'adam', 'random_rotation': 0, 'resize': 224, 'saturation': 0.2, 'scheduler': 'reduce_lr_on_plateau', 'vertical_flip': 0.5, 'weight_decay': 0.0001}\n"
     ]
    },
    {
     "name": "stderr",
     "output_type": "stream",
     "text": [
      "wandb:   1205 of 1205 files downloaded.  \n"
     ]
    },
    {
     "name": "stdout",
     "output_type": "stream",
     "text": [
      "{'batch_size': 4, 'brightness': 0, 'contrast': 0, 'dataset': 'hutech-dataset:latest', 'es_patience': 10, 'horizontal_flip': 0, 'hue': 0, 'lr': 1e-05, 'model': 'alexnet', 'momentum': 0.9, 'num_classes': 4, 'num_epochs': 30, 'optimizer': 'adam', 'random_rotation': 0, 'resize': 224, 'saturation': 0.2, 'scheduler': 'reduce_lr_on_plateau', 'vertical_flip': 0.5, 'weight_decay': 0.0001}\n",
      "Training model...\n",
      "Device: cuda\n",
      "Number of epochs: 30\n",
      "Optimizer: Adam (\n",
      "Parameter Group 0\n",
      "    amsgrad: False\n",
      "    betas: (0.9, 0.999)\n",
      "    capturable: False\n",
      "    differentiable: False\n",
      "    eps: 1e-08\n",
      "    foreach: None\n",
      "    fused: None\n",
      "    lr: 1e-05\n",
      "    maximize: False\n",
      "    weight_decay: 0.0001\n",
      ")\n",
      "Criterion: CrossEntropyLoss()\n",
      "Scheduler: <torch.optim.lr_scheduler.ReduceLROnPlateau object at 0x7f33f7028a30>\n",
      "Batch size: 4\n",
      "Early stopping: 10\n",
      "Dataset: 720 training samples, 120 validation samples\n"
     ]
    },
    {
     "name": "stderr",
     "output_type": "stream",
     "text": [
      "100%|██████████| 180/180 [00:10<00:00, 16.99it/s]\n",
      "100%|██████████| 120/120 [00:00<00:00, 130.12it/s]\n",
      "  0%|          | 0/180 [00:00<?, ?it/s]"
     ]
    },
    {
     "name": "stdout",
     "output_type": "stream",
     "text": [
      "[Epoch 1/30] Train Loss: 1.0615 Val Loss: 0.6930 Train Acc: 0.5819 Val Acc: 0.8000\n"
     ]
    },
    {
     "name": "stderr",
     "output_type": "stream",
     "text": [
      "100%|██████████| 180/180 [00:10<00:00, 16.43it/s]\n",
      "100%|██████████| 120/120 [00:00<00:00, 131.78it/s]\n",
      "  0%|          | 0/180 [00:00<?, ?it/s]"
     ]
    },
    {
     "name": "stdout",
     "output_type": "stream",
     "text": [
      "[Epoch 2/30] Train Loss: 0.5099 Val Loss: 0.3977 Train Acc: 0.8333 Val Acc: 0.8750\n"
     ]
    },
    {
     "name": "stderr",
     "output_type": "stream",
     "text": [
      "100%|██████████| 180/180 [00:11<00:00, 16.35it/s]\n",
      "100%|██████████| 120/120 [00:00<00:00, 127.95it/s]\n",
      "  0%|          | 0/180 [00:00<?, ?it/s]"
     ]
    },
    {
     "name": "stdout",
     "output_type": "stream",
     "text": [
      "[Epoch 3/30] Train Loss: 0.2968 Val Loss: 0.1736 Train Acc: 0.8944 Val Acc: 0.9250\n"
     ]
    },
    {
     "name": "stderr",
     "output_type": "stream",
     "text": [
      "100%|██████████| 180/180 [00:11<00:00, 16.26it/s]\n",
      "100%|██████████| 120/120 [00:00<00:00, 130.46it/s]\n",
      "  0%|          | 0/180 [00:00<?, ?it/s]"
     ]
    },
    {
     "name": "stdout",
     "output_type": "stream",
     "text": [
      "[Epoch 4/30] Train Loss: 0.1912 Val Loss: 0.1237 Train Acc: 0.9361 Val Acc: 0.9583\n"
     ]
    },
    {
     "name": "stderr",
     "output_type": "stream",
     "text": [
      "100%|██████████| 180/180 [00:11<00:00, 16.36it/s]\n",
      "100%|██████████| 120/120 [00:00<00:00, 134.35it/s]\n",
      "  0%|          | 0/180 [00:00<?, ?it/s]"
     ]
    },
    {
     "name": "stdout",
     "output_type": "stream",
     "text": [
      "[Epoch 5/30] Train Loss: 0.1301 Val Loss: 0.1688 Train Acc: 0.9597 Val Acc: 0.9250\n"
     ]
    },
    {
     "name": "stderr",
     "output_type": "stream",
     "text": [
      "100%|██████████| 180/180 [00:11<00:00, 15.88it/s]\n",
      "100%|██████████| 120/120 [00:00<00:00, 127.12it/s]\n",
      "  1%|          | 2/180 [00:00<00:11, 16.11it/s]"
     ]
    },
    {
     "name": "stdout",
     "output_type": "stream",
     "text": [
      "[Epoch 6/30] Train Loss: 0.1208 Val Loss: 0.0638 Train Acc: 0.9569 Val Acc: 0.9833\n"
     ]
    },
    {
     "name": "stderr",
     "output_type": "stream",
     "text": [
      "100%|██████████| 180/180 [00:11<00:00, 15.94it/s]\n",
      "100%|██████████| 120/120 [00:00<00:00, 148.05it/s]\n",
      "  0%|          | 0/180 [00:00<?, ?it/s]"
     ]
    },
    {
     "name": "stdout",
     "output_type": "stream",
     "text": [
      "[Epoch 7/30] Train Loss: 0.1007 Val Loss: 0.0977 Train Acc: 0.9694 Val Acc: 0.9667\n"
     ]
    },
    {
     "name": "stderr",
     "output_type": "stream",
     "text": [
      "100%|██████████| 180/180 [00:10<00:00, 16.39it/s]\n",
      "100%|██████████| 120/120 [00:00<00:00, 137.00it/s]\n",
      "  0%|          | 0/180 [00:00<?, ?it/s]"
     ]
    },
    {
     "name": "stdout",
     "output_type": "stream",
     "text": [
      "[Epoch 8/30] Train Loss: 0.0582 Val Loss: 0.0384 Train Acc: 0.9833 Val Acc: 0.9917\n"
     ]
    },
    {
     "name": "stderr",
     "output_type": "stream",
     "text": [
      "100%|██████████| 180/180 [00:11<00:00, 16.31it/s]\n",
      "100%|██████████| 120/120 [00:00<00:00, 140.84it/s]\n",
      "  0%|          | 0/180 [00:00<?, ?it/s]"
     ]
    },
    {
     "name": "stdout",
     "output_type": "stream",
     "text": [
      "[Epoch 9/30] Train Loss: 0.0441 Val Loss: 0.0470 Train Acc: 0.9903 Val Acc: 0.9917\n"
     ]
    },
    {
     "name": "stderr",
     "output_type": "stream",
     "text": [
      "100%|██████████| 180/180 [00:11<00:00, 16.27it/s]\n",
      "100%|██████████| 120/120 [00:00<00:00, 141.63it/s]\n",
      "  0%|          | 0/180 [00:00<?, ?it/s]"
     ]
    },
    {
     "name": "stdout",
     "output_type": "stream",
     "text": [
      "[Epoch 10/30] Train Loss: 0.0610 Val Loss: 0.0420 Train Acc: 0.9792 Val Acc: 0.9833\n"
     ]
    },
    {
     "name": "stderr",
     "output_type": "stream",
     "text": [
      "100%|██████████| 180/180 [00:11<00:00, 16.13it/s]\n",
      "100%|██████████| 120/120 [00:00<00:00, 146.82it/s]\n",
      "  0%|          | 0/180 [00:00<?, ?it/s]"
     ]
    },
    {
     "name": "stdout",
     "output_type": "stream",
     "text": [
      "[Epoch 11/30] Train Loss: 0.0402 Val Loss: 0.0603 Train Acc: 0.9917 Val Acc: 0.9667\n"
     ]
    },
    {
     "name": "stderr",
     "output_type": "stream",
     "text": [
      "100%|██████████| 180/180 [00:10<00:00, 16.65it/s]\n",
      "100%|██████████| 120/120 [00:00<00:00, 146.99it/s]\n",
      "  1%|          | 2/180 [00:00<00:10, 17.12it/s]"
     ]
    },
    {
     "name": "stdout",
     "output_type": "stream",
     "text": [
      "[Epoch 12/30] Train Loss: 0.0310 Val Loss: 0.0361 Train Acc: 0.9903 Val Acc: 0.9917\n"
     ]
    },
    {
     "name": "stderr",
     "output_type": "stream",
     "text": [
      "100%|██████████| 180/180 [00:11<00:00, 16.15it/s]\n",
      "100%|██████████| 120/120 [00:00<00:00, 143.58it/s]\n",
      "  0%|          | 0/180 [00:00<?, ?it/s]"
     ]
    },
    {
     "name": "stdout",
     "output_type": "stream",
     "text": [
      "[Epoch 13/30] Train Loss: 0.0286 Val Loss: 0.0390 Train Acc: 0.9931 Val Acc: 0.9917\n"
     ]
    },
    {
     "name": "stderr",
     "output_type": "stream",
     "text": [
      "100%|██████████| 180/180 [00:11<00:00, 16.12it/s]\n",
      "100%|██████████| 120/120 [00:00<00:00, 143.73it/s]\n",
      "  0%|          | 0/180 [00:00<?, ?it/s]"
     ]
    },
    {
     "name": "stdout",
     "output_type": "stream",
     "text": [
      "[Epoch 14/30] Train Loss: 0.0127 Val Loss: 0.0172 Train Acc: 1.0000 Val Acc: 1.0000\n"
     ]
    },
    {
     "name": "stderr",
     "output_type": "stream",
     "text": [
      "100%|██████████| 180/180 [00:11<00:00, 16.13it/s]\n",
      "100%|██████████| 120/120 [00:00<00:00, 138.49it/s]\n",
      "  0%|          | 0/180 [00:00<?, ?it/s]"
     ]
    },
    {
     "name": "stdout",
     "output_type": "stream",
     "text": [
      "[Epoch 15/30] Train Loss: 0.0230 Val Loss: 0.0742 Train Acc: 0.9917 Val Acc: 0.9667\n"
     ]
    },
    {
     "name": "stderr",
     "output_type": "stream",
     "text": [
      "100%|██████████| 180/180 [00:11<00:00, 16.22it/s]\n",
      "100%|██████████| 120/120 [00:00<00:00, 125.79it/s]\n",
      "  1%|          | 2/180 [00:00<00:10, 17.18it/s]"
     ]
    },
    {
     "name": "stdout",
     "output_type": "stream",
     "text": [
      "[Epoch 16/30] Train Loss: 0.0267 Val Loss: 0.0582 Train Acc: 0.9931 Val Acc: 0.9667\n"
     ]
    },
    {
     "name": "stderr",
     "output_type": "stream",
     "text": [
      "100%|██████████| 180/180 [00:11<00:00, 16.16it/s]\n",
      "100%|██████████| 120/120 [00:00<00:00, 142.09it/s]\n",
      "  1%|          | 2/180 [00:00<00:10, 16.74it/s]"
     ]
    },
    {
     "name": "stdout",
     "output_type": "stream",
     "text": [
      "[Epoch 17/30] Train Loss: 0.0201 Val Loss: 0.0679 Train Acc: 0.9944 Val Acc: 0.9667\n"
     ]
    },
    {
     "name": "stderr",
     "output_type": "stream",
     "text": [
      "100%|██████████| 180/180 [00:11<00:00, 16.12it/s]\n",
      "100%|██████████| 120/120 [00:00<00:00, 149.02it/s]\n",
      "  0%|          | 0/180 [00:00<?, ?it/s]"
     ]
    },
    {
     "name": "stdout",
     "output_type": "stream",
     "text": [
      "[Epoch 18/30] Train Loss: 0.0210 Val Loss: 0.0367 Train Acc: 0.9944 Val Acc: 0.9833\n"
     ]
    },
    {
     "name": "stderr",
     "output_type": "stream",
     "text": [
      "100%|██████████| 180/180 [00:11<00:00, 16.05it/s]\n",
      "100%|██████████| 120/120 [00:00<00:00, 139.11it/s]\n",
      "  0%|          | 0/180 [00:00<?, ?it/s]"
     ]
    },
    {
     "name": "stdout",
     "output_type": "stream",
     "text": [
      "[Epoch 19/30] Train Loss: 0.0172 Val Loss: 0.0238 Train Acc: 0.9944 Val Acc: 0.9833\n"
     ]
    },
    {
     "name": "stderr",
     "output_type": "stream",
     "text": [
      "100%|██████████| 180/180 [00:11<00:00, 15.98it/s]\n",
      "100%|██████████| 120/120 [00:00<00:00, 138.23it/s]\n",
      "  0%|          | 0/180 [00:00<?, ?it/s]"
     ]
    },
    {
     "name": "stdout",
     "output_type": "stream",
     "text": [
      "[Epoch 20/30] Train Loss: 0.0135 Val Loss: 0.0359 Train Acc: 0.9986 Val Acc: 0.9833\n"
     ]
    },
    {
     "name": "stderr",
     "output_type": "stream",
     "text": [
      "100%|██████████| 180/180 [00:11<00:00, 15.83it/s]\n",
      "100%|██████████| 120/120 [00:00<00:00, 142.25it/s]\n",
      "  0%|          | 0/180 [00:00<?, ?it/s]"
     ]
    },
    {
     "name": "stdout",
     "output_type": "stream",
     "text": [
      "[Epoch 21/30] Train Loss: 0.0149 Val Loss: 0.0275 Train Acc: 0.9958 Val Acc: 0.9917\n"
     ]
    },
    {
     "name": "stderr",
     "output_type": "stream",
     "text": [
      "100%|██████████| 180/180 [00:11<00:00, 16.09it/s]\n",
      "100%|██████████| 120/120 [00:00<00:00, 148.69it/s]\n",
      "  1%|          | 2/180 [00:00<00:10, 17.14it/s]"
     ]
    },
    {
     "name": "stdout",
     "output_type": "stream",
     "text": [
      "[Epoch 22/30] Train Loss: 0.0047 Val Loss: 0.0145 Train Acc: 1.0000 Val Acc: 1.0000\n"
     ]
    },
    {
     "name": "stderr",
     "output_type": "stream",
     "text": [
      "100%|██████████| 180/180 [00:11<00:00, 16.25it/s]\n",
      "100%|██████████| 120/120 [00:00<00:00, 146.72it/s]\n",
      "  0%|          | 0/180 [00:00<?, ?it/s]"
     ]
    },
    {
     "name": "stdout",
     "output_type": "stream",
     "text": [
      "[Epoch 23/30] Train Loss: 0.0107 Val Loss: 0.0233 Train Acc: 0.9986 Val Acc: 0.9917\n"
     ]
    },
    {
     "name": "stderr",
     "output_type": "stream",
     "text": [
      "100%|██████████| 180/180 [00:11<00:00, 16.04it/s]\n",
      "100%|██████████| 120/120 [00:00<00:00, 145.92it/s]\n",
      "  0%|          | 0/180 [00:00<?, ?it/s]"
     ]
    },
    {
     "name": "stdout",
     "output_type": "stream",
     "text": [
      "[Epoch 24/30] Train Loss: 0.0248 Val Loss: 0.2523 Train Acc: 0.9917 Val Acc: 0.9333\n"
     ]
    },
    {
     "name": "stderr",
     "output_type": "stream",
     "text": [
      "100%|██████████| 180/180 [00:11<00:00, 15.98it/s]\n",
      "100%|██████████| 120/120 [00:00<00:00, 146.79it/s]\n",
      "  0%|          | 0/180 [00:00<?, ?it/s]"
     ]
    },
    {
     "name": "stdout",
     "output_type": "stream",
     "text": [
      "[Epoch 25/30] Train Loss: 0.0236 Val Loss: 0.0162 Train Acc: 0.9931 Val Acc: 0.9917\n"
     ]
    },
    {
     "name": "stderr",
     "output_type": "stream",
     "text": [
      "100%|██████████| 180/180 [00:11<00:00, 16.11it/s]\n",
      "100%|██████████| 120/120 [00:00<00:00, 143.89it/s]\n",
      "  0%|          | 0/180 [00:00<?, ?it/s]"
     ]
    },
    {
     "name": "stdout",
     "output_type": "stream",
     "text": [
      "[Epoch 26/30] Train Loss: 0.0185 Val Loss: 0.0139 Train Acc: 0.9958 Val Acc: 0.9917\n"
     ]
    },
    {
     "name": "stderr",
     "output_type": "stream",
     "text": [
      "100%|██████████| 180/180 [00:11<00:00, 15.60it/s]\n",
      "100%|██████████| 120/120 [00:00<00:00, 146.80it/s]\n",
      "  0%|          | 0/180 [00:00<?, ?it/s]"
     ]
    },
    {
     "name": "stdout",
     "output_type": "stream",
     "text": [
      "[Epoch 27/30] Train Loss: 0.0031 Val Loss: 0.0148 Train Acc: 1.0000 Val Acc: 1.0000\n"
     ]
    },
    {
     "name": "stderr",
     "output_type": "stream",
     "text": [
      "100%|██████████| 180/180 [00:11<00:00, 15.91it/s]\n",
      "100%|██████████| 120/120 [00:00<00:00, 135.83it/s]\n",
      "  0%|          | 0/180 [00:00<?, ?it/s]"
     ]
    },
    {
     "name": "stdout",
     "output_type": "stream",
     "text": [
      "[Epoch 28/30] Train Loss: 0.0011 Val Loss: 0.0101 Train Acc: 1.0000 Val Acc: 1.0000\n"
     ]
    },
    {
     "name": "stderr",
     "output_type": "stream",
     "text": [
      "100%|██████████| 180/180 [00:11<00:00, 15.38it/s]\n",
      "100%|██████████| 120/120 [00:00<00:00, 144.55it/s]\n",
      "  0%|          | 0/180 [00:00<?, ?it/s]"
     ]
    },
    {
     "name": "stdout",
     "output_type": "stream",
     "text": [
      "[Epoch 29/30] Train Loss: 0.0046 Val Loss: 0.0129 Train Acc: 0.9986 Val Acc: 1.0000\n"
     ]
    },
    {
     "name": "stderr",
     "output_type": "stream",
     "text": [
      "100%|██████████| 180/180 [00:11<00:00, 15.80it/s]\n",
      "100%|██████████| 120/120 [00:00<00:00, 143.74it/s]\n"
     ]
    },
    {
     "name": "stdout",
     "output_type": "stream",
     "text": [
      "[Epoch 30/30] Train Loss: 0.0017 Val Loss: 0.0100 Train Acc: 1.0000 Val Acc: 1.0000\n",
      "Testing model...\n",
      "Accuracy: 0.9916666666666667\n",
      "Classification Report:\n",
      "               precision    recall  f1-score   support\n",
      "\n",
      "           0       1.00      1.00      1.00        90\n",
      "           1       0.99      0.98      0.98        90\n",
      "           2       0.99      1.00      0.99        90\n",
      "           3       0.99      0.99      0.99        90\n",
      "\n",
      "    accuracy                           0.99       360\n",
      "   macro avg       0.99      0.99      0.99       360\n",
      "weighted avg       0.99      0.99      0.99       360\n",
      "\n",
      "Confusion Matrix:\n",
      " [[90  0  0  0]\n",
      " [ 0 88  1  1]\n",
      " [ 0  0 90  0]\n",
      " [ 0  1  0 89]]\n",
      "Test time: 2.43 seconds\n",
      "Test Accuracy: 0.9917\n",
      "Model saved at ../models/alexnet-2025-03-29-13:47:35.pt\n"
     ]
    },
    {
     "name": "stderr",
     "output_type": "stream",
     "text": [
      "wandb: uploading artifact alexnet-model; uploading wandb-summary.json; uploading config.yaml\n",
      "wandb: uploading artifact alexnet-model\n",
      "wandb: uploading data\n",
      "wandb:                                                                                \n",
      "wandb: \n",
      "wandb: Run history:\n",
      "wandb:  train_acc ▁▅▆▇▇▇▇███████████████████████\n",
      "wandb: train_loss █▄▃▂▂▂▂▁▁▁▁▁▁▁▁▁▁▁▁▁▁▁▁▁▁▁▁▁▁▁\n",
      "wandb:    val_acc ▁▄▅▇▅▇▇██▇▇███▇▇▇▇▇▇███▆██████\n",
      "wandb:   val_loss █▅▃▂▃▂▂▁▁▁▂▁▁▁▂▁▂▁▁▁▁▁▁▃▁▁▁▁▁▁\n",
      "wandb: \n",
      "wandb: Run summary:\n",
      "wandb:  train_acc 1\n",
      "wandb: train_loss 0.00165\n",
      "wandb:    val_acc 1\n",
      "wandb:   val_loss 0.00997\n",
      "wandb: \n",
      "wandb: 🚀 View run dutiful-sweep-4 at: https://wandb.ai/beehappy2554-bosch-global/hutech_mushroom/runs/jrgpvy9v\n",
      "wandb: ⭐️ View project at: https://wandb.ai/beehappy2554-bosch-global/hutech_mushroom\n",
      "wandb: Synced 5 W&B file(s), 1 media file(s), 4 artifact file(s) and 0 other file(s)\n",
      "wandb: Find logs at: ./wandb/run-20250329_134727-jrgpvy9v/logs\n",
      "\u001b[34m\u001b[1mwandb\u001b[0m: Agent Starting Run: z160eumf with config:\n",
      "\u001b[34m\u001b[1mwandb\u001b[0m: \tbatch_size: 4\n",
      "\u001b[34m\u001b[1mwandb\u001b[0m: \tbrightness: 0\n",
      "\u001b[34m\u001b[1mwandb\u001b[0m: \tcontrast: 0\n",
      "\u001b[34m\u001b[1mwandb\u001b[0m: \tdataset: hutech-dataset:latest\n",
      "\u001b[34m\u001b[1mwandb\u001b[0m: \tes_patience: 10\n",
      "\u001b[34m\u001b[1mwandb\u001b[0m: \thorizontal_flip: 0\n",
      "\u001b[34m\u001b[1mwandb\u001b[0m: \thue: 0\n",
      "\u001b[34m\u001b[1mwandb\u001b[0m: \tlr: 1e-05\n",
      "\u001b[34m\u001b[1mwandb\u001b[0m: \tmodel: alexnet\n",
      "\u001b[34m\u001b[1mwandb\u001b[0m: \tmomentum: 0.9\n",
      "\u001b[34m\u001b[1mwandb\u001b[0m: \tnum_classes: 4\n",
      "\u001b[34m\u001b[1mwandb\u001b[0m: \tnum_epochs: 30\n",
      "\u001b[34m\u001b[1mwandb\u001b[0m: \toptimizer: adam\n",
      "\u001b[34m\u001b[1mwandb\u001b[0m: \trandom_rotation: 90\n",
      "\u001b[34m\u001b[1mwandb\u001b[0m: \tresize: 224\n",
      "\u001b[34m\u001b[1mwandb\u001b[0m: \tsaturation: 0\n",
      "\u001b[34m\u001b[1mwandb\u001b[0m: \tscheduler: reduce_lr_on_plateau\n",
      "\u001b[34m\u001b[1mwandb\u001b[0m: \tvertical_flip: 0\n",
      "\u001b[34m\u001b[1mwandb\u001b[0m: \tweight_decay: 0.0001\n"
     ]
    },
    {
     "name": "stdout",
     "output_type": "stream",
     "text": [
      "args Namespace(model='alexnet', config=None, project='hutech_mushroom', dataset='hutech-dataset:latest')\n"
     ]
    },
    {
     "name": "stderr",
     "output_type": "stream",
     "text": [
      "wandb: Using wandb-core as the SDK backend.  Please refer to https://wandb.me/wandb-core for more information.\n",
      "wandb: Currently logged in as: beehappy2554 (beehappy2554-bosch-global) to https://api.wandb.ai. Use `wandb login --relogin` to force relogin\n",
      "wandb: WARNING Ignoring project 'hutech_mushroom' when running a sweep.\n",
      "wandb: Tracking run with wandb version 0.19.8\n",
      "wandb: Run data is saved locally in /mnt/c/Users/beeha/VSCode/! - Self-study/All HUGE Projects/Computer Vision/hutech_mushroom/src/wandb/run-20250329_135424-z160eumf\n",
      "wandb: Run `wandb offline` to turn off syncing.\n",
      "wandb: Syncing run neat-sweep-5\n",
      "wandb: ⭐️ View project at https://wandb.ai/beehappy2554-bosch-global/hutech_mushroom\n",
      "wandb: 🧹 View sweep at https://wandb.ai/beehappy2554-bosch-global/hutech_mushroom/sweeps/l64vt3el\n",
      "wandb: 🚀 View run at https://wandb.ai/beehappy2554-bosch-global/hutech_mushroom/runs/z160eumf\n"
     ]
    },
    {
     "name": "stdout",
     "output_type": "stream",
     "text": [
      "here config!!! None\n",
      "HERE config! {'batch_size': 4, 'brightness': 0, 'contrast': 0, 'dataset': 'hutech-dataset:latest', 'es_patience': 10, 'horizontal_flip': 0, 'hue': 0, 'lr': 1e-05, 'model': 'alexnet', 'momentum': 0.9, 'num_classes': 4, 'num_epochs': 30, 'optimizer': 'adam', 'random_rotation': 90, 'resize': 224, 'saturation': 0, 'scheduler': 'reduce_lr_on_plateau', 'vertical_flip': 0, 'weight_decay': 0.0001}\n"
     ]
    },
    {
     "name": "stderr",
     "output_type": "stream",
     "text": [
      "wandb:   1205 of 1205 files downloaded.  \n"
     ]
    },
    {
     "name": "stdout",
     "output_type": "stream",
     "text": [
      "{'batch_size': 4, 'brightness': 0, 'contrast': 0, 'dataset': 'hutech-dataset:latest', 'es_patience': 10, 'horizontal_flip': 0, 'hue': 0, 'lr': 1e-05, 'model': 'alexnet', 'momentum': 0.9, 'num_classes': 4, 'num_epochs': 30, 'optimizer': 'adam', 'random_rotation': 90, 'resize': 224, 'saturation': 0, 'scheduler': 'reduce_lr_on_plateau', 'vertical_flip': 0, 'weight_decay': 0.0001}\n",
      "Training model...\n",
      "Device: cuda\n",
      "Number of epochs: 30\n",
      "Optimizer: Adam (\n",
      "Parameter Group 0\n",
      "    amsgrad: False\n",
      "    betas: (0.9, 0.999)\n",
      "    capturable: False\n",
      "    differentiable: False\n",
      "    eps: 1e-08\n",
      "    foreach: None\n",
      "    fused: None\n",
      "    lr: 1e-05\n",
      "    maximize: False\n",
      "    weight_decay: 0.0001\n",
      ")\n",
      "Criterion: CrossEntropyLoss()\n",
      "Scheduler: <torch.optim.lr_scheduler.ReduceLROnPlateau object at 0x7f8bcbdf9d00>\n",
      "Batch size: 4\n",
      "Early stopping: 10\n",
      "Dataset: 720 training samples, 120 validation samples\n"
     ]
    },
    {
     "name": "stderr",
     "output_type": "stream",
     "text": [
      "100%|██████████| 180/180 [00:10<00:00, 17.72it/s]\n",
      "100%|██████████| 120/120 [00:00<00:00, 155.95it/s]\n",
      "  1%|          | 2/180 [00:00<00:09, 18.48it/s]"
     ]
    },
    {
     "name": "stdout",
     "output_type": "stream",
     "text": [
      "[Epoch 1/30] Train Loss: 1.1617 Val Loss: 1.0231 Train Acc: 0.5028 Val Acc: 0.5667\n"
     ]
    },
    {
     "name": "stderr",
     "output_type": "stream",
     "text": [
      "100%|██████████| 180/180 [00:10<00:00, 17.78it/s]\n",
      "100%|██████████| 120/120 [00:00<00:00, 146.97it/s]\n",
      "  0%|          | 0/180 [00:00<?, ?it/s]"
     ]
    },
    {
     "name": "stdout",
     "output_type": "stream",
     "text": [
      "[Epoch 2/30] Train Loss: 0.5717 Val Loss: 0.5562 Train Acc: 0.8111 Val Acc: 0.7917\n"
     ]
    },
    {
     "name": "stderr",
     "output_type": "stream",
     "text": [
      "100%|██████████| 180/180 [00:10<00:00, 17.71it/s]\n",
      "100%|██████████| 120/120 [00:00<00:00, 147.36it/s]\n",
      "  1%|          | 2/180 [00:00<00:09, 17.90it/s]"
     ]
    },
    {
     "name": "stdout",
     "output_type": "stream",
     "text": [
      "[Epoch 3/30] Train Loss: 0.3402 Val Loss: 0.3669 Train Acc: 0.8708 Val Acc: 0.8750\n"
     ]
    },
    {
     "name": "stderr",
     "output_type": "stream",
     "text": [
      "100%|██████████| 180/180 [00:10<00:00, 17.06it/s]\n",
      "100%|██████████| 120/120 [00:00<00:00, 148.32it/s]\n",
      "  0%|          | 0/180 [00:00<?, ?it/s]"
     ]
    },
    {
     "name": "stdout",
     "output_type": "stream",
     "text": [
      "[Epoch 4/30] Train Loss: 0.2253 Val Loss: 0.2541 Train Acc: 0.9250 Val Acc: 0.9083\n"
     ]
    },
    {
     "name": "stderr",
     "output_type": "stream",
     "text": [
      "100%|██████████| 180/180 [00:10<00:00, 16.78it/s]\n",
      "100%|██████████| 120/120 [00:00<00:00, 142.98it/s]\n",
      "  0%|          | 0/180 [00:00<?, ?it/s]"
     ]
    },
    {
     "name": "stdout",
     "output_type": "stream",
     "text": [
      "[Epoch 5/30] Train Loss: 0.1834 Val Loss: 0.1558 Train Acc: 0.9347 Val Acc: 0.9500\n"
     ]
    },
    {
     "name": "stderr",
     "output_type": "stream",
     "text": [
      "100%|██████████| 180/180 [00:10<00:00, 16.44it/s]\n",
      "100%|██████████| 120/120 [00:00<00:00, 142.60it/s]\n",
      "  1%|          | 2/180 [00:00<00:10, 17.00it/s]"
     ]
    },
    {
     "name": "stdout",
     "output_type": "stream",
     "text": [
      "[Epoch 6/30] Train Loss: 0.1565 Val Loss: 0.1898 Train Acc: 0.9486 Val Acc: 0.9167\n"
     ]
    },
    {
     "name": "stderr",
     "output_type": "stream",
     "text": [
      "100%|██████████| 180/180 [00:10<00:00, 16.77it/s]\n",
      "100%|██████████| 120/120 [00:00<00:00, 130.97it/s]\n",
      "  1%|          | 2/180 [00:00<00:10, 17.15it/s]"
     ]
    },
    {
     "name": "stdout",
     "output_type": "stream",
     "text": [
      "[Epoch 7/30] Train Loss: 0.1435 Val Loss: 0.1751 Train Acc: 0.9444 Val Acc: 0.9250\n"
     ]
    },
    {
     "name": "stderr",
     "output_type": "stream",
     "text": [
      "100%|██████████| 180/180 [00:10<00:00, 16.59it/s]\n",
      "100%|██████████| 120/120 [00:00<00:00, 139.30it/s]\n",
      "  1%|          | 2/180 [00:00<00:10, 16.87it/s]"
     ]
    },
    {
     "name": "stdout",
     "output_type": "stream",
     "text": [
      "[Epoch 8/30] Train Loss: 0.1130 Val Loss: 0.0898 Train Acc: 0.9611 Val Acc: 0.9667\n"
     ]
    },
    {
     "name": "stderr",
     "output_type": "stream",
     "text": [
      "100%|██████████| 180/180 [00:11<00:00, 16.13it/s]\n",
      "100%|██████████| 120/120 [00:00<00:00, 141.84it/s]\n",
      "  1%|          | 2/180 [00:00<00:10, 17.47it/s]"
     ]
    },
    {
     "name": "stdout",
     "output_type": "stream",
     "text": [
      "[Epoch 9/30] Train Loss: 0.0906 Val Loss: 0.1441 Train Acc: 0.9694 Val Acc: 0.9500\n"
     ]
    },
    {
     "name": "stderr",
     "output_type": "stream",
     "text": [
      "100%|██████████| 180/180 [00:11<00:00, 16.31it/s]\n",
      "100%|██████████| 120/120 [00:00<00:00, 148.09it/s]\n",
      "  0%|          | 0/180 [00:00<?, ?it/s]"
     ]
    },
    {
     "name": "stdout",
     "output_type": "stream",
     "text": [
      "[Epoch 10/30] Train Loss: 0.0915 Val Loss: 0.0807 Train Acc: 0.9681 Val Acc: 0.9750\n"
     ]
    },
    {
     "name": "stderr",
     "output_type": "stream",
     "text": [
      "100%|██████████| 180/180 [00:11<00:00, 15.98it/s]\n",
      "100%|██████████| 120/120 [00:00<00:00, 139.74it/s]\n",
      "  0%|          | 0/180 [00:00<?, ?it/s]"
     ]
    },
    {
     "name": "stdout",
     "output_type": "stream",
     "text": [
      "[Epoch 11/30] Train Loss: 0.0806 Val Loss: 0.0810 Train Acc: 0.9694 Val Acc: 0.9750\n"
     ]
    },
    {
     "name": "stderr",
     "output_type": "stream",
     "text": [
      "100%|██████████| 180/180 [00:11<00:00, 16.21it/s]\n",
      "100%|██████████| 120/120 [00:00<00:00, 144.53it/s]\n",
      "  0%|          | 0/180 [00:00<?, ?it/s]"
     ]
    },
    {
     "name": "stdout",
     "output_type": "stream",
     "text": [
      "[Epoch 12/30] Train Loss: 0.0600 Val Loss: 0.0845 Train Acc: 0.9819 Val Acc: 0.9583\n"
     ]
    },
    {
     "name": "stderr",
     "output_type": "stream",
     "text": [
      "100%|██████████| 180/180 [00:11<00:00, 15.89it/s]\n",
      "100%|██████████| 120/120 [00:00<00:00, 135.99it/s]\n",
      "  0%|          | 0/180 [00:00<?, ?it/s]"
     ]
    },
    {
     "name": "stdout",
     "output_type": "stream",
     "text": [
      "[Epoch 13/30] Train Loss: 0.0693 Val Loss: 0.0772 Train Acc: 0.9736 Val Acc: 0.9667\n"
     ]
    },
    {
     "name": "stderr",
     "output_type": "stream",
     "text": [
      "100%|██████████| 180/180 [00:11<00:00, 15.98it/s]\n",
      "100%|██████████| 120/120 [00:00<00:00, 138.05it/s]\n",
      "  0%|          | 0/180 [00:00<?, ?it/s]"
     ]
    },
    {
     "name": "stdout",
     "output_type": "stream",
     "text": [
      "[Epoch 14/30] Train Loss: 0.0484 Val Loss: 0.0776 Train Acc: 0.9861 Val Acc: 0.9583\n"
     ]
    },
    {
     "name": "stderr",
     "output_type": "stream",
     "text": [
      " 47%|████▋     | 84/180 [00:05<00:06, 15.65it/s]\u001b[34m\u001b[1mwandb\u001b[0m: Ctrl-c pressed. Waiting for runs to end. Press ctrl-c again to terminate them.\n",
      " 47%|████▋     | 84/180 [00:05<00:06, 15.45it/s]\n",
      "Traceback (most recent call last):\n",
      "  File \"/mnt/c/Users/beeha/VSCode/! - Self-study/All HUGE Projects/Computer Vision/hutech_mushroom/src/train.py\", line 192, in <module>\n",
      "    trainer()\n",
      "  File \"/mnt/c/Users/beeha/VSCode/! - Self-study/All HUGE Projects/Computer Vision/hutech_mushroom/src/train.py\", line 140, in trainer\n",
      "    train_loss, train_acc = train_one_epoch(model, train_loader, optimizer, criterion)\n",
      "  File \"/mnt/c/Users/beeha/VSCode/! - Self-study/All HUGE Projects/Computer Vision/hutech_mushroom/src/train.py\", line 40, in train_one_epoch\n",
      "    running_loss += loss.item() * images.size(0)\n",
      "KeyboardInterrupt\n",
      "Error in atexit._run_exitfuncs:\n",
      "Traceback (most recent call last):\n",
      "  File \"/root/anaconda3/envs/pytorch37/lib/python3.9/site-packages/wandb/sdk/lib/sock_client.py\", line 151, in _send_message\n",
      "    self._sendall_with_error_handle(header + data)\n",
      "  File \"/root/anaconda3/envs/pytorch37/lib/python3.9/site-packages/wandb/sdk/lib/sock_client.py\", line 130, in _sendall_with_error_handle\n",
      "    sent = self._sock.send(data)\n",
      "BrokenPipeError: [Errno 32] Broken pipe\n"
     ]
    }
   ],
   "source": [
    "from train import trainer\n",
    "print(f\"Sweep ID: {sweep_id}\")\n",
    "wandb.agent(sweep_id)"
   ]
  },
  {
   "cell_type": "code",
   "execution_count": 27,
   "metadata": {},
   "outputs": [
    {
     "name": "stdout",
     "output_type": "stream",
     "text": [
      "Traceback (most recent call last):\n",
      "  File \"/root/anaconda3/envs/pytorch37/lib/python3.9/site-packages/wandb/sdk/lib/service_connection.py\", line 56, in _try_connect_to_existing_service\n",
      "    client.connect(token.port)\n",
      "  File \"/root/anaconda3/envs/pytorch37/lib/python3.9/site-packages/wandb/sdk/lib/sock_client.py\", line 102, in connect\n",
      "    s.connect((\"localhost\", port))\n",
      "ConnectionRefusedError: [Errno 111] Connection refused\n",
      "\n",
      "The above exception was the direct cause of the following exception:\n",
      "\n",
      "Traceback (most recent call last):\n",
      "  File \"/root/anaconda3/envs/pytorch37/bin/wandb\", line 8, in <module>\n",
      "    sys.exit(cli())\n",
      "  File \"/root/anaconda3/envs/pytorch37/lib/python3.9/site-packages/click/core.py\", line 1161, in __call__\n",
      "    return self.main(*args, **kwargs)\n",
      "  File \"/root/anaconda3/envs/pytorch37/lib/python3.9/site-packages/click/core.py\", line 1082, in main\n",
      "    rv = self.invoke(ctx)\n",
      "  File \"/root/anaconda3/envs/pytorch37/lib/python3.9/site-packages/click/core.py\", line 1697, in invoke\n",
      "    return _process_result(sub_ctx.command.invoke(sub_ctx))\n",
      "  File \"/root/anaconda3/envs/pytorch37/lib/python3.9/site-packages/click/core.py\", line 1443, in invoke\n",
      "    return ctx.invoke(self.callback, **ctx.params)\n",
      "  File \"/root/anaconda3/envs/pytorch37/lib/python3.9/site-packages/click/core.py\", line 788, in invoke\n",
      "    return __callback(*args, **kwargs)\n",
      "  File \"/root/anaconda3/envs/pytorch37/lib/python3.9/site-packages/click/decorators.py\", line 33, in new_func\n",
      "    return f(get_current_context(), *args, **kwargs)\n",
      "  File \"/root/anaconda3/envs/pytorch37/lib/python3.9/site-packages/wandb/cli/cli.py\", line 104, in wrapper\n",
      "    return func(*args, **kwargs)\n",
      "  File \"/root/anaconda3/envs/pytorch37/lib/python3.9/site-packages/wandb/cli/cli.py\", line 1669, in agent\n",
      "    api = _get_cling_api()\n",
      "  File \"/root/anaconda3/envs/pytorch37/lib/python3.9/site-packages/wandb/cli/cli.py\", line 132, in _get_cling_api\n",
      "    wandb.setup(settings=wandb.Settings(x_cli_only_mode=True))\n",
      "  File \"/root/anaconda3/envs/pytorch37/lib/python3.9/site-packages/wandb/sdk/wandb_setup.py\", line 382, in setup\n",
      "    return _setup(settings=settings)\n",
      "  File \"/root/anaconda3/envs/pytorch37/lib/python3.9/site-packages/wandb/sdk/wandb_setup.py\", line 321, in _setup\n",
      "    _singleton.ensure_service()\n",
      "  File \"/root/anaconda3/envs/pytorch37/lib/python3.9/site-packages/wandb/sdk/wandb_setup.py\", line 264, in ensure_service\n",
      "    self._connection = service_connection.connect_to_service(self._settings)\n",
      "  File \"/root/anaconda3/envs/pytorch37/lib/python3.9/site-packages/wandb/sdk/lib/service_connection.py\", line 37, in connect_to_service\n",
      "    conn = _try_connect_to_existing_service()\n",
      "  File \"/root/anaconda3/envs/pytorch37/lib/python3.9/site-packages/wandb/sdk/lib/service_connection.py\", line 59, in _try_connect_to_existing_service\n",
      "    raise WandbServiceConnectionError(\n",
      "wandb.sdk.lib.service_connection.WandbServiceConnectionError: Failed to connect to internal service.\n"
     ]
    }
   ],
   "source": [
    "!wandb agent --count 20 {sweep_id}"
   ]
  }
 ],
 "metadata": {
  "kernelspec": {
   "display_name": "pytorch37",
   "language": "python",
   "name": "python3"
  },
  "language_info": {
   "codemirror_mode": {
    "name": "ipython",
    "version": 3
   },
   "file_extension": ".py",
   "mimetype": "text/x-python",
   "name": "python",
   "nbconvert_exporter": "python",
   "pygments_lexer": "ipython3",
   "version": "3.9.21"
  }
 },
 "nbformat": 4,
 "nbformat_minor": 2
}
