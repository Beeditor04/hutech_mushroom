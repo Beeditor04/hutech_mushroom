{
 "cells": [
  {
   "cell_type": "code",
   "execution_count": 10,
   "metadata": {},
   "outputs": [
    {
     "name": "stdout",
     "output_type": "stream",
     "text": [
      "{'program': 'train.py', 'name': 'aug_sweep', 'method': 'grid', 'metric': {'name': 'test_accuracy', 'goal': 'maximize'}, 'parameters': {'model': {'value': 'alexnet'}, 'dataset': {'value': 'hutech-dataset:latest'}, 'resize': {'values': [224]}, 'horizontal_flip': {'values': [0, 224]}, 'vertical_flip': {'values': [0, 0.5]}, 'random_rotation': {'values': [0, 90]}, 'brightness': {'values': [0, 0.2]}, 'contrast': {'values': [0, 0.2]}, 'saturation': {'values': [0, 0.2]}, 'hue': {'values': [0, 0.2]}, 'num_classes': {'value': 4}, 'lr': {'values': ['1e-5']}, 'num_epochs': {'values': [30]}, 'batch_size': {'values': [4]}, 'optimizer': {'values': ['adam']}, 'weight_decay': {'values': [0.0001]}, 'momentum': {'values': [0.9]}}, 'command': ['${env}', 'python', '${program}']}\n",
      "Create sweep with ID: locrjxls\n",
      "Sweep URL: https://wandb.ai/beehappy2554-bosch-global/hutech_mushroom/sweeps/locrjxls\n",
      "Sweep ID: locrjxls\n"
     ]
    }
   ],
   "source": [
    "# sweep_config = {\n",
    "#     'program': 'train.py',\n",
    "#     'method': 'random',  # Can be 'grid', 'random', or 'bayes'\n",
    "#     'metric': {\n",
    "#         'name': 'val_loss',  # The metric to optimize\n",
    "#         'goal': 'minimize'  # The optimization goal of the metric\n",
    "#     },\n",
    "#     'parameters': {\n",
    "#         'lr': {\n",
    "#             'distribution': 'uniform',\n",
    "#             'min': 1e-6,\n",
    "#             'max': 1e-2\n",
    "#         },\n",
    "#         'num_epochs': {\n",
    "#             'values': [10, 20, 30]\n",
    "#         },\n",
    "#         'batch_size': {\n",
    "#             'values': [16, 32, 64]\n",
    "#         },\n",
    "#         'optimizer': {\n",
    "#             'values': ['adam', 'sgd', 'adamw']\n",
    "#         },\n",
    "#         # You can add more hyperparameters as needed.\n",
    "#     }\n",
    "# }\n",
    "\n",
    "import wandb\n",
    "from utils.helper import load_config\n",
    "config_path = \"../config/sweep_aug.yaml\"\n",
    "\n",
    "PROJECT = 'hutech_mushroom'\n",
    "with open(config_path, 'r') as f:\n",
    "    sweep_config = load_config(config_path)\n",
    "print(sweep_config)\n",
    "sweep_id = wandb.sweep(sweep_config, project=PROJECT)\n",
    "print(f\"Sweep ID: {sweep_id}\")"
   ]
  },
  {
   "cell_type": "markdown",
   "metadata": {},
   "source": [
    "- 2 ways to activate agent for sweeping:"
   ]
  },
  {
   "cell_type": "code",
   "execution_count": 5,
   "metadata": {},
   "outputs": [
    {
     "name": "stdout",
     "output_type": "stream",
     "text": [
      "Sweep ID: qsuyhmxw\n"
     ]
    },
    {
     "name": "stderr",
     "output_type": "stream",
     "text": [
      "\u001b[34m\u001b[1mwandb\u001b[0m: Agent Starting Run: q52lie4j with config:\n",
      "\u001b[34m\u001b[1mwandb\u001b[0m: \tbatch_size: 4\n",
      "\u001b[34m\u001b[1mwandb\u001b[0m: \tbrightness: 0\n",
      "\u001b[34m\u001b[1mwandb\u001b[0m: \tcontrast: 0\n",
      "\u001b[34m\u001b[1mwandb\u001b[0m: \tdataset: hutech-dataset:latest\n",
      "\u001b[34m\u001b[1mwandb\u001b[0m: \thorizontal_flip: 0\n",
      "\u001b[34m\u001b[1mwandb\u001b[0m: \thue: 0\n",
      "\u001b[34m\u001b[1mwandb\u001b[0m: \tkernel_size: [[0, 0], [3, 3]]\n",
      "\u001b[34m\u001b[1mwandb\u001b[0m: \tlr: 1e-05\n",
      "\u001b[34m\u001b[1mwandb\u001b[0m: \tmodel: alexnet\n",
      "\u001b[34m\u001b[1mwandb\u001b[0m: \tmomentum: 0.9\n",
      "\u001b[34m\u001b[1mwandb\u001b[0m: \tnum_classes: 4\n",
      "\u001b[34m\u001b[1mwandb\u001b[0m: \tnum_epochs: 30\n",
      "\u001b[34m\u001b[1mwandb\u001b[0m: \toptimizer: adam\n",
      "\u001b[34m\u001b[1mwandb\u001b[0m: \trandom_rotation: 0\n",
      "\u001b[34m\u001b[1mwandb\u001b[0m: \tresize: 0\n",
      "\u001b[34m\u001b[1mwandb\u001b[0m: \tsaturation: 0\n",
      "\u001b[34m\u001b[1mwandb\u001b[0m: \tsigma: 3\n",
      "\u001b[34m\u001b[1mwandb\u001b[0m: \tvertical_flip: 0.5\n",
      "\u001b[34m\u001b[1mwandb\u001b[0m: \tweight_decay: 0.0001\n",
      "usage: ipykernel_launcher.py [-h] [--model MODEL] [--config CONFIG]\n",
      "                             [--project PROJECT] [--dataset DATASET]\n",
      "ipykernel_launcher.py: error: unrecognized arguments: --f=/run/user/0/jupyter/runtime/kernel-v3a11c3aa585e6079fe2a8abdf3ad72805e01c0563.json\n"
     ]
    }
   ],
   "source": [
    "from train import trainer\n",
    "print(f\"Sweep ID: {sweep_id}\")\n",
    "wandb.agent(sweep_id, trainer, count=1)"
   ]
  },
  {
   "cell_type": "code",
   "execution_count": 11,
   "metadata": {},
   "outputs": [
    {
     "name": "stdout",
     "output_type": "stream",
     "text": [
      "\u001b[34m\u001b[1mwandb\u001b[0m: Starting wandb agent 🕵️\n",
      "2025-03-29 08:22:33,587 - wandb.wandb_agent - INFO - Running runs: []\n",
      "2025-03-29 08:22:34,007 - wandb.wandb_agent - INFO - Agent received command: run\n",
      "2025-03-29 08:22:34,008 - wandb.wandb_agent - INFO - Agent starting run with config:\n",
      "\tbatch_size: 4\n",
      "\tbrightness: 0\n",
      "\tcontrast: 0\n",
      "\tdataset: hutech-dataset:latest\n",
      "\thorizontal_flip: 0\n",
      "\thue: 0\n",
      "\tlr: 1e-05\n",
      "\tmodel: alexnet\n",
      "\tmomentum: 0.9\n",
      "\tnum_classes: 4\n",
      "\tnum_epochs: 30\n",
      "\toptimizer: adam\n",
      "\trandom_rotation: 0\n",
      "\tresize: 224\n",
      "\tsaturation: 0\n",
      "\tvertical_flip: 0\n",
      "\tweight_decay: 0.0001\n",
      "2025-03-29 08:22:34,014 - wandb.wandb_agent - INFO - About to run command: /usr/bin/env python train.py\n",
      "HERE config! {'project': 'hutech_mushroom', 'dataset': 'hutech-dataset:latest', 'model': 'alexnet', 'resize': 224, 'horizontal_flip': 0.5, 'vertical_flip': 0.5, 'random_rotation': 90, 'brightness': 0.2, 'contrast': 0.2, 'saturation': 0.2, 'hue': 0.2, 'kernel_size': [3, 3], 'sigma': [0.1, 3.0], 'num_classes': 4, 'lr': '1e-5', 'num_epochs': 30, 'batch_size': 4, 'optimizer': 'adam', 'weight_decay': 0.0001, 'momentum': 0.9}\n",
      "\u001b[34m\u001b[1mwandb\u001b[0m: Currently logged in as: \u001b[33mbeehappy2554\u001b[0m (\u001b[33mbeehappy2554-bosch-global\u001b[0m) to \u001b[32mhttps://api.wandb.ai\u001b[0m. Use \u001b[1m`wandb login --relogin`\u001b[0m to force relogin\n",
      "\u001b[34m\u001b[1mwandb\u001b[0m: \u001b[33mWARNING\u001b[0m Ignoring project 'hutech_mushroom' when running a sweep.\n",
      "2025-03-29 08:22:39,020 - wandb.wandb_agent - INFO - Running runs: ['lmuae4l3']\n",
      "\u001b[34m\u001b[1mwandb\u001b[0m: Tracking run with wandb version 0.19.8\n",
      "\u001b[34m\u001b[1mwandb\u001b[0m: Run data is saved locally in \u001b[35m\u001b[1m/mnt/c/Users/beeha/VSCode/! - Self-study/All HUGE Projects/Computer Vision/hutech_mushroom/src/wandb/run-20250329_082238-lmuae4l3\u001b[0m\n",
      "\u001b[34m\u001b[1mwandb\u001b[0m: Run \u001b[1m`wandb offline`\u001b[0m to turn off syncing.\n",
      "\u001b[34m\u001b[1mwandb\u001b[0m: Syncing run \u001b[33mrestful-sweep-1\u001b[0m\n",
      "\u001b[34m\u001b[1mwandb\u001b[0m: ⭐️ View project at \u001b[34m\u001b[4mhttps://wandb.ai/beehappy2554-bosch-global/hutech_mushroom\u001b[0m\n",
      "\u001b[34m\u001b[1mwandb\u001b[0m: 🧹 View sweep at \u001b[34m\u001b[4mhttps://wandb.ai/beehappy2554-bosch-global/hutech_mushroom/sweeps/locrjxls\u001b[0m\n",
      "\u001b[34m\u001b[1mwandb\u001b[0m: 🚀 View run at \u001b[34m\u001b[4mhttps://wandb.ai/beehappy2554-bosch-global/hutech_mushroom/runs/lmuae4l3\u001b[0m\n",
      "HERE config! {'project': 'hutech_mushroom', 'dataset': 'hutech-dataset:latest', 'model': 'alexnet', 'resize': 224, 'horizontal_flip': 0, 'vertical_flip': 0, 'random_rotation': 0, 'brightness': 0, 'contrast': 0, 'saturation': 0, 'hue': 0, 'kernel_size': [3, 3], 'sigma': [0.1, 3.0], 'num_classes': 4, 'lr': 1e-05, 'num_epochs': 30, 'batch_size': 4, 'optimizer': 'adam', 'weight_decay': 0.0001, 'momentum': 0.9}\n",
      "\u001b[34m\u001b[1mwandb\u001b[0m:   1205 of 1205 files downloaded.  \n",
      "{'project': 'hutech_mushroom', 'dataset': 'hutech-dataset:latest', 'model': 'alexnet', 'resize': 224, 'horizontal_flip': 0, 'vertical_flip': 0, 'random_rotation': 0, 'brightness': 0, 'contrast': 0, 'saturation': 0, 'hue': 0, 'kernel_size': [3, 3], 'sigma': [0.1, 3.0], 'num_classes': 4, 'lr': 1e-05, 'num_epochs': 30, 'batch_size': 4, 'optimizer': 'adam', 'weight_decay': 0.0001, 'momentum': 0.9}\n",
      "Training model...\n",
      "Device: cuda\n",
      "Number of epochs: 30\n",
      "Optimizer: Adam (\n",
      "Parameter Group 0\n",
      "    amsgrad: False\n",
      "    betas: (0.9, 0.999)\n",
      "    capturable: False\n",
      "    differentiable: False\n",
      "    eps: 1e-08\n",
      "    foreach: None\n",
      "    fused: None\n",
      "    lr: 1e-05\n",
      "    maximize: False\n",
      "    weight_decay: 0.0001\n",
      ")\n",
      "Criterion: CrossEntropyLoss()\n",
      "Dataset: 720 training samples, 120 validation samples\n",
      "100%|█████████████████████████████████████████| 180/180 [00:11<00:00, 16.19it/s]\n",
      "100%|███████████████████████████████████████████| 30/30 [00:00<00:00, 63.44it/s]\n",
      "[Epoch 1/30] Train Loss: 0.9485 Val Loss: 0.5009 Train Acc: 0.6681 Val Acc: 0.8500\n",
      "100%|█████████████████████████████████████████| 180/180 [00:10<00:00, 16.46it/s]\n",
      "100%|███████████████████████████████████████████| 30/30 [00:00<00:00, 60.22it/s]\n",
      "[Epoch 2/30] Train Loss: 0.3230 Val Loss: 0.2594 Train Acc: 0.8944 Val Acc: 0.9250\n",
      "100%|█████████████████████████████████████████| 180/180 [00:10<00:00, 16.53it/s]\n",
      "100%|███████████████████████████████████████████| 30/30 [00:00<00:00, 64.32it/s]\n",
      "[Epoch 3/30] Train Loss: 0.1725 Val Loss: 0.2250 Train Acc: 0.9486 Val Acc: 0.9250\n",
      "100%|█████████████████████████████████████████| 180/180 [00:11<00:00, 15.97it/s]\n",
      "100%|███████████████████████████████████████████| 30/30 [00:00<00:00, 53.57it/s]\n",
      "[Epoch 4/30] Train Loss: 0.1033 Val Loss: 0.1728 Train Acc: 0.9667 Val Acc: 0.9167\n",
      " 30%|████████████▌                             | 54/180 [00:03<00:07, 15.91it/s]\u001b[34m\u001b[1mwandb\u001b[0m: Network error (ConnectionError), entering retry loop.\n",
      "100%|█████████████████████████████████████████| 180/180 [00:12<00:00, 14.73it/s]\n",
      "100%|███████████████████████████████████████████| 30/30 [00:00<00:00, 51.56it/s]\n",
      "[Epoch 5/30] Train Loss: 0.0660 Val Loss: 0.0843 Train Acc: 0.9833 Val Acc: 0.9667\n",
      "100%|█████████████████████████████████████████| 180/180 [00:11<00:00, 15.10it/s]\n",
      "100%|███████████████████████████████████████████| 30/30 [00:00<00:00, 46.84it/s]\n",
      "[Epoch 6/30] Train Loss: 0.0470 Val Loss: 0.0884 Train Acc: 0.9861 Val Acc: 0.9583\n",
      "100%|█████████████████████████████████████████| 180/180 [00:12<00:00, 14.00it/s]\n",
      "100%|███████████████████████████████████████████| 30/30 [00:00<00:00, 46.23it/s]\n",
      "[Epoch 7/30] Train Loss: 0.0316 Val Loss: 0.1116 Train Acc: 0.9958 Val Acc: 0.9583\n",
      " 23%|█████████▊                                | 42/180 [00:02<00:08, 15.41it/s]\u001b[34m\u001b[1mwandb\u001b[0m: Network error (ConnectionError), entering retry loop.\n",
      "100%|█████████████████████████████████████████| 180/180 [00:11<00:00, 15.41it/s]\n",
      "100%|███████████████████████████████████████████| 30/30 [00:00<00:00, 52.20it/s]\n",
      "[Epoch 8/30] Train Loss: 0.0240 Val Loss: 0.0958 Train Acc: 0.9944 Val Acc: 0.9750\n",
      "100%|█████████████████████████████████████████| 180/180 [00:11<00:00, 15.23it/s]\n",
      "100%|███████████████████████████████████████████| 30/30 [00:00<00:00, 47.39it/s]\n",
      "[Epoch 9/30] Train Loss: 0.0169 Val Loss: 0.0487 Train Acc: 0.9972 Val Acc: 0.9917\n",
      "100%|█████████████████████████████████████████| 180/180 [00:11<00:00, 15.59it/s]\n",
      "100%|███████████████████████████████████████████| 30/30 [00:00<00:00, 52.13it/s]\n",
      "[Epoch 10/30] Train Loss: 0.0071 Val Loss: 0.0517 Train Acc: 1.0000 Val Acc: 0.9750\n",
      "100%|█████████████████████████████████████████| 180/180 [00:11<00:00, 15.59it/s]\n",
      "100%|███████████████████████████████████████████| 30/30 [00:00<00:00, 50.67it/s]\n",
      "[Epoch 11/30] Train Loss: 0.0083 Val Loss: 0.1366 Train Acc: 1.0000 Val Acc: 0.9417\n",
      "100%|█████████████████████████████████████████| 180/180 [00:12<00:00, 14.01it/s]\n",
      "100%|███████████████████████████████████████████| 30/30 [00:01<00:00, 29.82it/s]\n",
      "[Epoch 12/30] Train Loss: 0.0064 Val Loss: 0.0898 Train Acc: 0.9986 Val Acc: 0.9667\n",
      "100%|█████████████████████████████████████████| 180/180 [00:12<00:00, 14.95it/s]\n",
      "100%|███████████████████████████████████████████| 30/30 [00:00<00:00, 50.14it/s]\n",
      "[Epoch 13/30] Train Loss: 0.0084 Val Loss: 0.0778 Train Acc: 0.9986 Val Acc: 0.9750\n",
      "100%|█████████████████████████████████████████| 180/180 [00:11<00:00, 15.89it/s]\n",
      "100%|███████████████████████████████████████████| 30/30 [00:00<00:00, 52.43it/s]\n",
      "[Epoch 14/30] Train Loss: 0.0030 Val Loss: 0.0528 Train Acc: 1.0000 Val Acc: 0.9750\n",
      "100%|█████████████████████████████████████████| 180/180 [00:11<00:00, 15.67it/s]\n",
      "100%|███████████████████████████████████████████| 30/30 [00:00<00:00, 48.68it/s]\n",
      "[Epoch 15/30] Train Loss: 0.0252 Val Loss: 0.0640 Train Acc: 0.9917 Val Acc: 0.9750\n",
      "100%|█████████████████████████████████████████| 180/180 [00:11<00:00, 15.87it/s]\n",
      "100%|███████████████████████████████████████████| 30/30 [00:00<00:00, 53.56it/s]\n",
      "[Epoch 16/30] Train Loss: 0.0317 Val Loss: 0.0895 Train Acc: 0.9875 Val Acc: 0.9667\n",
      "100%|█████████████████████████████████████████| 180/180 [00:11<00:00, 15.70it/s]\n",
      "100%|███████████████████████████████████████████| 30/30 [00:00<00:00, 50.57it/s]\n",
      "[Epoch 17/30] Train Loss: 0.0056 Val Loss: 0.0932 Train Acc: 0.9986 Val Acc: 0.9667\n",
      "100%|█████████████████████████████████████████| 180/180 [00:11<00:00, 15.83it/s]\n",
      "100%|███████████████████████████████████████████| 30/30 [00:00<00:00, 52.23it/s]\n",
      "[Epoch 18/30] Train Loss: 0.0018 Val Loss: 0.0519 Train Acc: 1.0000 Val Acc: 0.9750\n",
      "100%|█████████████████████████████████████████| 180/180 [00:11<00:00, 15.17it/s]\n",
      "100%|███████████████████████████████████████████| 30/30 [00:00<00:00, 48.94it/s]\n",
      "[Epoch 19/30] Train Loss: 0.0012 Val Loss: 0.0565 Train Acc: 1.0000 Val Acc: 0.9583\n",
      "100%|█████████████████████████████████████████| 180/180 [00:13<00:00, 13.51it/s]\n",
      "100%|███████████████████████████████████████████| 30/30 [00:00<00:00, 46.55it/s]\n",
      "[Epoch 20/30] Train Loss: 0.0012 Val Loss: 0.0561 Train Acc: 1.0000 Val Acc: 0.9667\n",
      "100%|█████████████████████████████████████████| 180/180 [00:11<00:00, 15.46it/s]\n",
      "100%|███████████████████████████████████████████| 30/30 [00:00<00:00, 37.65it/s]\n",
      "[Epoch 21/30] Train Loss: 0.0014 Val Loss: 0.0908 Train Acc: 1.0000 Val Acc: 0.9667\n",
      "100%|█████████████████████████████████████████| 180/180 [00:12<00:00, 14.43it/s]\n",
      "100%|███████████████████████████████████████████| 30/30 [00:00<00:00, 50.96it/s]\n",
      "[Epoch 22/30] Train Loss: 0.0013 Val Loss: 0.0733 Train Acc: 1.0000 Val Acc: 0.9583\n",
      "100%|█████████████████████████████████████████| 180/180 [00:11<00:00, 15.60it/s]\n",
      "100%|███████████████████████████████████████████| 30/30 [00:00<00:00, 47.15it/s]\n",
      "[Epoch 23/30] Train Loss: 0.0007 Val Loss: 0.1038 Train Acc: 1.0000 Val Acc: 0.9667\n",
      "100%|█████████████████████████████████████████| 180/180 [00:11<00:00, 15.21it/s]\n",
      "100%|███████████████████████████████████████████| 30/30 [00:00<00:00, 54.80it/s]\n",
      "[Epoch 24/30] Train Loss: 0.0005 Val Loss: 0.0926 Train Acc: 1.0000 Val Acc: 0.9667\n",
      "100%|█████████████████████████████████████████| 180/180 [00:11<00:00, 15.39it/s]\n",
      "100%|███████████████████████████████████████████| 30/30 [00:00<00:00, 47.22it/s]\n",
      "[Epoch 25/30] Train Loss: 0.0007 Val Loss: 0.1563 Train Acc: 1.0000 Val Acc: 0.9667\n",
      "100%|█████████████████████████████████████████| 180/180 [00:11<00:00, 15.53it/s]\n",
      "100%|███████████████████████████████████████████| 30/30 [00:00<00:00, 48.62it/s]\n",
      "[Epoch 26/30] Train Loss: 0.0004 Val Loss: 0.0432 Train Acc: 1.0000 Val Acc: 0.9750\n",
      "100%|█████████████████████████████████████████| 180/180 [00:11<00:00, 15.25it/s]\n",
      "100%|███████████████████████████████████████████| 30/30 [00:00<00:00, 33.60it/s]\n",
      "[Epoch 27/30] Train Loss: 0.0007 Val Loss: 0.0399 Train Acc: 1.0000 Val Acc: 0.9750\n",
      "100%|█████████████████████████████████████████| 180/180 [00:12<00:00, 14.67it/s]\n",
      "100%|███████████████████████████████████████████| 30/30 [00:00<00:00, 41.55it/s]\n",
      "[Epoch 28/30] Train Loss: 0.0004 Val Loss: 0.1072 Train Acc: 1.0000 Val Acc: 0.9667\n",
      "100%|█████████████████████████████████████████| 180/180 [00:11<00:00, 15.00it/s]\n",
      "100%|███████████████████████████████████████████| 30/30 [00:00<00:00, 51.50it/s]\n",
      "[Epoch 29/30] Train Loss: 0.0004 Val Loss: 0.0839 Train Acc: 1.0000 Val Acc: 0.9583\n",
      "100%|█████████████████████████████████████████| 180/180 [00:12<00:00, 14.91it/s]\n",
      "100%|███████████████████████████████████████████| 30/30 [00:00<00:00, 49.84it/s]\n",
      "[Epoch 30/30] Train Loss: 0.0004 Val Loss: 0.0802 Train Acc: 1.0000 Val Acc: 0.9667\n",
      "Accuracy: 0.9888888888888889\n",
      "Classification Report:\n",
      "               precision    recall  f1-score   support\n",
      "\n",
      "           0       1.00      0.99      0.99        90\n",
      "           1       0.99      0.98      0.98        90\n",
      "           2       1.00      1.00      1.00        90\n",
      "           3       0.97      0.99      0.98        90\n",
      "\n",
      "    accuracy                           0.99       360\n",
      "   macro avg       0.99      0.99      0.99       360\n",
      "weighted avg       0.99      0.99      0.99       360\n",
      "\n",
      "Confusion Matrix:\n",
      " [[89  0  0  1]\n",
      " [ 0 88  0  2]\n",
      " [ 0  0 90  0]\n",
      " [ 0  1  0 89]]\n",
      "Model saved at ../models/alexnet-2025-03-29-08:22:50.pt\n",
      "\u001b[34m\u001b[1mwandb\u001b[0m: Network error resolved after 0:06:25.958249, resuming normal operation.\n",
      "\u001b[34m\u001b[1mwandb\u001b[0m: Network error (ReadTimeout), entering retry loop.\n"
     ]
    },
    {
     "name": "stderr",
     "output_type": "stream",
     "text": [
      "message_loop has been closed\n",
      "Traceback (most recent call last):\n",
      "  File \"/root/anaconda3/envs/pytorch37/lib/python3.9/site-packages/wandb/sdk/interface/router_sock.py\", line 27, in _read_message\n",
      "    return self._sock_client.read_server_response(timeout=1)\n",
      "  File \"/root/anaconda3/envs/pytorch37/lib/python3.9/site-packages/wandb/sdk/lib/sock_client.py\", line 235, in read_server_response\n",
      "    data = self._read_packet_bytes(timeout=timeout)\n",
      "  File \"/root/anaconda3/envs/pytorch37/lib/python3.9/site-packages/wandb/sdk/lib/sock_client.py\", line 220, in _read_packet_bytes\n",
      "    raise SockClientClosedError\n",
      "wandb.sdk.lib.sock_client.SockClientClosedError\n",
      "\n",
      "The above exception was the direct cause of the following exception:\n",
      "\n",
      "Traceback (most recent call last):\n",
      "  File \"/root/anaconda3/envs/pytorch37/lib/python3.9/site-packages/wandb/sdk/interface/router.py\", line 56, in message_loop\n",
      "    msg = self._read_message()\n",
      "  File \"/root/anaconda3/envs/pytorch37/lib/python3.9/site-packages/wandb/sdk/interface/router_sock.py\", line 29, in _read_message\n",
      "    raise MessageRouterClosedError from e\n",
      "wandb.sdk.interface.router.MessageRouterClosedError\n"
     ]
    },
    {
     "name": "stdout",
     "output_type": "stream",
     "text": [
      "\n",
      "Aborted!\n",
      "\u001b[34m\u001b[1mwandb\u001b[0m: Ctrl-c pressed. Waiting for runs to end. Press ctrl-c again to terminate them.\n",
      "\u001b[34m\u001b[1mwandb\u001b[0m: \u001b[32m\u001b[41mERROR\u001b[0m Control-C detected -- Run data was not synced\n",
      "Traceback (most recent call last):\n",
      "  File \"/mnt/c/Users/beeha/VSCode/! - Self-study/All HUGE Projects/Computer Vision/hutech_mushroom/src/train.py\", line 170, in <module>\n",
      "    trainer()\n",
      "  File \"/mnt/c/Users/beeha/VSCode/! - Self-study/All HUGE Projects/Computer Vision/hutech_mushroom/src/train.py\", line 167, in trainer\n",
      "    run.finish()\n",
      "  File \"/root/anaconda3/envs/pytorch37/lib/python3.9/site-packages/wandb/sdk/wandb_run.py\", line 449, in wrapper\n",
      "    return func(self, *args, **kwargs)\n",
      "  File \"/root/anaconda3/envs/pytorch37/lib/python3.9/site-packages/wandb/sdk/wandb_run.py\", line 391, in wrapper\n",
      "    return func(self, *args, **kwargs)\n",
      "  File \"/root/anaconda3/envs/pytorch37/lib/python3.9/site-packages/wandb/sdk/wandb_run.py\", line 2106, in finish\n",
      "    return self._finish(exit_code)\n",
      "  File \"/root/anaconda3/envs/pytorch37/lib/python3.9/site-packages/wandb/sdk/wandb_run.py\", line 2127, in _finish\n",
      "    self._atexit_cleanup(exit_code=exit_code)\n",
      "  File \"/root/anaconda3/envs/pytorch37/lib/python3.9/site-packages/wandb/sdk/wandb_run.py\", line 2352, in _atexit_cleanup\n",
      "    self._on_finish()\n",
      "  File \"/root/anaconda3/envs/pytorch37/lib/python3.9/site-packages/wandb/sdk/wandb_run.py\", line 2609, in _on_finish\n",
      "    wait_with_progress(\n",
      "  File \"/root/anaconda3/envs/pytorch37/lib/python3.9/site-packages/wandb/sdk/mailbox/wait_with_progress.py\", line 24, in wait_with_progress\n",
      "    return wait_all_with_progress(\n",
      "  File \"/root/anaconda3/envs/pytorch37/lib/python3.9/site-packages/wandb/sdk/mailbox/wait_with_progress.py\", line 87, in wait_all_with_progress\n",
      "    return asyncio_compat.run(progress_loop_with_timeout)\n",
      "  File \"/root/anaconda3/envs/pytorch37/lib/python3.9/site-packages/wandb/sdk/lib/asyncio_compat.py\", line 30, in run\n",
      "    return future.result()\n",
      "  File \"/root/anaconda3/envs/pytorch37/lib/python3.9/concurrent/futures/_base.py\", line 441, in result\n",
      "    self._condition.wait(timeout)\n",
      "  File \"/root/anaconda3/envs/pytorch37/lib/python3.9/threading.py\", line 312, in wait\n",
      "    waiter.acquire()\n",
      "KeyboardInterrupt\n",
      "^C\n"
     ]
    }
   ],
   "source": [
    "!wandb agent --count 1 {sweep_id}"
   ]
  },
  {
   "cell_type": "code",
   "execution_count": 2,
   "metadata": {},
   "outputs": [
    {
     "name": "stderr",
     "output_type": "stream",
     "text": [
      "\u001b[34m\u001b[1mwandb\u001b[0m: Agent Starting Run: ceo1479s with config:\n",
      "\u001b[34m\u001b[1mwandb\u001b[0m: \tbatch_size: 32\n",
      "\u001b[34m\u001b[1mwandb\u001b[0m: \tlr: 0.008667024863595805\n",
      "\u001b[34m\u001b[1mwandb\u001b[0m: \tnum_epochs: 10\n",
      "\u001b[34m\u001b[1mwandb\u001b[0m: \toptimizer: adamw\n"
     ]
    },
    {
     "data": {
      "text/html": [
       "Ignoring project 'minialexnet' when running a sweep."
      ],
      "text/plain": [
       "<IPython.core.display.HTML object>"
      ]
     },
     "metadata": {},
     "output_type": "display_data"
    },
    {
     "data": {
      "text/html": [
       "creating run (0.1s)"
      ],
      "text/plain": [
       "<IPython.core.display.HTML object>"
      ]
     },
     "metadata": {},
     "output_type": "display_data"
    },
    {
     "data": {
      "text/html": [
       "Tracking run with wandb version 0.19.8"
      ],
      "text/plain": [
       "<IPython.core.display.HTML object>"
      ]
     },
     "metadata": {},
     "output_type": "display_data"
    },
    {
     "data": {
      "text/html": [
       "Run data is saved locally in <code>/mnt/c/Users/beeha/VSCode/! - Self-study/I.2 MLOps/wandb/lab02 - artifacts/src/wandb/run-20250326_175147-ceo1479s</code>"
      ],
      "text/plain": [
       "<IPython.core.display.HTML object>"
      ]
     },
     "metadata": {},
     "output_type": "display_data"
    },
    {
     "data": {
      "text/html": [
       "Syncing run <strong><a href='https://wandb.ai/beehappy2554-bosch-global/minialexnet/runs/ceo1479s' target=\"_blank\">giddy-sweep-1</a></strong> to <a href='https://wandb.ai/beehappy2554-bosch-global/minialexnet' target=\"_blank\">Weights & Biases</a> (<a href='https://wandb.me/developer-guide' target=\"_blank\">docs</a>)<br>Sweep page: <a href='https://wandb.ai/beehappy2554-bosch-global/minialexnet/sweeps/va11cc4e' target=\"_blank\">https://wandb.ai/beehappy2554-bosch-global/minialexnet/sweeps/va11cc4e</a>"
      ],
      "text/plain": [
       "<IPython.core.display.HTML object>"
      ]
     },
     "metadata": {},
     "output_type": "display_data"
    },
    {
     "data": {
      "text/html": [
       " View project at <a href='https://wandb.ai/beehappy2554-bosch-global/minialexnet' target=\"_blank\">https://wandb.ai/beehappy2554-bosch-global/minialexnet</a>"
      ],
      "text/plain": [
       "<IPython.core.display.HTML object>"
      ]
     },
     "metadata": {},
     "output_type": "display_data"
    },
    {
     "data": {
      "text/html": [
       " View sweep at <a href='https://wandb.ai/beehappy2554-bosch-global/minialexnet/sweeps/va11cc4e' target=\"_blank\">https://wandb.ai/beehappy2554-bosch-global/minialexnet/sweeps/va11cc4e</a>"
      ],
      "text/plain": [
       "<IPython.core.display.HTML object>"
      ]
     },
     "metadata": {},
     "output_type": "display_data"
    },
    {
     "data": {
      "text/html": [
       " View run at <a href='https://wandb.ai/beehappy2554-bosch-global/minialexnet/runs/ceo1479s' target=\"_blank\">https://wandb.ai/beehappy2554-bosch-global/minialexnet/runs/ceo1479s</a>"
      ],
      "text/plain": [
       "<IPython.core.display.HTML object>"
      ]
     },
     "metadata": {},
     "output_type": "display_data"
    },
    {
     "name": "stderr",
     "output_type": "stream",
     "text": [
      "\u001b[34m\u001b[1mwandb\u001b[0m: \u001b[33mWARNING\u001b[0m Config item 'lr' was locked by 'sweep' (ignored update).\n",
      "\u001b[34m\u001b[1mwandb\u001b[0m: \u001b[33mWARNING\u001b[0m Config item 'num_epochs' was locked by 'sweep' (ignored update).\n",
      "\u001b[34m\u001b[1mwandb\u001b[0m: \u001b[33mWARNING\u001b[0m Config item 'batch_size' was locked by 'sweep' (ignored update).\n",
      "\u001b[34m\u001b[1mwandb\u001b[0m: \u001b[33mWARNING\u001b[0m Config item 'optimizer' was locked by 'sweep' (ignored update).\n",
      "\u001b[34m\u001b[1mwandb\u001b[0m: Downloading large artifact minialexnet-dataset:latest, 128.34MB. 399 files... \n",
      "\u001b[34m\u001b[1mwandb\u001b[0m:   399 of 399 files downloaded.  \n",
      "Done. 0:0:1.1\n"
     ]
    },
    {
     "name": "stdout",
     "output_type": "stream",
     "text": [
      "{'lr': '1e-5', 'num_epochs': 30, 'batch_size': 4, 'optimizer': 'sgd', 'weight_decay': 0.0001, 'momentum': 0.9}\n",
      "Training model...\n",
      "Device: cuda\n",
      "Number of epochs: 30\n",
      "Optimizer: SGD (\n",
      "Parameter Group 0\n",
      "    dampening: 0\n",
      "    differentiable: False\n",
      "    foreach: None\n",
      "    fused: None\n",
      "    lr: 1e-05\n",
      "    maximize: False\n",
      "    momentum: 0.9\n",
      "    nesterov: False\n",
      "    weight_decay: 0.0001\n",
      ")\n",
      "Criterion: CrossEntropyLoss()\n",
      "Dataset: 239 training samples, 40 validation samples\n"
     ]
    },
    {
     "name": "stderr",
     "output_type": "stream",
     "text": [
      "  3%|▎         | 1/30 [00:05<02:40,  5.55s/it]"
     ]
    },
    {
     "name": "stdout",
     "output_type": "stream",
     "text": [
      "[Epoch 1/30] Train Loss: 0.7127 Val Loss: 0.6673 Train Acc: 0.5105 Val Acc: 0.5000\n"
     ]
    },
    {
     "name": "stderr",
     "output_type": "stream",
     "text": [
      "  7%|▋         | 2/30 [00:10<02:30,  5.38s/it]"
     ]
    },
    {
     "name": "stdout",
     "output_type": "stream",
     "text": [
      "[Epoch 2/30] Train Loss: 0.6809 Val Loss: 0.6301 Train Acc: 0.5063 Val Acc: 0.5250\n"
     ]
    },
    {
     "name": "stderr",
     "output_type": "stream",
     "text": [
      " 10%|█         | 3/30 [00:17<02:43,  6.05s/it]"
     ]
    },
    {
     "name": "stdout",
     "output_type": "stream",
     "text": [
      "[Epoch 3/30] Train Loss: 0.6236 Val Loss: 0.6102 Train Acc: 0.6276 Val Acc: 0.6500\n"
     ]
    },
    {
     "name": "stderr",
     "output_type": "stream",
     "text": [
      " 13%|█▎        | 4/30 [00:24<02:46,  6.39s/it]"
     ]
    },
    {
     "name": "stdout",
     "output_type": "stream",
     "text": [
      "[Epoch 4/30] Train Loss: 0.6094 Val Loss: 0.5942 Train Acc: 0.6695 Val Acc: 0.6500\n"
     ]
    },
    {
     "name": "stderr",
     "output_type": "stream",
     "text": [
      " 17%|█▋        | 5/30 [00:29<02:30,  6.00s/it]"
     ]
    },
    {
     "name": "stdout",
     "output_type": "stream",
     "text": [
      "[Epoch 5/30] Train Loss: 0.5918 Val Loss: 0.5741 Train Acc: 0.7071 Val Acc: 0.6750\n"
     ]
    },
    {
     "name": "stderr",
     "output_type": "stream",
     "text": [
      " 20%|██        | 6/30 [00:37<02:41,  6.71s/it]"
     ]
    },
    {
     "name": "stdout",
     "output_type": "stream",
     "text": [
      "[Epoch 6/30] Train Loss: 0.5721 Val Loss: 0.5549 Train Acc: 0.7406 Val Acc: 0.7250\n"
     ]
    },
    {
     "name": "stderr",
     "output_type": "stream",
     "text": [
      " 23%|██▎       | 7/30 [00:46<02:46,  7.23s/it]"
     ]
    },
    {
     "name": "stdout",
     "output_type": "stream",
     "text": [
      "[Epoch 7/30] Train Loss: 0.5448 Val Loss: 0.5374 Train Acc: 0.7741 Val Acc: 0.7250\n"
     ]
    },
    {
     "name": "stderr",
     "output_type": "stream",
     "text": [
      " 27%|██▋       | 8/30 [00:54<02:43,  7.44s/it]"
     ]
    },
    {
     "name": "stdout",
     "output_type": "stream",
     "text": [
      "[Epoch 8/30] Train Loss: 0.5299 Val Loss: 0.5171 Train Acc: 0.7782 Val Acc: 0.7500\n"
     ]
    },
    {
     "name": "stderr",
     "output_type": "stream",
     "text": [
      " 30%|███       | 9/30 [01:00<02:29,  7.14s/it]"
     ]
    },
    {
     "name": "stdout",
     "output_type": "stream",
     "text": [
      "[Epoch 9/30] Train Loss: 0.5291 Val Loss: 0.5062 Train Acc: 0.8075 Val Acc: 0.8250\n"
     ]
    },
    {
     "name": "stderr",
     "output_type": "stream",
     "text": [
      " 33%|███▎      | 10/30 [01:08<02:25,  7.27s/it]"
     ]
    },
    {
     "name": "stdout",
     "output_type": "stream",
     "text": [
      "[Epoch 10/30] Train Loss: 0.4765 Val Loss: 0.4900 Train Acc: 0.8452 Val Acc: 0.8250\n"
     ]
    },
    {
     "name": "stderr",
     "output_type": "stream",
     "text": [
      " 37%|███▋      | 11/30 [01:15<02:20,  7.41s/it]"
     ]
    },
    {
     "name": "stdout",
     "output_type": "stream",
     "text": [
      "[Epoch 11/30] Train Loss: 0.4861 Val Loss: 0.4757 Train Acc: 0.8410 Val Acc: 0.8250\n"
     ]
    },
    {
     "name": "stderr",
     "output_type": "stream",
     "text": [
      " 40%|████      | 12/30 [01:23<02:12,  7.38s/it]"
     ]
    },
    {
     "name": "stdout",
     "output_type": "stream",
     "text": [
      "[Epoch 12/30] Train Loss: 0.4643 Val Loss: 0.4663 Train Acc: 0.8577 Val Acc: 0.8750\n"
     ]
    },
    {
     "name": "stderr",
     "output_type": "stream",
     "text": [
      " 43%|████▎     | 13/30 [01:30<02:05,  7.35s/it]"
     ]
    },
    {
     "name": "stdout",
     "output_type": "stream",
     "text": [
      "[Epoch 13/30] Train Loss: 0.4506 Val Loss: 0.4498 Train Acc: 0.8745 Val Acc: 0.8750\n"
     ]
    },
    {
     "name": "stderr",
     "output_type": "stream",
     "text": [
      " 47%|████▋     | 14/30 [01:35<01:47,  6.72s/it]"
     ]
    },
    {
     "name": "stdout",
     "output_type": "stream",
     "text": [
      "[Epoch 14/30] Train Loss: 0.4328 Val Loss: 0.4400 Train Acc: 0.8661 Val Acc: 0.8250\n"
     ]
    },
    {
     "name": "stderr",
     "output_type": "stream",
     "text": [
      " 50%|█████     | 15/30 [01:42<01:42,  6.81s/it]"
     ]
    },
    {
     "name": "stdout",
     "output_type": "stream",
     "text": [
      "[Epoch 15/30] Train Loss: 0.4394 Val Loss: 0.4272 Train Acc: 0.8870 Val Acc: 0.8750\n"
     ]
    },
    {
     "name": "stderr",
     "output_type": "stream",
     "text": [
      " 53%|█████▎    | 16/30 [01:49<01:36,  6.91s/it]"
     ]
    },
    {
     "name": "stdout",
     "output_type": "stream",
     "text": [
      "[Epoch 16/30] Train Loss: 0.4164 Val Loss: 0.4171 Train Acc: 0.8619 Val Acc: 0.8750\n"
     ]
    },
    {
     "name": "stderr",
     "output_type": "stream",
     "text": [
      " 57%|█████▋    | 17/30 [01:56<01:30,  6.94s/it]"
     ]
    },
    {
     "name": "stdout",
     "output_type": "stream",
     "text": [
      "[Epoch 17/30] Train Loss: 0.3903 Val Loss: 0.4046 Train Acc: 0.9079 Val Acc: 0.8750\n"
     ]
    },
    {
     "name": "stderr",
     "output_type": "stream",
     "text": [
      " 60%|██████    | 18/30 [02:02<01:19,  6.60s/it]"
     ]
    },
    {
     "name": "stdout",
     "output_type": "stream",
     "text": [
      "[Epoch 18/30] Train Loss: 0.4020 Val Loss: 0.3916 Train Acc: 0.8745 Val Acc: 0.8750\n"
     ]
    },
    {
     "name": "stderr",
     "output_type": "stream",
     "text": [
      " 63%|██████▎   | 19/30 [02:11<01:18,  7.15s/it]"
     ]
    },
    {
     "name": "stdout",
     "output_type": "stream",
     "text": [
      "[Epoch 19/30] Train Loss: 0.3777 Val Loss: 0.3859 Train Acc: 0.8996 Val Acc: 0.8500\n"
     ]
    },
    {
     "name": "stderr",
     "output_type": "stream",
     "text": [
      " 67%|██████▋   | 20/30 [02:18<01:12,  7.28s/it]"
     ]
    },
    {
     "name": "stdout",
     "output_type": "stream",
     "text": [
      "[Epoch 20/30] Train Loss: 0.3438 Val Loss: 0.3825 Train Acc: 0.9456 Val Acc: 0.8750\n"
     ]
    },
    {
     "name": "stderr",
     "output_type": "stream",
     "text": [
      " 70%|███████   | 21/30 [02:26<01:06,  7.35s/it]"
     ]
    },
    {
     "name": "stdout",
     "output_type": "stream",
     "text": [
      "[Epoch 21/30] Train Loss: 0.3601 Val Loss: 0.3810 Train Acc: 0.8745 Val Acc: 0.8500\n"
     ]
    },
    {
     "name": "stderr",
     "output_type": "stream",
     "text": [
      " 73%|███████▎  | 22/30 [02:32<00:55,  6.94s/it]"
     ]
    },
    {
     "name": "stdout",
     "output_type": "stream",
     "text": [
      "[Epoch 22/30] Train Loss: 0.3367 Val Loss: 0.3747 Train Acc: 0.9331 Val Acc: 0.8750\n"
     ]
    },
    {
     "name": "stderr",
     "output_type": "stream",
     "text": [
      " 77%|███████▋  | 23/30 [02:39<00:49,  7.09s/it]"
     ]
    },
    {
     "name": "stdout",
     "output_type": "stream",
     "text": [
      "[Epoch 23/30] Train Loss: 0.3179 Val Loss: 0.3679 Train Acc: 0.9121 Val Acc: 0.8750\n"
     ]
    },
    {
     "name": "stderr",
     "output_type": "stream",
     "text": [
      " 80%|████████  | 24/30 [02:47<00:42,  7.16s/it]"
     ]
    },
    {
     "name": "stdout",
     "output_type": "stream",
     "text": [
      "[Epoch 24/30] Train Loss: 0.3235 Val Loss: 0.3627 Train Acc: 0.8828 Val Acc: 0.8750\n"
     ]
    },
    {
     "name": "stderr",
     "output_type": "stream",
     "text": [
      " 83%|████████▎ | 25/30 [02:54<00:36,  7.26s/it]"
     ]
    },
    {
     "name": "stdout",
     "output_type": "stream",
     "text": [
      "[Epoch 25/30] Train Loss: 0.3187 Val Loss: 0.3569 Train Acc: 0.8996 Val Acc: 0.8750\n"
     ]
    },
    {
     "name": "stderr",
     "output_type": "stream",
     "text": [
      " 87%|████████▋ | 26/30 [03:01<00:29,  7.30s/it]"
     ]
    },
    {
     "name": "stdout",
     "output_type": "stream",
     "text": [
      "[Epoch 26/30] Train Loss: 0.2872 Val Loss: 0.3526 Train Acc: 0.9414 Val Acc: 0.8500\n"
     ]
    },
    {
     "name": "stderr",
     "output_type": "stream",
     "text": [
      " 90%|█████████ | 27/30 [03:07<00:20,  6.91s/it]"
     ]
    },
    {
     "name": "stdout",
     "output_type": "stream",
     "text": [
      "[Epoch 27/30] Train Loss: 0.2945 Val Loss: 0.3488 Train Acc: 0.9163 Val Acc: 0.8500\n"
     ]
    },
    {
     "name": "stderr",
     "output_type": "stream",
     "text": [
      " 93%|█████████▎| 28/30 [03:15<00:14,  7.02s/it]"
     ]
    },
    {
     "name": "stdout",
     "output_type": "stream",
     "text": [
      "[Epoch 28/30] Train Loss: 0.3129 Val Loss: 0.3478 Train Acc: 0.9163 Val Acc: 0.8750\n"
     ]
    },
    {
     "name": "stderr",
     "output_type": "stream",
     "text": [
      " 97%|█████████▋| 29/30 [03:22<00:07,  7.24s/it]"
     ]
    },
    {
     "name": "stdout",
     "output_type": "stream",
     "text": [
      "[Epoch 29/30] Train Loss: 0.2983 Val Loss: 0.3494 Train Acc: 0.9163 Val Acc: 0.8500\n"
     ]
    },
    {
     "name": "stderr",
     "output_type": "stream",
     "text": [
      "100%|██████████| 30/30 [03:30<00:00,  7.00s/it]"
     ]
    },
    {
     "name": "stdout",
     "output_type": "stream",
     "text": [
      "[Epoch 30/30] Train Loss: 0.2870 Val Loss: 0.3401 Train Acc: 0.9289 Val Acc: 0.8500\n"
     ]
    },
    {
     "name": "stderr",
     "output_type": "stream",
     "text": [
      "\n"
     ]
    },
    {
     "name": "stdout",
     "output_type": "stream",
     "text": [
      "Accuracy: 0.9416666666666667\n",
      "Classification Report:\n",
      "               precision    recall  f1-score   support\n",
      "\n",
      "           0       0.91      0.98      0.94        60\n",
      "           1       0.98      0.90      0.94        60\n",
      "\n",
      "    accuracy                           0.94       120\n",
      "   macro avg       0.94      0.94      0.94       120\n",
      "weighted avg       0.94      0.94      0.94       120\n",
      "\n",
      "Confusion Matrix:\n",
      " [[59  1]\n",
      " [ 6 54]]\n",
      "Model saved at ../models/minialexnet-2025-03-26-17:51:54.pt\n"
     ]
    },
    {
     "data": {
      "text/html": [],
      "text/plain": [
       "<IPython.core.display.HTML object>"
      ]
     },
     "metadata": {},
     "output_type": "display_data"
    },
    {
     "data": {
      "text/html": [
       "<br>    <style><br>        .wandb-row {<br>            display: flex;<br>            flex-direction: row;<br>            flex-wrap: wrap;<br>            justify-content: flex-start;<br>            width: 100%;<br>        }<br>        .wandb-col {<br>            display: flex;<br>            flex-direction: column;<br>            flex-basis: 100%;<br>            flex: 1;<br>            padding: 10px;<br>        }<br>    </style><br><div class=\"wandb-row\"><div class=\"wandb-col\"><h3>Run history:</h3><br/><table class=\"wandb\"><tr><td>test_accuracy</td><td>▁</td></tr><tr><td>train_acc</td><td>▁▁▃▄▄▅▅▅▆▆▆▇▇▇▇▇▇▇▇█▇█▇▇▇█████</td></tr><tr><td>train_loss</td><td>█▇▇▆▆▆▅▅▅▄▄▄▄▃▄▃▃▃▂▂▂▂▂▂▂▁▁▁▁▁</td></tr><tr><td>val_acc</td><td>▁▁▄▄▄▅▅▆▇▇▇██▇████████████████</td></tr><tr><td>val_loss</td><td>█▇▇▆▆▆▅▅▅▄▄▄▃▃▃▃▂▂▂▂▂▂▂▁▁▁▁▁▁▁</td></tr></table><br/></div><div class=\"wandb-col\"><h3>Run summary:</h3><br/><table class=\"wandb\"><tr><td>test_accuracy</td><td>0.94167</td></tr><tr><td>train_acc</td><td>0.92887</td></tr><tr><td>train_loss</td><td>0.28699</td></tr><tr><td>val_acc</td><td>0.85</td></tr><tr><td>val_loss</td><td>0.34014</td></tr></table><br/></div></div>"
      ],
      "text/plain": [
       "<IPython.core.display.HTML object>"
      ]
     },
     "metadata": {},
     "output_type": "display_data"
    },
    {
     "data": {
      "text/html": [
       " View run <strong style=\"color:#cdcd00\">giddy-sweep-1</strong> at: <a href='https://wandb.ai/beehappy2554-bosch-global/minialexnet/runs/ceo1479s' target=\"_blank\">https://wandb.ai/beehappy2554-bosch-global/minialexnet/runs/ceo1479s</a><br> View project at: <a href='https://wandb.ai/beehappy2554-bosch-global/minialexnet' target=\"_blank\">https://wandb.ai/beehappy2554-bosch-global/minialexnet</a><br>Synced 5 W&B file(s), 1 media file(s), 4 artifact file(s) and 0 other file(s)"
      ],
      "text/plain": [
       "<IPython.core.display.HTML object>"
      ]
     },
     "metadata": {},
     "output_type": "display_data"
    },
    {
     "data": {
      "text/html": [
       "Find logs at: <code>./wandb/run-20250326_175147-ceo1479s/logs</code>"
      ],
      "text/plain": [
       "<IPython.core.display.HTML object>"
      ]
     },
     "metadata": {},
     "output_type": "display_data"
    },
    {
     "name": "stderr",
     "output_type": "stream",
     "text": [
      "\u001b[34m\u001b[1mwandb\u001b[0m: Agent Starting Run: gcbcw8lj with config:\n",
      "\u001b[34m\u001b[1mwandb\u001b[0m: \tbatch_size: 16\n",
      "\u001b[34m\u001b[1mwandb\u001b[0m: \tlr: 0.002906885897217853\n",
      "\u001b[34m\u001b[1mwandb\u001b[0m: \tnum_epochs: 20\n",
      "\u001b[34m\u001b[1mwandb\u001b[0m: \toptimizer: adamw\n"
     ]
    },
    {
     "data": {
      "text/html": [
       "Ignoring project 'minialexnet' when running a sweep."
      ],
      "text/plain": [
       "<IPython.core.display.HTML object>"
      ]
     },
     "metadata": {},
     "output_type": "display_data"
    },
    {
     "data": {
      "text/html": [
       "Tracking run with wandb version 0.19.8"
      ],
      "text/plain": [
       "<IPython.core.display.HTML object>"
      ]
     },
     "metadata": {},
     "output_type": "display_data"
    },
    {
     "data": {
      "text/html": [
       "Run data is saved locally in <code>/mnt/c/Users/beeha/VSCode/! - Self-study/I.2 MLOps/wandb/lab02 - artifacts/src/wandb/run-20250326_175538-gcbcw8lj</code>"
      ],
      "text/plain": [
       "<IPython.core.display.HTML object>"
      ]
     },
     "metadata": {},
     "output_type": "display_data"
    },
    {
     "data": {
      "text/html": [
       "Syncing run <strong><a href='https://wandb.ai/beehappy2554-bosch-global/minialexnet/runs/gcbcw8lj' target=\"_blank\">radiant-sweep-2</a></strong> to <a href='https://wandb.ai/beehappy2554-bosch-global/minialexnet' target=\"_blank\">Weights & Biases</a> (<a href='https://wandb.me/developer-guide' target=\"_blank\">docs</a>)<br>Sweep page: <a href='https://wandb.ai/beehappy2554-bosch-global/minialexnet/sweeps/va11cc4e' target=\"_blank\">https://wandb.ai/beehappy2554-bosch-global/minialexnet/sweeps/va11cc4e</a>"
      ],
      "text/plain": [
       "<IPython.core.display.HTML object>"
      ]
     },
     "metadata": {},
     "output_type": "display_data"
    },
    {
     "data": {
      "text/html": [
       " View project at <a href='https://wandb.ai/beehappy2554-bosch-global/minialexnet' target=\"_blank\">https://wandb.ai/beehappy2554-bosch-global/minialexnet</a>"
      ],
      "text/plain": [
       "<IPython.core.display.HTML object>"
      ]
     },
     "metadata": {},
     "output_type": "display_data"
    },
    {
     "data": {
      "text/html": [
       " View sweep at <a href='https://wandb.ai/beehappy2554-bosch-global/minialexnet/sweeps/va11cc4e' target=\"_blank\">https://wandb.ai/beehappy2554-bosch-global/minialexnet/sweeps/va11cc4e</a>"
      ],
      "text/plain": [
       "<IPython.core.display.HTML object>"
      ]
     },
     "metadata": {},
     "output_type": "display_data"
    },
    {
     "data": {
      "text/html": [
       " View run at <a href='https://wandb.ai/beehappy2554-bosch-global/minialexnet/runs/gcbcw8lj' target=\"_blank\">https://wandb.ai/beehappy2554-bosch-global/minialexnet/runs/gcbcw8lj</a>"
      ],
      "text/plain": [
       "<IPython.core.display.HTML object>"
      ]
     },
     "metadata": {},
     "output_type": "display_data"
    },
    {
     "name": "stderr",
     "output_type": "stream",
     "text": [
      "\u001b[34m\u001b[1mwandb\u001b[0m: \u001b[33mWARNING\u001b[0m Config item 'lr' was locked by 'sweep' (ignored update).\n",
      "\u001b[34m\u001b[1mwandb\u001b[0m: \u001b[33mWARNING\u001b[0m Config item 'num_epochs' was locked by 'sweep' (ignored update).\n",
      "\u001b[34m\u001b[1mwandb\u001b[0m: \u001b[33mWARNING\u001b[0m Config item 'batch_size' was locked by 'sweep' (ignored update).\n",
      "\u001b[34m\u001b[1mwandb\u001b[0m: \u001b[33mWARNING\u001b[0m Config item 'optimizer' was locked by 'sweep' (ignored update).\n",
      "\u001b[34m\u001b[1mwandb\u001b[0m: Downloading large artifact minialexnet-dataset:latest, 128.34MB. 399 files... \n",
      "\u001b[34m\u001b[1mwandb\u001b[0m:   399 of 399 files downloaded.  \n",
      "Done. 0:0:2.9\n"
     ]
    },
    {
     "name": "stdout",
     "output_type": "stream",
     "text": [
      "{'lr': '1e-5', 'num_epochs': 30, 'batch_size': 4, 'optimizer': 'sgd', 'weight_decay': 0.0001, 'momentum': 0.9}\n",
      "Training model...\n",
      "Device: cuda\n",
      "Number of epochs: 30\n",
      "Optimizer: SGD (\n",
      "Parameter Group 0\n",
      "    dampening: 0\n",
      "    differentiable: False\n",
      "    foreach: None\n",
      "    fused: None\n",
      "    lr: 1e-05\n",
      "    maximize: False\n",
      "    momentum: 0.9\n",
      "    nesterov: False\n",
      "    weight_decay: 0.0001\n",
      ")\n",
      "Criterion: CrossEntropyLoss()\n",
      "Dataset: 239 training samples, 40 validation samples\n"
     ]
    },
    {
     "name": "stderr",
     "output_type": "stream",
     "text": [
      "  3%|▎         | 1/30 [00:07<03:39,  7.57s/it]"
     ]
    },
    {
     "name": "stdout",
     "output_type": "stream",
     "text": [
      "[Epoch 1/30] Train Loss: 0.7151 Val Loss: 0.6776 Train Acc: 0.4686 Val Acc: 0.4750\n"
     ]
    },
    {
     "name": "stderr",
     "output_type": "stream",
     "text": [
      "  7%|▋         | 2/30 [00:14<03:26,  7.36s/it]"
     ]
    },
    {
     "name": "stdout",
     "output_type": "stream",
     "text": [
      "[Epoch 2/30] Train Loss: 0.6601 Val Loss: 0.6427 Train Acc: 0.5481 Val Acc: 0.5750\n"
     ]
    },
    {
     "name": "stderr",
     "output_type": "stream",
     "text": [
      " 10%|█         | 3/30 [00:20<03:01,  6.71s/it]"
     ]
    },
    {
     "name": "stdout",
     "output_type": "stream",
     "text": [
      "[Epoch 3/30] Train Loss: 0.6350 Val Loss: 0.6179 Train Acc: 0.6318 Val Acc: 0.6500\n"
     ]
    },
    {
     "name": "stderr",
     "output_type": "stream",
     "text": [
      " 13%|█▎        | 4/30 [00:28<03:00,  6.95s/it]"
     ]
    },
    {
     "name": "stdout",
     "output_type": "stream",
     "text": [
      "[Epoch 4/30] Train Loss: 0.6412 Val Loss: 0.6006 Train Acc: 0.6276 Val Acc: 0.7250\n"
     ]
    },
    {
     "name": "stderr",
     "output_type": "stream",
     "text": [
      " 17%|█▋        | 5/30 [00:35<02:57,  7.09s/it]"
     ]
    },
    {
     "name": "stdout",
     "output_type": "stream",
     "text": [
      "[Epoch 5/30] Train Loss: 0.5895 Val Loss: 0.5780 Train Acc: 0.6946 Val Acc: 0.7250\n"
     ]
    },
    {
     "name": "stderr",
     "output_type": "stream",
     "text": [
      " 20%|██        | 6/30 [00:42<02:53,  7.23s/it]"
     ]
    },
    {
     "name": "stdout",
     "output_type": "stream",
     "text": [
      "[Epoch 6/30] Train Loss: 0.5931 Val Loss: 0.5566 Train Acc: 0.7280 Val Acc: 0.7750\n"
     ]
    },
    {
     "name": "stderr",
     "output_type": "stream",
     "text": [
      " 23%|██▎       | 7/30 [00:48<02:33,  6.67s/it]"
     ]
    },
    {
     "name": "stdout",
     "output_type": "stream",
     "text": [
      "[Epoch 7/30] Train Loss: 0.5695 Val Loss: 0.5454 Train Acc: 0.7992 Val Acc: 0.8000\n"
     ]
    },
    {
     "name": "stderr",
     "output_type": "stream",
     "text": [
      " 27%|██▋       | 8/30 [00:55<02:33,  6.96s/it]"
     ]
    },
    {
     "name": "stdout",
     "output_type": "stream",
     "text": [
      "[Epoch 8/30] Train Loss: 0.5535 Val Loss: 0.5256 Train Acc: 0.7406 Val Acc: 0.8000\n"
     ]
    },
    {
     "name": "stderr",
     "output_type": "stream",
     "text": [
      " 30%|███       | 9/30 [01:03<02:30,  7.16s/it]"
     ]
    },
    {
     "name": "stdout",
     "output_type": "stream",
     "text": [
      "[Epoch 9/30] Train Loss: 0.5554 Val Loss: 0.5112 Train Acc: 0.7406 Val Acc: 0.8250\n"
     ]
    },
    {
     "name": "stderr",
     "output_type": "stream",
     "text": [
      " 33%|███▎      | 10/30 [01:11<02:25,  7.28s/it]"
     ]
    },
    {
     "name": "stdout",
     "output_type": "stream",
     "text": [
      "[Epoch 10/30] Train Loss: 0.5065 Val Loss: 0.4959 Train Acc: 0.8159 Val Acc: 0.8000\n"
     ]
    },
    {
     "name": "stderr",
     "output_type": "stream",
     "text": [
      " 37%|███▋      | 11/30 [01:16<02:09,  6.84s/it]"
     ]
    },
    {
     "name": "stdout",
     "output_type": "stream",
     "text": [
      "[Epoch 11/30] Train Loss: 0.4848 Val Loss: 0.4838 Train Acc: 0.8619 Val Acc: 0.8250\n"
     ]
    },
    {
     "name": "stderr",
     "output_type": "stream",
     "text": [
      " 40%|████      | 12/30 [01:24<02:07,  7.06s/it]"
     ]
    },
    {
     "name": "stdout",
     "output_type": "stream",
     "text": [
      "[Epoch 12/30] Train Loss: 0.4635 Val Loss: 0.4711 Train Acc: 0.8661 Val Acc: 0.8250\n"
     ]
    },
    {
     "name": "stderr",
     "output_type": "stream",
     "text": [
      " 43%|████▎     | 13/30 [01:32<02:02,  7.22s/it]"
     ]
    },
    {
     "name": "stdout",
     "output_type": "stream",
     "text": [
      "[Epoch 13/30] Train Loss: 0.4689 Val Loss: 0.4558 Train Acc: 0.8494 Val Acc: 0.8250\n"
     ]
    },
    {
     "name": "stderr",
     "output_type": "stream",
     "text": [
      " 47%|████▋     | 14/30 [01:39<01:57,  7.35s/it]"
     ]
    },
    {
     "name": "stdout",
     "output_type": "stream",
     "text": [
      "[Epoch 14/30] Train Loss: 0.4502 Val Loss: 0.4453 Train Acc: 0.8536 Val Acc: 0.8250\n"
     ]
    },
    {
     "name": "stderr",
     "output_type": "stream",
     "text": [
      " 50%|█████     | 15/30 [01:47<01:52,  7.48s/it]"
     ]
    },
    {
     "name": "stdout",
     "output_type": "stream",
     "text": [
      "[Epoch 15/30] Train Loss: 0.4544 Val Loss: 0.4342 Train Acc: 0.8410 Val Acc: 0.8250\n"
     ]
    },
    {
     "name": "stderr",
     "output_type": "stream",
     "text": [
      " 53%|█████▎    | 16/30 [01:53<01:38,  7.05s/it]"
     ]
    },
    {
     "name": "stdout",
     "output_type": "stream",
     "text": [
      "[Epoch 16/30] Train Loss: 0.4247 Val Loss: 0.4300 Train Acc: 0.8703 Val Acc: 0.8250\n"
     ]
    },
    {
     "name": "stderr",
     "output_type": "stream",
     "text": [
      " 57%|█████▋    | 17/30 [02:01<01:33,  7.21s/it]"
     ]
    },
    {
     "name": "stdout",
     "output_type": "stream",
     "text": [
      "[Epoch 17/30] Train Loss: 0.4302 Val Loss: 0.4188 Train Acc: 0.8703 Val Acc: 0.8250\n"
     ]
    },
    {
     "name": "stderr",
     "output_type": "stream",
     "text": [
      " 60%|██████    | 18/30 [02:08<01:27,  7.25s/it]"
     ]
    },
    {
     "name": "stdout",
     "output_type": "stream",
     "text": [
      "[Epoch 18/30] Train Loss: 0.4097 Val Loss: 0.4083 Train Acc: 0.8703 Val Acc: 0.8250\n"
     ]
    },
    {
     "name": "stderr",
     "output_type": "stream",
     "text": [
      " 63%|██████▎   | 19/30 [02:15<01:18,  7.17s/it]"
     ]
    },
    {
     "name": "stdout",
     "output_type": "stream",
     "text": [
      "[Epoch 19/30] Train Loss: 0.3840 Val Loss: 0.4089 Train Acc: 0.8828 Val Acc: 0.8500\n"
     ]
    },
    {
     "name": "stderr",
     "output_type": "stream",
     "text": [
      " 67%|██████▋   | 20/30 [02:21<01:08,  6.81s/it]"
     ]
    },
    {
     "name": "stdout",
     "output_type": "stream",
     "text": [
      "[Epoch 20/30] Train Loss: 0.3813 Val Loss: 0.4016 Train Acc: 0.9121 Val Acc: 0.8250\n"
     ]
    },
    {
     "name": "stderr",
     "output_type": "stream",
     "text": [
      " 70%|███████   | 21/30 [02:28<01:02,  6.99s/it]"
     ]
    },
    {
     "name": "stdout",
     "output_type": "stream",
     "text": [
      "[Epoch 21/30] Train Loss: 0.3636 Val Loss: 0.3931 Train Acc: 0.9163 Val Acc: 0.8250\n"
     ]
    },
    {
     "name": "stderr",
     "output_type": "stream",
     "text": [
      " 73%|███████▎  | 22/30 [02:36<00:56,  7.10s/it]"
     ]
    },
    {
     "name": "stdout",
     "output_type": "stream",
     "text": [
      "[Epoch 22/30] Train Loss: 0.3864 Val Loss: 0.4006 Train Acc: 0.8787 Val Acc: 0.8250\n"
     ]
    },
    {
     "name": "stderr",
     "output_type": "stream",
     "text": [
      " 77%|███████▋  | 23/30 [02:44<00:51,  7.34s/it]"
     ]
    },
    {
     "name": "stdout",
     "output_type": "stream",
     "text": [
      "[Epoch 23/30] Train Loss: 0.3316 Val Loss: 0.3820 Train Acc: 0.9205 Val Acc: 0.8250\n"
     ]
    },
    {
     "name": "stderr",
     "output_type": "stream",
     "text": [
      " 80%|████████  | 24/30 [02:50<00:41,  6.98s/it]"
     ]
    },
    {
     "name": "stdout",
     "output_type": "stream",
     "text": [
      "[Epoch 24/30] Train Loss: 0.3334 Val Loss: 0.3782 Train Acc: 0.9121 Val Acc: 0.8250\n"
     ]
    },
    {
     "name": "stderr",
     "output_type": "stream",
     "text": [
      " 83%|████████▎ | 25/30 [02:57<00:35,  7.13s/it]"
     ]
    },
    {
     "name": "stdout",
     "output_type": "stream",
     "text": [
      "[Epoch 25/30] Train Loss: 0.3350 Val Loss: 0.3752 Train Acc: 0.8954 Val Acc: 0.8250\n"
     ]
    },
    {
     "name": "stderr",
     "output_type": "stream",
     "text": [
      " 87%|████████▋ | 26/30 [03:06<00:30,  7.55s/it]"
     ]
    },
    {
     "name": "stdout",
     "output_type": "stream",
     "text": [
      "[Epoch 26/30] Train Loss: 0.3102 Val Loss: 0.3691 Train Acc: 0.9289 Val Acc: 0.8250\n"
     ]
    },
    {
     "name": "stderr",
     "output_type": "stream",
     "text": [
      " 90%|█████████ | 27/30 [03:14<00:23,  7.85s/it]"
     ]
    },
    {
     "name": "stdout",
     "output_type": "stream",
     "text": [
      "[Epoch 27/30] Train Loss: 0.3208 Val Loss: 0.3638 Train Acc: 0.9163 Val Acc: 0.8250\n"
     ]
    },
    {
     "name": "stderr",
     "output_type": "stream",
     "text": [
      " 93%|█████████▎| 28/30 [03:22<00:15,  7.72s/it]"
     ]
    },
    {
     "name": "stdout",
     "output_type": "stream",
     "text": [
      "[Epoch 28/30] Train Loss: 0.2989 Val Loss: 0.3621 Train Acc: 0.8996 Val Acc: 0.8250\n"
     ]
    },
    {
     "name": "stderr",
     "output_type": "stream",
     "text": [
      " 97%|█████████▋| 29/30 [03:31<00:08,  8.04s/it]"
     ]
    },
    {
     "name": "stdout",
     "output_type": "stream",
     "text": [
      "[Epoch 29/30] Train Loss: 0.3143 Val Loss: 0.3615 Train Acc: 0.9079 Val Acc: 0.8250\n"
     ]
    },
    {
     "name": "stderr",
     "output_type": "stream",
     "text": [
      "100%|██████████| 30/30 [03:39<00:00,  7.33s/it]"
     ]
    },
    {
     "name": "stdout",
     "output_type": "stream",
     "text": [
      "[Epoch 30/30] Train Loss: 0.2704 Val Loss: 0.3635 Train Acc: 0.9456 Val Acc: 0.8250\n"
     ]
    },
    {
     "name": "stderr",
     "output_type": "stream",
     "text": [
      "\n"
     ]
    },
    {
     "name": "stdout",
     "output_type": "stream",
     "text": [
      "Accuracy: 0.9333333333333333\n",
      "Classification Report:\n",
      "               precision    recall  f1-score   support\n",
      "\n",
      "           0       0.91      0.97      0.94        60\n",
      "           1       0.96      0.90      0.93        60\n",
      "\n",
      "    accuracy                           0.93       120\n",
      "   macro avg       0.94      0.93      0.93       120\n",
      "weighted avg       0.94      0.93      0.93       120\n",
      "\n",
      "Confusion Matrix:\n",
      " [[58  2]\n",
      " [ 6 54]]\n",
      "Model saved at ../models/minialexnet-2025-03-26-17:55:44.pt\n"
     ]
    },
    {
     "data": {
      "text/html": [],
      "text/plain": [
       "<IPython.core.display.HTML object>"
      ]
     },
     "metadata": {},
     "output_type": "display_data"
    },
    {
     "data": {
      "text/html": [
       "<br>    <style><br>        .wandb-row {<br>            display: flex;<br>            flex-direction: row;<br>            flex-wrap: wrap;<br>            justify-content: flex-start;<br>            width: 100%;<br>        }<br>        .wandb-col {<br>            display: flex;<br>            flex-direction: column;<br>            flex-basis: 100%;<br>            flex: 1;<br>            padding: 10px;<br>        }<br>    </style><br><div class=\"wandb-row\"><div class=\"wandb-col\"><h3>Run history:</h3><br/><table class=\"wandb\"><tr><td>test_accuracy</td><td>▁</td></tr><tr><td>train_acc</td><td>▁▂▃▃▄▅▆▅▅▆▇▇▇▇▆▇▇▇▇██▇██▇██▇▇█</td></tr><tr><td>train_loss</td><td>█▇▇▇▆▆▆▅▅▅▄▄▄▄▄▃▄▃▃▃▂▃▂▂▂▂▂▁▂▁</td></tr><tr><td>val_acc</td><td>▁▃▄▆▆▇▇▇█▇████████████████████</td></tr><tr><td>val_loss</td><td>█▇▇▆▆▅▅▅▄▄▄▃▃▃▃▃▂▂▂▂▂▂▁▁▁▁▁▁▁▁</td></tr></table><br/></div><div class=\"wandb-col\"><h3>Run summary:</h3><br/><table class=\"wandb\"><tr><td>test_accuracy</td><td>0.93333</td></tr><tr><td>train_acc</td><td>0.94561</td></tr><tr><td>train_loss</td><td>0.27035</td></tr><tr><td>val_acc</td><td>0.825</td></tr><tr><td>val_loss</td><td>0.3635</td></tr></table><br/></div></div>"
      ],
      "text/plain": [
       "<IPython.core.display.HTML object>"
      ]
     },
     "metadata": {},
     "output_type": "display_data"
    },
    {
     "data": {
      "text/html": [
       " View run <strong style=\"color:#cdcd00\">radiant-sweep-2</strong> at: <a href='https://wandb.ai/beehappy2554-bosch-global/minialexnet/runs/gcbcw8lj' target=\"_blank\">https://wandb.ai/beehappy2554-bosch-global/minialexnet/runs/gcbcw8lj</a><br> View project at: <a href='https://wandb.ai/beehappy2554-bosch-global/minialexnet' target=\"_blank\">https://wandb.ai/beehappy2554-bosch-global/minialexnet</a><br>Synced 5 W&B file(s), 1 media file(s), 4 artifact file(s) and 0 other file(s)"
      ],
      "text/plain": [
       "<IPython.core.display.HTML object>"
      ]
     },
     "metadata": {},
     "output_type": "display_data"
    },
    {
     "data": {
      "text/html": [
       "Find logs at: <code>./wandb/run-20250326_175538-gcbcw8lj/logs</code>"
      ],
      "text/plain": [
       "<IPython.core.display.HTML object>"
      ]
     },
     "metadata": {},
     "output_type": "display_data"
    },
    {
     "name": "stderr",
     "output_type": "stream",
     "text": [
      "\u001b[34m\u001b[1mwandb\u001b[0m: Agent Starting Run: i0dvvj4r with config:\n",
      "\u001b[34m\u001b[1mwandb\u001b[0m: \tbatch_size: 64\n",
      "\u001b[34m\u001b[1mwandb\u001b[0m: \tlr: 0.0010734472971732978\n",
      "\u001b[34m\u001b[1mwandb\u001b[0m: \tnum_epochs: 20\n",
      "\u001b[34m\u001b[1mwandb\u001b[0m: \toptimizer: adamw\n"
     ]
    },
    {
     "data": {
      "text/html": [
       "Ignoring project 'minialexnet' when running a sweep."
      ],
      "text/plain": [
       "<IPython.core.display.HTML object>"
      ]
     },
     "metadata": {},
     "output_type": "display_data"
    },
    {
     "data": {
      "text/html": [
       "Tracking run with wandb version 0.19.8"
      ],
      "text/plain": [
       "<IPython.core.display.HTML object>"
      ]
     },
     "metadata": {},
     "output_type": "display_data"
    },
    {
     "data": {
      "text/html": [
       "Run data is saved locally in <code>/mnt/c/Users/beeha/VSCode/! - Self-study/I.2 MLOps/wandb/lab02 - artifacts/src/wandb/run-20250326_175939-i0dvvj4r</code>"
      ],
      "text/plain": [
       "<IPython.core.display.HTML object>"
      ]
     },
     "metadata": {},
     "output_type": "display_data"
    },
    {
     "data": {
      "text/html": [
       "Syncing run <strong><a href='https://wandb.ai/beehappy2554-bosch-global/minialexnet/runs/i0dvvj4r' target=\"_blank\">jolly-sweep-3</a></strong> to <a href='https://wandb.ai/beehappy2554-bosch-global/minialexnet' target=\"_blank\">Weights & Biases</a> (<a href='https://wandb.me/developer-guide' target=\"_blank\">docs</a>)<br>Sweep page: <a href='https://wandb.ai/beehappy2554-bosch-global/minialexnet/sweeps/va11cc4e' target=\"_blank\">https://wandb.ai/beehappy2554-bosch-global/minialexnet/sweeps/va11cc4e</a>"
      ],
      "text/plain": [
       "<IPython.core.display.HTML object>"
      ]
     },
     "metadata": {},
     "output_type": "display_data"
    },
    {
     "data": {
      "text/html": [
       " View project at <a href='https://wandb.ai/beehappy2554-bosch-global/minialexnet' target=\"_blank\">https://wandb.ai/beehappy2554-bosch-global/minialexnet</a>"
      ],
      "text/plain": [
       "<IPython.core.display.HTML object>"
      ]
     },
     "metadata": {},
     "output_type": "display_data"
    },
    {
     "data": {
      "text/html": [
       " View sweep at <a href='https://wandb.ai/beehappy2554-bosch-global/minialexnet/sweeps/va11cc4e' target=\"_blank\">https://wandb.ai/beehappy2554-bosch-global/minialexnet/sweeps/va11cc4e</a>"
      ],
      "text/plain": [
       "<IPython.core.display.HTML object>"
      ]
     },
     "metadata": {},
     "output_type": "display_data"
    },
    {
     "data": {
      "text/html": [
       " View run at <a href='https://wandb.ai/beehappy2554-bosch-global/minialexnet/runs/i0dvvj4r' target=\"_blank\">https://wandb.ai/beehappy2554-bosch-global/minialexnet/runs/i0dvvj4r</a>"
      ],
      "text/plain": [
       "<IPython.core.display.HTML object>"
      ]
     },
     "metadata": {},
     "output_type": "display_data"
    },
    {
     "name": "stderr",
     "output_type": "stream",
     "text": [
      "\u001b[34m\u001b[1mwandb\u001b[0m: \u001b[33mWARNING\u001b[0m Config item 'lr' was locked by 'sweep' (ignored update).\n",
      "\u001b[34m\u001b[1mwandb\u001b[0m: \u001b[33mWARNING\u001b[0m Config item 'num_epochs' was locked by 'sweep' (ignored update).\n",
      "\u001b[34m\u001b[1mwandb\u001b[0m: \u001b[33mWARNING\u001b[0m Config item 'batch_size' was locked by 'sweep' (ignored update).\n",
      "\u001b[34m\u001b[1mwandb\u001b[0m: \u001b[33mWARNING\u001b[0m Config item 'optimizer' was locked by 'sweep' (ignored update).\n",
      "\u001b[34m\u001b[1mwandb\u001b[0m: Downloading large artifact minialexnet-dataset:latest, 128.34MB. 399 files... \n",
      "\u001b[34m\u001b[1mwandb\u001b[0m:   399 of 399 files downloaded.  \n",
      "Done. 0:0:2.6\n"
     ]
    },
    {
     "name": "stdout",
     "output_type": "stream",
     "text": [
      "{'lr': '1e-5', 'num_epochs': 30, 'batch_size': 4, 'optimizer': 'sgd', 'weight_decay': 0.0001, 'momentum': 0.9}\n",
      "Training model...\n",
      "Device: cuda\n",
      "Number of epochs: 30\n",
      "Optimizer: SGD (\n",
      "Parameter Group 0\n",
      "    dampening: 0\n",
      "    differentiable: False\n",
      "    foreach: None\n",
      "    fused: None\n",
      "    lr: 1e-05\n",
      "    maximize: False\n",
      "    momentum: 0.9\n",
      "    nesterov: False\n",
      "    weight_decay: 0.0001\n",
      ")\n",
      "Criterion: CrossEntropyLoss()\n",
      "Dataset: 239 training samples, 40 validation samples\n"
     ]
    },
    {
     "name": "stderr",
     "output_type": "stream",
     "text": [
      "  3%|▎         | 1/30 [00:08<03:52,  8.02s/it]"
     ]
    },
    {
     "name": "stdout",
     "output_type": "stream",
     "text": [
      "[Epoch 1/30] Train Loss: 0.6676 Val Loss: 0.6616 Train Acc: 0.5774 Val Acc: 0.7250\n"
     ]
    },
    {
     "name": "stderr",
     "output_type": "stream",
     "text": [
      "  7%|▋         | 2/30 [00:18<04:20,  9.29s/it]"
     ]
    },
    {
     "name": "stdout",
     "output_type": "stream",
     "text": [
      "[Epoch 2/30] Train Loss: 0.6300 Val Loss: 0.6178 Train Acc: 0.6653 Val Acc: 0.6500\n"
     ]
    },
    {
     "name": "stderr",
     "output_type": "stream",
     "text": [
      " 10%|█         | 3/30 [00:25<03:51,  8.59s/it]"
     ]
    },
    {
     "name": "stdout",
     "output_type": "stream",
     "text": [
      "[Epoch 3/30] Train Loss: 0.6138 Val Loss: 0.5940 Train Acc: 0.6695 Val Acc: 0.7500\n"
     ]
    },
    {
     "name": "stderr",
     "output_type": "stream",
     "text": [
      " 13%|█▎        | 4/30 [00:34<03:45,  8.66s/it]"
     ]
    },
    {
     "name": "stdout",
     "output_type": "stream",
     "text": [
      "[Epoch 4/30] Train Loss: 0.6247 Val Loss: 0.5733 Train Acc: 0.6527 Val Acc: 0.7500\n"
     ]
    },
    {
     "name": "stderr",
     "output_type": "stream",
     "text": [
      " 17%|█▋        | 5/30 [00:43<03:36,  8.66s/it]"
     ]
    },
    {
     "name": "stdout",
     "output_type": "stream",
     "text": [
      "[Epoch 5/30] Train Loss: 0.5781 Val Loss: 0.5599 Train Acc: 0.7406 Val Acc: 0.7500\n"
     ]
    },
    {
     "name": "stderr",
     "output_type": "stream",
     "text": [
      " 20%|██        | 6/30 [00:52<03:28,  8.70s/it]"
     ]
    },
    {
     "name": "stdout",
     "output_type": "stream",
     "text": [
      "[Epoch 6/30] Train Loss: 0.5593 Val Loss: 0.5410 Train Acc: 0.7657 Val Acc: 0.7500\n"
     ]
    },
    {
     "name": "stderr",
     "output_type": "stream",
     "text": [
      " 23%|██▎       | 7/30 [00:59<03:09,  8.23s/it]"
     ]
    },
    {
     "name": "stdout",
     "output_type": "stream",
     "text": [
      "[Epoch 7/30] Train Loss: 0.5389 Val Loss: 0.5217 Train Acc: 0.7908 Val Acc: 0.7750\n"
     ]
    },
    {
     "name": "stderr",
     "output_type": "stream",
     "text": [
      " 27%|██▋       | 8/30 [01:07<03:00,  8.18s/it]"
     ]
    },
    {
     "name": "stdout",
     "output_type": "stream",
     "text": [
      "[Epoch 8/30] Train Loss: 0.5347 Val Loss: 0.5132 Train Acc: 0.7950 Val Acc: 0.8750\n"
     ]
    },
    {
     "name": "stderr",
     "output_type": "stream",
     "text": [
      " 30%|███       | 9/30 [01:15<02:52,  8.21s/it]"
     ]
    },
    {
     "name": "stdout",
     "output_type": "stream",
     "text": [
      "[Epoch 9/30] Train Loss: 0.5124 Val Loss: 0.4923 Train Acc: 0.8285 Val Acc: 0.8250\n"
     ]
    },
    {
     "name": "stderr",
     "output_type": "stream",
     "text": [
      " 33%|███▎      | 10/30 [01:24<02:46,  8.33s/it]"
     ]
    },
    {
     "name": "stdout",
     "output_type": "stream",
     "text": [
      "[Epoch 10/30] Train Loss: 0.4748 Val Loss: 0.4739 Train Acc: 0.8452 Val Acc: 0.8000\n"
     ]
    },
    {
     "name": "stderr",
     "output_type": "stream",
     "text": [
      " 37%|███▋      | 11/30 [01:31<02:33,  8.06s/it]"
     ]
    },
    {
     "name": "stdout",
     "output_type": "stream",
     "text": [
      "[Epoch 11/30] Train Loss: 0.4832 Val Loss: 0.4606 Train Acc: 0.8452 Val Acc: 0.8250\n"
     ]
    },
    {
     "name": "stderr",
     "output_type": "stream",
     "text": [
      " 40%|████      | 12/30 [01:41<02:32,  8.45s/it]"
     ]
    },
    {
     "name": "stdout",
     "output_type": "stream",
     "text": [
      "[Epoch 12/30] Train Loss: 0.4466 Val Loss: 0.4503 Train Acc: 0.8745 Val Acc: 0.8250\n"
     ]
    },
    {
     "name": "stderr",
     "output_type": "stream",
     "text": [
      " 43%|████▎     | 13/30 [01:50<02:26,  8.61s/it]"
     ]
    },
    {
     "name": "stdout",
     "output_type": "stream",
     "text": [
      "[Epoch 13/30] Train Loss: 0.4340 Val Loss: 0.4398 Train Acc: 0.8954 Val Acc: 0.8250\n"
     ]
    },
    {
     "name": "stderr",
     "output_type": "stream",
     "text": [
      " 47%|████▋     | 14/30 [01:57<02:11,  8.20s/it]"
     ]
    },
    {
     "name": "stdout",
     "output_type": "stream",
     "text": [
      "[Epoch 14/30] Train Loss: 0.4334 Val Loss: 0.4315 Train Acc: 0.8703 Val Acc: 0.8250\n"
     ]
    },
    {
     "name": "stderr",
     "output_type": "stream",
     "text": [
      " 50%|█████     | 15/30 [02:07<02:09,  8.63s/it]"
     ]
    },
    {
     "name": "stdout",
     "output_type": "stream",
     "text": [
      "[Epoch 15/30] Train Loss: 0.3952 Val Loss: 0.4140 Train Acc: 0.9079 Val Acc: 0.8500\n"
     ]
    },
    {
     "name": "stderr",
     "output_type": "stream",
     "text": [
      " 53%|█████▎    | 16/30 [02:16<02:03,  8.85s/it]"
     ]
    },
    {
     "name": "stdout",
     "output_type": "stream",
     "text": [
      "[Epoch 16/30] Train Loss: 0.4367 Val Loss: 0.4086 Train Acc: 0.8285 Val Acc: 0.8250\n"
     ]
    },
    {
     "name": "stderr",
     "output_type": "stream",
     "text": [
      " 57%|█████▋    | 17/30 [02:25<01:56,  8.96s/it]"
     ]
    },
    {
     "name": "stdout",
     "output_type": "stream",
     "text": [
      "[Epoch 17/30] Train Loss: 0.3714 Val Loss: 0.4034 Train Acc: 0.8912 Val Acc: 0.8250\n"
     ]
    },
    {
     "name": "stderr",
     "output_type": "stream",
     "text": [
      " 60%|██████    | 18/30 [02:32<01:40,  8.33s/it]"
     ]
    },
    {
     "name": "stdout",
     "output_type": "stream",
     "text": [
      "[Epoch 18/30] Train Loss: 0.3589 Val Loss: 0.3955 Train Acc: 0.9247 Val Acc: 0.8250\n"
     ]
    },
    {
     "name": "stderr",
     "output_type": "stream",
     "text": [
      " 63%|██████▎   | 19/30 [02:41<01:33,  8.51s/it]"
     ]
    },
    {
     "name": "stdout",
     "output_type": "stream",
     "text": [
      "[Epoch 19/30] Train Loss: 0.3413 Val Loss: 0.3870 Train Acc: 0.8954 Val Acc: 0.8500\n"
     ]
    },
    {
     "name": "stderr",
     "output_type": "stream",
     "text": [
      " 67%|██████▋   | 20/30 [02:51<01:29,  8.90s/it]"
     ]
    },
    {
     "name": "stdout",
     "output_type": "stream",
     "text": [
      "[Epoch 20/30] Train Loss: 0.3256 Val Loss: 0.3861 Train Acc: 0.9331 Val Acc: 0.8250\n"
     ]
    },
    {
     "name": "stderr",
     "output_type": "stream",
     "text": [
      " 70%|███████   | 21/30 [02:58<01:16,  8.52s/it]"
     ]
    },
    {
     "name": "stdout",
     "output_type": "stream",
     "text": [
      "[Epoch 21/30] Train Loss: 0.3271 Val Loss: 0.3744 Train Acc: 0.9289 Val Acc: 0.8250\n"
     ]
    },
    {
     "name": "stderr",
     "output_type": "stream",
     "text": [
      " 73%|███████▎  | 22/30 [03:07<01:09,  8.69s/it]"
     ]
    },
    {
     "name": "stdout",
     "output_type": "stream",
     "text": [
      "[Epoch 22/30] Train Loss: 0.3300 Val Loss: 0.3777 Train Acc: 0.8912 Val Acc: 0.8250\n"
     ]
    },
    {
     "name": "stderr",
     "output_type": "stream",
     "text": [
      " 77%|███████▋  | 23/30 [03:17<01:02,  8.94s/it]"
     ]
    },
    {
     "name": "stdout",
     "output_type": "stream",
     "text": [
      "[Epoch 23/30] Train Loss: 0.3161 Val Loss: 0.3785 Train Acc: 0.9038 Val Acc: 0.8250\n"
     ]
    },
    {
     "name": "stderr",
     "output_type": "stream",
     "text": [
      " 80%|████████  | 24/30 [03:26<00:53,  8.96s/it]"
     ]
    },
    {
     "name": "stdout",
     "output_type": "stream",
     "text": [
      "[Epoch 24/30] Train Loss: 0.3315 Val Loss: 0.3639 Train Acc: 0.8828 Val Acc: 0.8250\n"
     ]
    },
    {
     "name": "stderr",
     "output_type": "stream",
     "text": [
      " 83%|████████▎ | 25/30 [03:33<00:42,  8.45s/it]"
     ]
    },
    {
     "name": "stdout",
     "output_type": "stream",
     "text": [
      "[Epoch 25/30] Train Loss: 0.3108 Val Loss: 0.3602 Train Acc: 0.9121 Val Acc: 0.8250\n"
     ]
    },
    {
     "name": "stderr",
     "output_type": "stream",
     "text": [
      " 87%|████████▋ | 26/30 [03:42<00:34,  8.62s/it]"
     ]
    },
    {
     "name": "stdout",
     "output_type": "stream",
     "text": [
      "[Epoch 26/30] Train Loss: 0.3189 Val Loss: 0.3609 Train Acc: 0.8870 Val Acc: 0.8250\n"
     ]
    },
    {
     "name": "stderr",
     "output_type": "stream",
     "text": [
      " 90%|█████████ | 27/30 [03:51<00:25,  8.61s/it]"
     ]
    },
    {
     "name": "stdout",
     "output_type": "stream",
     "text": [
      "[Epoch 27/30] Train Loss: 0.2950 Val Loss: 0.3542 Train Acc: 0.9121 Val Acc: 0.8250\n"
     ]
    },
    {
     "name": "stderr",
     "output_type": "stream",
     "text": [
      " 93%|█████████▎| 28/30 [03:59<00:17,  8.62s/it]"
     ]
    },
    {
     "name": "stdout",
     "output_type": "stream",
     "text": [
      "[Epoch 28/30] Train Loss: 0.2897 Val Loss: 0.3553 Train Acc: 0.9247 Val Acc: 0.8250\n"
     ]
    },
    {
     "name": "stderr",
     "output_type": "stream",
     "text": [
      " 97%|█████████▋| 29/30 [04:07<00:08,  8.32s/it]"
     ]
    },
    {
     "name": "stdout",
     "output_type": "stream",
     "text": [
      "[Epoch 29/30] Train Loss: 0.2534 Val Loss: 0.3552 Train Acc: 0.9372 Val Acc: 0.8000\n"
     ]
    },
    {
     "name": "stderr",
     "output_type": "stream",
     "text": [
      "100%|██████████| 30/30 [04:16<00:00,  8.55s/it]"
     ]
    },
    {
     "name": "stdout",
     "output_type": "stream",
     "text": [
      "[Epoch 30/30] Train Loss: 0.2609 Val Loss: 0.3507 Train Acc: 0.9289 Val Acc: 0.8250\n"
     ]
    },
    {
     "name": "stderr",
     "output_type": "stream",
     "text": [
      "\n"
     ]
    },
    {
     "name": "stdout",
     "output_type": "stream",
     "text": [
      "Accuracy: 0.95\n",
      "Classification Report:\n",
      "               precision    recall  f1-score   support\n",
      "\n",
      "           0       0.94      0.97      0.95        60\n",
      "           1       0.97      0.93      0.95        60\n",
      "\n",
      "    accuracy                           0.95       120\n",
      "   macro avg       0.95      0.95      0.95       120\n",
      "weighted avg       0.95      0.95      0.95       120\n",
      "\n",
      "Confusion Matrix:\n",
      " [[58  2]\n",
      " [ 4 56]]\n",
      "Model saved at ../models/minialexnet-2025-03-26-17:59:45.pt\n"
     ]
    },
    {
     "data": {
      "text/html": [],
      "text/plain": [
       "<IPython.core.display.HTML object>"
      ]
     },
     "metadata": {},
     "output_type": "display_data"
    },
    {
     "data": {
      "text/html": [
       "<br>    <style><br>        .wandb-row {<br>            display: flex;<br>            flex-direction: row;<br>            flex-wrap: wrap;<br>            justify-content: flex-start;<br>            width: 100%;<br>        }<br>        .wandb-col {<br>            display: flex;<br>            flex-direction: column;<br>            flex-basis: 100%;<br>            flex: 1;<br>            padding: 10px;<br>        }<br>    </style><br><div class=\"wandb-row\"><div class=\"wandb-col\"><h3>Run history:</h3><br/><table class=\"wandb\"><tr><td>test_accuracy</td><td>▁</td></tr><tr><td>train_acc</td><td>▁▃▃▂▄▅▅▅▆▆▆▇▇▇▇▆▇█▇██▇▇▇█▇████</td></tr><tr><td>train_loss</td><td>█▇▇▇▆▆▆▆▅▅▅▄▄▄▃▄▃▃▂▂▂▂▂▂▂▂▂▂▁▁</td></tr><tr><td>val_acc</td><td>▃▁▄▄▄▄▅█▆▆▆▆▆▆▇▆▆▆▇▆▆▆▆▆▆▆▆▆▆▆</td></tr><tr><td>val_loss</td><td>█▇▆▆▆▅▅▅▄▄▃▃▃▃▂▂▂▂▂▂▂▂▂▁▁▁▁▁▁▁</td></tr></table><br/></div><div class=\"wandb-col\"><h3>Run summary:</h3><br/><table class=\"wandb\"><tr><td>test_accuracy</td><td>0.95</td></tr><tr><td>train_acc</td><td>0.92887</td></tr><tr><td>train_loss</td><td>0.26089</td></tr><tr><td>val_acc</td><td>0.825</td></tr><tr><td>val_loss</td><td>0.35066</td></tr></table><br/></div></div>"
      ],
      "text/plain": [
       "<IPython.core.display.HTML object>"
      ]
     },
     "metadata": {},
     "output_type": "display_data"
    },
    {
     "data": {
      "text/html": [
       " View run <strong style=\"color:#cdcd00\">jolly-sweep-3</strong> at: <a href='https://wandb.ai/beehappy2554-bosch-global/minialexnet/runs/i0dvvj4r' target=\"_blank\">https://wandb.ai/beehappy2554-bosch-global/minialexnet/runs/i0dvvj4r</a><br> View project at: <a href='https://wandb.ai/beehappy2554-bosch-global/minialexnet' target=\"_blank\">https://wandb.ai/beehappy2554-bosch-global/minialexnet</a><br>Synced 5 W&B file(s), 1 media file(s), 4 artifact file(s) and 0 other file(s)"
      ],
      "text/plain": [
       "<IPython.core.display.HTML object>"
      ]
     },
     "metadata": {},
     "output_type": "display_data"
    },
    {
     "data": {
      "text/html": [
       "Find logs at: <code>./wandb/run-20250326_175939-i0dvvj4r/logs</code>"
      ],
      "text/plain": [
       "<IPython.core.display.HTML object>"
      ]
     },
     "metadata": {},
     "output_type": "display_data"
    },
    {
     "name": "stderr",
     "output_type": "stream",
     "text": [
      "\u001b[34m\u001b[1mwandb\u001b[0m: Agent Starting Run: x1wwr038 with config:\n",
      "\u001b[34m\u001b[1mwandb\u001b[0m: \tbatch_size: 32\n",
      "\u001b[34m\u001b[1mwandb\u001b[0m: \tlr: 0.008176108364263922\n",
      "\u001b[34m\u001b[1mwandb\u001b[0m: \tnum_epochs: 20\n",
      "\u001b[34m\u001b[1mwandb\u001b[0m: \toptimizer: adamw\n"
     ]
    },
    {
     "data": {
      "text/html": [
       "Ignoring project 'minialexnet' when running a sweep."
      ],
      "text/plain": [
       "<IPython.core.display.HTML object>"
      ]
     },
     "metadata": {},
     "output_type": "display_data"
    },
    {
     "data": {
      "text/html": [
       "Tracking run with wandb version 0.19.8"
      ],
      "text/plain": [
       "<IPython.core.display.HTML object>"
      ]
     },
     "metadata": {},
     "output_type": "display_data"
    },
    {
     "data": {
      "text/html": [
       "Run data is saved locally in <code>/mnt/c/Users/beeha/VSCode/! - Self-study/I.2 MLOps/wandb/lab02 - artifacts/src/wandb/run-20250326_180417-x1wwr038</code>"
      ],
      "text/plain": [
       "<IPython.core.display.HTML object>"
      ]
     },
     "metadata": {},
     "output_type": "display_data"
    },
    {
     "data": {
      "text/html": [
       "Syncing run <strong><a href='https://wandb.ai/beehappy2554-bosch-global/minialexnet/runs/x1wwr038' target=\"_blank\">vocal-sweep-4</a></strong> to <a href='https://wandb.ai/beehappy2554-bosch-global/minialexnet' target=\"_blank\">Weights & Biases</a> (<a href='https://wandb.me/developer-guide' target=\"_blank\">docs</a>)<br>Sweep page: <a href='https://wandb.ai/beehappy2554-bosch-global/minialexnet/sweeps/va11cc4e' target=\"_blank\">https://wandb.ai/beehappy2554-bosch-global/minialexnet/sweeps/va11cc4e</a>"
      ],
      "text/plain": [
       "<IPython.core.display.HTML object>"
      ]
     },
     "metadata": {},
     "output_type": "display_data"
    },
    {
     "data": {
      "text/html": [
       " View project at <a href='https://wandb.ai/beehappy2554-bosch-global/minialexnet' target=\"_blank\">https://wandb.ai/beehappy2554-bosch-global/minialexnet</a>"
      ],
      "text/plain": [
       "<IPython.core.display.HTML object>"
      ]
     },
     "metadata": {},
     "output_type": "display_data"
    },
    {
     "data": {
      "text/html": [
       " View sweep at <a href='https://wandb.ai/beehappy2554-bosch-global/minialexnet/sweeps/va11cc4e' target=\"_blank\">https://wandb.ai/beehappy2554-bosch-global/minialexnet/sweeps/va11cc4e</a>"
      ],
      "text/plain": [
       "<IPython.core.display.HTML object>"
      ]
     },
     "metadata": {},
     "output_type": "display_data"
    },
    {
     "data": {
      "text/html": [
       " View run at <a href='https://wandb.ai/beehappy2554-bosch-global/minialexnet/runs/x1wwr038' target=\"_blank\">https://wandb.ai/beehappy2554-bosch-global/minialexnet/runs/x1wwr038</a>"
      ],
      "text/plain": [
       "<IPython.core.display.HTML object>"
      ]
     },
     "metadata": {},
     "output_type": "display_data"
    },
    {
     "name": "stderr",
     "output_type": "stream",
     "text": [
      "\u001b[34m\u001b[1mwandb\u001b[0m: \u001b[33mWARNING\u001b[0m Config item 'lr' was locked by 'sweep' (ignored update).\n",
      "\u001b[34m\u001b[1mwandb\u001b[0m: \u001b[33mWARNING\u001b[0m Config item 'num_epochs' was locked by 'sweep' (ignored update).\n",
      "\u001b[34m\u001b[1mwandb\u001b[0m: \u001b[33mWARNING\u001b[0m Config item 'batch_size' was locked by 'sweep' (ignored update).\n",
      "\u001b[34m\u001b[1mwandb\u001b[0m: \u001b[33mWARNING\u001b[0m Config item 'optimizer' was locked by 'sweep' (ignored update).\n",
      "\u001b[34m\u001b[1mwandb\u001b[0m: Downloading large artifact minialexnet-dataset:latest, 128.34MB. 399 files... \n",
      "\u001b[34m\u001b[1mwandb\u001b[0m:   399 of 399 files downloaded.  \n",
      "Done. 0:0:3.0\n"
     ]
    },
    {
     "name": "stdout",
     "output_type": "stream",
     "text": [
      "{'lr': '1e-5', 'num_epochs': 30, 'batch_size': 4, 'optimizer': 'sgd', 'weight_decay': 0.0001, 'momentum': 0.9}\n",
      "Training model...\n",
      "Device: cuda\n",
      "Number of epochs: 30\n",
      "Optimizer: SGD (\n",
      "Parameter Group 0\n",
      "    dampening: 0\n",
      "    differentiable: False\n",
      "    foreach: None\n",
      "    fused: None\n",
      "    lr: 1e-05\n",
      "    maximize: False\n",
      "    momentum: 0.9\n",
      "    nesterov: False\n",
      "    weight_decay: 0.0001\n",
      ")\n",
      "Criterion: CrossEntropyLoss()\n",
      "Dataset: 239 training samples, 40 validation samples\n"
     ]
    },
    {
     "name": "stderr",
     "output_type": "stream",
     "text": [
      "  3%|▎         | 1/30 [00:06<03:13,  6.66s/it]"
     ]
    },
    {
     "name": "stdout",
     "output_type": "stream",
     "text": [
      "[Epoch 1/30] Train Loss: 0.7039 Val Loss: 0.6761 Train Acc: 0.5481 Val Acc: 0.6250\n"
     ]
    },
    {
     "name": "stderr",
     "output_type": "stream",
     "text": [
      "  7%|▋         | 2/30 [00:15<03:44,  8.03s/it]"
     ]
    },
    {
     "name": "stdout",
     "output_type": "stream",
     "text": [
      "[Epoch 2/30] Train Loss: 0.6593 Val Loss: 0.6354 Train Acc: 0.6109 Val Acc: 0.6250\n"
     ]
    },
    {
     "name": "stderr",
     "output_type": "stream",
     "text": [
      " 10%|█         | 3/30 [00:24<03:48,  8.45s/it]"
     ]
    },
    {
     "name": "stdout",
     "output_type": "stream",
     "text": [
      "[Epoch 3/30] Train Loss: 0.6439 Val Loss: 0.6131 Train Acc: 0.6276 Val Acc: 0.6500\n"
     ]
    },
    {
     "name": "stderr",
     "output_type": "stream",
     "text": [
      " 13%|█▎        | 4/30 [00:33<03:42,  8.54s/it]"
     ]
    },
    {
     "name": "stdout",
     "output_type": "stream",
     "text": [
      "[Epoch 4/30] Train Loss: 0.5947 Val Loss: 0.5947 Train Acc: 0.7364 Val Acc: 0.7000\n"
     ]
    },
    {
     "name": "stderr",
     "output_type": "stream",
     "text": [
      " 17%|█▋        | 5/30 [00:40<03:22,  8.10s/it]"
     ]
    },
    {
     "name": "stdout",
     "output_type": "stream",
     "text": [
      "[Epoch 5/30] Train Loss: 0.5946 Val Loss: 0.5764 Train Acc: 0.7322 Val Acc: 0.7250\n"
     ]
    },
    {
     "name": "stderr",
     "output_type": "stream",
     "text": [
      " 20%|██        | 6/30 [00:49<03:24,  8.50s/it]"
     ]
    },
    {
     "name": "stdout",
     "output_type": "stream",
     "text": [
      "[Epoch 6/30] Train Loss: 0.5752 Val Loss: 0.5566 Train Acc: 0.7741 Val Acc: 0.8000\n"
     ]
    },
    {
     "name": "stderr",
     "output_type": "stream",
     "text": [
      " 23%|██▎       | 7/30 [00:58<03:16,  8.54s/it]"
     ]
    },
    {
     "name": "stdout",
     "output_type": "stream",
     "text": [
      "[Epoch 7/30] Train Loss: 0.5749 Val Loss: 0.5355 Train Acc: 0.7782 Val Acc: 0.8250\n"
     ]
    },
    {
     "name": "stderr",
     "output_type": "stream",
     "text": [
      " 27%|██▋       | 8/30 [01:06<03:07,  8.53s/it]"
     ]
    },
    {
     "name": "stdout",
     "output_type": "stream",
     "text": [
      "[Epoch 8/30] Train Loss: 0.5257 Val Loss: 0.5175 Train Acc: 0.8243 Val Acc: 0.8500\n"
     ]
    },
    {
     "name": "stderr",
     "output_type": "stream",
     "text": [
      " 30%|███       | 9/30 [01:13<02:46,  7.93s/it]"
     ]
    },
    {
     "name": "stdout",
     "output_type": "stream",
     "text": [
      "[Epoch 9/30] Train Loss: 0.5141 Val Loss: 0.4976 Train Acc: 0.8243 Val Acc: 0.8500\n"
     ]
    },
    {
     "name": "stderr",
     "output_type": "stream",
     "text": [
      " 33%|███▎      | 10/30 [01:22<02:45,  8.28s/it]"
     ]
    },
    {
     "name": "stdout",
     "output_type": "stream",
     "text": [
      "[Epoch 10/30] Train Loss: 0.4999 Val Loss: 0.4810 Train Acc: 0.8619 Val Acc: 0.8250\n"
     ]
    },
    {
     "name": "stderr",
     "output_type": "stream",
     "text": [
      " 37%|███▋      | 11/30 [01:31<02:41,  8.50s/it]"
     ]
    },
    {
     "name": "stdout",
     "output_type": "stream",
     "text": [
      "[Epoch 11/30] Train Loss: 0.4916 Val Loss: 0.4652 Train Acc: 0.8619 Val Acc: 0.8500\n"
     ]
    },
    {
     "name": "stderr",
     "output_type": "stream",
     "text": [
      " 40%|████      | 12/30 [01:39<02:30,  8.38s/it]"
     ]
    },
    {
     "name": "stdout",
     "output_type": "stream",
     "text": [
      "[Epoch 12/30] Train Loss: 0.4751 Val Loss: 0.4525 Train Acc: 0.8703 Val Acc: 0.8500\n"
     ]
    },
    {
     "name": "stderr",
     "output_type": "stream",
     "text": [
      " 43%|████▎     | 13/30 [01:48<02:23,  8.45s/it]"
     ]
    },
    {
     "name": "stdout",
     "output_type": "stream",
     "text": [
      "[Epoch 13/30] Train Loss: 0.4563 Val Loss: 0.4403 Train Acc: 0.8912 Val Acc: 0.8500\n"
     ]
    },
    {
     "name": "stderr",
     "output_type": "stream",
     "text": [
      " 47%|████▋     | 14/30 [01:57<02:16,  8.53s/it]"
     ]
    },
    {
     "name": "stdout",
     "output_type": "stream",
     "text": [
      "[Epoch 14/30] Train Loss: 0.4451 Val Loss: 0.4235 Train Acc: 0.8870 Val Acc: 0.8500\n"
     ]
    },
    {
     "name": "stderr",
     "output_type": "stream",
     "text": [
      " 50%|█████     | 15/30 [02:05<02:08,  8.59s/it]"
     ]
    },
    {
     "name": "stdout",
     "output_type": "stream",
     "text": [
      "[Epoch 15/30] Train Loss: 0.4283 Val Loss: 0.4176 Train Acc: 0.8619 Val Acc: 0.8500\n"
     ]
    },
    {
     "name": "stderr",
     "output_type": "stream",
     "text": [
      " 53%|█████▎    | 16/30 [02:13<01:54,  8.17s/it]"
     ]
    },
    {
     "name": "stdout",
     "output_type": "stream",
     "text": [
      "[Epoch 16/30] Train Loss: 0.3918 Val Loss: 0.4033 Train Acc: 0.8828 Val Acc: 0.8500\n"
     ]
    },
    {
     "name": "stderr",
     "output_type": "stream",
     "text": [
      " 57%|█████▋    | 17/30 [02:22<01:49,  8.42s/it]"
     ]
    },
    {
     "name": "stdout",
     "output_type": "stream",
     "text": [
      "[Epoch 17/30] Train Loss: 0.3914 Val Loss: 0.3924 Train Acc: 0.9079 Val Acc: 0.8500\n"
     ]
    },
    {
     "name": "stderr",
     "output_type": "stream",
     "text": [
      " 60%|██████    | 18/30 [02:31<01:43,  8.59s/it]"
     ]
    },
    {
     "name": "stdout",
     "output_type": "stream",
     "text": [
      "[Epoch 18/30] Train Loss: 0.3793 Val Loss: 0.3865 Train Acc: 0.9205 Val Acc: 0.8250\n"
     ]
    },
    {
     "name": "stderr",
     "output_type": "stream",
     "text": [
      " 63%|██████▎   | 19/30 [02:39<01:34,  8.55s/it]"
     ]
    },
    {
     "name": "stdout",
     "output_type": "stream",
     "text": [
      "[Epoch 19/30] Train Loss: 0.3691 Val Loss: 0.3738 Train Acc: 0.9121 Val Acc: 0.8500\n"
     ]
    },
    {
     "name": "stderr",
     "output_type": "stream",
     "text": [
      " 67%|██████▋   | 20/30 [02:46<01:21,  8.14s/it]"
     ]
    },
    {
     "name": "stdout",
     "output_type": "stream",
     "text": [
      "[Epoch 20/30] Train Loss: 0.3604 Val Loss: 0.3802 Train Acc: 0.9038 Val Acc: 0.8500\n"
     ]
    },
    {
     "name": "stderr",
     "output_type": "stream",
     "text": [
      " 70%|███████   | 21/30 [02:55<01:14,  8.33s/it]"
     ]
    },
    {
     "name": "stdout",
     "output_type": "stream",
     "text": [
      "[Epoch 21/30] Train Loss: 0.3836 Val Loss: 0.3639 Train Acc: 0.8996 Val Acc: 0.8500\n"
     ]
    },
    {
     "name": "stderr",
     "output_type": "stream",
     "text": [
      " 73%|███████▎  | 22/30 [03:04<01:08,  8.59s/it]"
     ]
    },
    {
     "name": "stdout",
     "output_type": "stream",
     "text": [
      "[Epoch 22/30] Train Loss: 0.3130 Val Loss: 0.3702 Train Acc: 0.9331 Val Acc: 0.8250\n"
     ]
    },
    {
     "name": "stderr",
     "output_type": "stream",
     "text": [
      " 77%|███████▋  | 23/30 [03:13<01:01,  8.81s/it]"
     ]
    },
    {
     "name": "stdout",
     "output_type": "stream",
     "text": [
      "[Epoch 23/30] Train Loss: 0.3201 Val Loss: 0.3601 Train Acc: 0.8954 Val Acc: 0.8500\n"
     ]
    },
    {
     "name": "stderr",
     "output_type": "stream",
     "text": [
      " 80%|████████  | 24/30 [03:20<00:48,  8.14s/it]"
     ]
    },
    {
     "name": "stdout",
     "output_type": "stream",
     "text": [
      "[Epoch 24/30] Train Loss: 0.3303 Val Loss: 0.3487 Train Acc: 0.9038 Val Acc: 0.8500\n"
     ]
    },
    {
     "name": "stderr",
     "output_type": "stream",
     "text": [
      " 83%|████████▎ | 25/30 [03:28<00:41,  8.20s/it]"
     ]
    },
    {
     "name": "stdout",
     "output_type": "stream",
     "text": [
      "[Epoch 25/30] Train Loss: 0.3235 Val Loss: 0.3577 Train Acc: 0.8996 Val Acc: 0.8750\n"
     ]
    },
    {
     "name": "stderr",
     "output_type": "stream",
     "text": [
      " 87%|████████▋ | 26/30 [03:36<00:32,  8.10s/it]"
     ]
    },
    {
     "name": "stdout",
     "output_type": "stream",
     "text": [
      "[Epoch 26/30] Train Loss: 0.3001 Val Loss: 0.3420 Train Acc: 0.9163 Val Acc: 0.8500\n"
     ]
    },
    {
     "name": "stderr",
     "output_type": "stream",
     "text": [
      " 90%|█████████ | 27/30 [03:44<00:24,  8.02s/it]"
     ]
    },
    {
     "name": "stdout",
     "output_type": "stream",
     "text": [
      "[Epoch 27/30] Train Loss: 0.2900 Val Loss: 0.3481 Train Acc: 0.9331 Val Acc: 0.8500\n"
     ]
    },
    {
     "name": "stderr",
     "output_type": "stream",
     "text": [
      " 93%|█████████▎| 28/30 [03:52<00:15,  7.93s/it]"
     ]
    },
    {
     "name": "stdout",
     "output_type": "stream",
     "text": [
      "[Epoch 28/30] Train Loss: 0.2756 Val Loss: 0.3440 Train Acc: 0.9331 Val Acc: 0.8500\n"
     ]
    },
    {
     "name": "stderr",
     "output_type": "stream",
     "text": [
      " 97%|█████████▋| 29/30 [04:00<00:07,  7.88s/it]"
     ]
    },
    {
     "name": "stdout",
     "output_type": "stream",
     "text": [
      "[Epoch 29/30] Train Loss: 0.2987 Val Loss: 0.3568 Train Acc: 0.9163 Val Acc: 0.8750\n"
     ]
    },
    {
     "name": "stderr",
     "output_type": "stream",
     "text": [
      "100%|██████████| 30/30 [04:08<00:00,  8.27s/it]"
     ]
    },
    {
     "name": "stdout",
     "output_type": "stream",
     "text": [
      "[Epoch 30/30] Train Loss: 0.2789 Val Loss: 0.3317 Train Acc: 0.9414 Val Acc: 0.8500\n"
     ]
    },
    {
     "name": "stderr",
     "output_type": "stream",
     "text": [
      "\n"
     ]
    },
    {
     "name": "stdout",
     "output_type": "stream",
     "text": [
      "Accuracy: 0.95\n",
      "Classification Report:\n",
      "               precision    recall  f1-score   support\n",
      "\n",
      "           0       0.92      0.98      0.95        60\n",
      "           1       0.98      0.92      0.95        60\n",
      "\n",
      "    accuracy                           0.95       120\n",
      "   macro avg       0.95      0.95      0.95       120\n",
      "weighted avg       0.95      0.95      0.95       120\n",
      "\n",
      "Confusion Matrix:\n",
      " [[59  1]\n",
      " [ 5 55]]\n",
      "Model saved at ../models/minialexnet-2025-03-26-18:04:24.pt\n"
     ]
    },
    {
     "data": {
      "text/html": [],
      "text/plain": [
       "<IPython.core.display.HTML object>"
      ]
     },
     "metadata": {},
     "output_type": "display_data"
    },
    {
     "data": {
      "text/html": [
       "<br>    <style><br>        .wandb-row {<br>            display: flex;<br>            flex-direction: row;<br>            flex-wrap: wrap;<br>            justify-content: flex-start;<br>            width: 100%;<br>        }<br>        .wandb-col {<br>            display: flex;<br>            flex-direction: column;<br>            flex-basis: 100%;<br>            flex: 1;<br>            padding: 10px;<br>        }<br>    </style><br><div class=\"wandb-row\"><div class=\"wandb-col\"><h3>Run history:</h3><br/><table class=\"wandb\"><tr><td>test_accuracy</td><td>▁</td></tr><tr><td>train_acc</td><td>▁▂▂▄▄▅▅▆▆▇▇▇▇▇▇▇▇█▇▇▇█▇▇▇█████</td></tr><tr><td>train_loss</td><td>█▇▇▆▆▆▆▅▅▅▅▄▄▄▃▃▃▃▃▂▃▂▂▂▂▁▁▁▁▁</td></tr><tr><td>val_acc</td><td>▁▁▂▃▄▆▇▇▇▇▇▇▇▇▇▇▇▇▇▇▇▇▇▇█▇▇▇█▇</td></tr><tr><td>val_loss</td><td>█▇▇▆▆▆▅▅▄▄▄▃▃▃▃▂▂▂▂▂▂▂▂▁▂▁▁▁▂▁</td></tr></table><br/></div><div class=\"wandb-col\"><h3>Run summary:</h3><br/><table class=\"wandb\"><tr><td>test_accuracy</td><td>0.95</td></tr><tr><td>train_acc</td><td>0.94142</td></tr><tr><td>train_loss</td><td>0.27885</td></tr><tr><td>val_acc</td><td>0.85</td></tr><tr><td>val_loss</td><td>0.33169</td></tr></table><br/></div></div>"
      ],
      "text/plain": [
       "<IPython.core.display.HTML object>"
      ]
     },
     "metadata": {},
     "output_type": "display_data"
    },
    {
     "data": {
      "text/html": [
       " View run <strong style=\"color:#cdcd00\">vocal-sweep-4</strong> at: <a href='https://wandb.ai/beehappy2554-bosch-global/minialexnet/runs/x1wwr038' target=\"_blank\">https://wandb.ai/beehappy2554-bosch-global/minialexnet/runs/x1wwr038</a><br> View project at: <a href='https://wandb.ai/beehappy2554-bosch-global/minialexnet' target=\"_blank\">https://wandb.ai/beehappy2554-bosch-global/minialexnet</a><br>Synced 5 W&B file(s), 1 media file(s), 4 artifact file(s) and 0 other file(s)"
      ],
      "text/plain": [
       "<IPython.core.display.HTML object>"
      ]
     },
     "metadata": {},
     "output_type": "display_data"
    },
    {
     "data": {
      "text/html": [
       "Find logs at: <code>./wandb/run-20250326_180417-x1wwr038/logs</code>"
      ],
      "text/plain": [
       "<IPython.core.display.HTML object>"
      ]
     },
     "metadata": {},
     "output_type": "display_data"
    },
    {
     "name": "stderr",
     "output_type": "stream",
     "text": [
      "\u001b[34m\u001b[1mwandb\u001b[0m: Sweep Agent: Waiting for job.\n",
      "\u001b[34m\u001b[1mwandb\u001b[0m: Ctrl + C detected. Stopping sweep.\n",
      "message_loop has been closed\n",
      "Traceback (most recent call last):\n",
      "  File \"/root/anaconda3/envs/pytorch37/lib/python3.9/site-packages/wandb/sdk/interface/router_sock.py\", line 27, in _read_message\n",
      "    return self._sock_client.read_server_response(timeout=1)\n",
      "  File \"/root/anaconda3/envs/pytorch37/lib/python3.9/site-packages/wandb/sdk/lib/sock_client.py\", line 235, in read_server_response\n",
      "    data = self._read_packet_bytes(timeout=timeout)\n",
      "  File \"/root/anaconda3/envs/pytorch37/lib/python3.9/site-packages/wandb/sdk/lib/sock_client.py\", line 220, in _read_packet_bytes\n",
      "    raise SockClientClosedError\n",
      "wandb.sdk.lib.sock_client.SockClientClosedError\n",
      "\n",
      "The above exception was the direct cause of the following exception:\n",
      "\n",
      "Traceback (most recent call last):\n",
      "  File \"/root/anaconda3/envs/pytorch37/lib/python3.9/site-packages/wandb/sdk/interface/router.py\", line 56, in message_loop\n",
      "    msg = self._read_message()\n",
      "  File \"/root/anaconda3/envs/pytorch37/lib/python3.9/site-packages/wandb/sdk/interface/router_sock.py\", line 29, in _read_message\n",
      "    raise MessageRouterClosedError from e\n",
      "wandb.sdk.interface.router.MessageRouterClosedError\n"
     ]
    },
    {
     "data": {
      "image/png": "[encoded data removed]",
      "text/plain": [
       "<Figure size 600x600 with 2 Axes>"
      ]
     },
     "metadata": {},
     "output_type": "display_data"
    },
    {
     "data": {
      "image/png": "[encoded data removed]",
      "text/plain": [
       "<Figure size 600x600 with 2 Axes>"
      ]
     },
     "metadata": {},
     "output_type": "display_data"
    },
    {
     "data": {
      "image/png": "[encoded data removed]",
      "text/plain": [
       "<Figure size 600x600 with 2 Axes>"
      ]
     },
     "metadata": {},
     "output_type": "display_data"
    },
    {
     "data": {
      "image/png": "[encoded data removed]",
      "text/plain": [
       "<Figure size 600x600 with 2 Axes>"
      ]
     },
     "metadata": {},
     "output_type": "display_data"
    }
   ],
   "source": [
    "from train import trainer\n",
    "wandb.agent(sweep_id, trainer)"
   ]
  }
 ],
 "metadata": {
  "kernelspec": {
   "display_name": "pytorch37",
   "language": "python",
   "name": "python3"
  },
  "language_info": {
   "codemirror_mode": {
    "name": "ipython",
    "version": 3
   },
   "file_extension": ".py",
   "mimetype": "text/x-python",
   "name": "python",
   "nbconvert_exporter": "python",
   "pygments_lexer": "ipython3",
   "version": "3.9.21"
  }
 },
 "nbformat": 4,
 "nbformat_minor": 2
}
