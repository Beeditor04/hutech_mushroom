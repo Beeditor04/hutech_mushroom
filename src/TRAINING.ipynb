{
 "cells": [
  {
   "cell_type": "code",
   "execution_count": 10,
   "metadata": {},
   "outputs": [
    {
     "name": "stdout",
     "output_type": "stream",
     "text": [
      "args Namespace(model='alexnet', config='../config/exp.yaml', project='hutech_mushroom', dataset='hutech-dataset:latest')\n",
      "HERE config! {'project': 'hutech_mushroom', 'dataset': 'hutech-dataset:latest', 'model': 'alexnet', 'resize': 224, 'horizontal_flip': 0.5, 'vertical_flip': 0.5, 'random_rotation': 90, 'brightness': 0.2, 'contrast': 0.2, 'saturation': 0.2, 'hue': 0.2, 'kernel_size': [3, 3], 'sigma': [0.1, 3.0], 'scheduler': 'reduce_lr_on_plateau', 'es_patience': 10, 'num_classes': 4, 'lr': '1e-5', 'num_epochs': 30, 'batch_size': 4, 'optimizer': 'adam', 'weight_decay': 0.0001, 'momentum': 0.9}\n",
      "run here! {'project': 'hutech_mushroom', 'dataset': 'hutech-dataset:latest', 'model': 'alexnet', 'resize': 224, 'horizontal_flip': 0.5, 'vertical_flip': 0.5, 'random_rotation': 90, 'brightness': 0.2, 'contrast': 0.2, 'saturation': 0.2, 'hue': 0.2, 'kernel_size': [3, 3], 'sigma': [0.1, 3.0], 'scheduler': 'reduce_lr_on_plateau', 'es_patience': 10, 'num_classes': 4, 'lr': '1e-5', 'num_epochs': 30, 'batch_size': 4, 'optimizer': 'adam', 'weight_decay': 0.0001, 'momentum': 0.9}\n",
      "\u001b[34m\u001b[1mwandb\u001b[0m: Using wandb-core as the SDK backend.  Please refer to https://wandb.me/wandb-core for more information.\n",
      "\u001b[34m\u001b[1mwandb\u001b[0m: Currently logged in as: \u001b[33mbeehappy2554\u001b[0m (\u001b[33mbeehappy2554-bosch-global\u001b[0m) to \u001b[32mhttps://api.wandb.ai\u001b[0m. Use \u001b[1m`wandb login --relogin`\u001b[0m to force relogin\n",
      "\u001b[34m\u001b[1mwandb\u001b[0m: Tracking run with wandb version 0.19.8\n",
      "\u001b[34m\u001b[1mwandb\u001b[0m: Run data is saved locally in \u001b[35m\u001b[1m/mnt/c/Users/beeha/VSCode/! - Self-study/All HUGE Projects/Computer Vision/hutech_mushroom/src/wandb/run-20250329_103657-vhb0485e\u001b[0m\n",
      "\u001b[34m\u001b[1mwandb\u001b[0m: Run \u001b[1m`wandb offline`\u001b[0m to turn off syncing.\n",
      "\u001b[34m\u001b[1mwandb\u001b[0m: Syncing run \u001b[33mdazzling-dawn-9\u001b[0m\n",
      "\u001b[34m\u001b[1mwandb\u001b[0m: ⭐️ View project at \u001b[34m\u001b[4mhttps://wandb.ai/beehappy2554-bosch-global/hutech_mushroom-src\u001b[0m\n",
      "\u001b[34m\u001b[1mwandb\u001b[0m: 🚀 View run at \u001b[34m\u001b[4mhttps://wandb.ai/beehappy2554-bosch-global/hutech_mushroom-src/runs/vhb0485e\u001b[0m\n",
      "here config!!! {'project': 'hutech_mushroom', 'dataset': 'hutech-dataset:latest', 'model': 'alexnet', 'resize': 224, 'horizontal_flip': 0.5, 'vertical_flip': 0.5, 'random_rotation': 90, 'brightness': 0.2, 'contrast': 0.2, 'saturation': 0.2, 'hue': 0.2, 'kernel_size': [3, 3], 'sigma': [0.1, 3.0], 'scheduler': 'reduce_lr_on_plateau', 'es_patience': 10, 'num_classes': 4, 'lr': '1e-5', 'num_epochs': 30, 'batch_size': 4, 'optimizer': 'adam', 'weight_decay': 0.0001, 'momentum': 0.9}\n",
      "HERE config! {}\n",
      "\u001b[34m\u001b[1mwandb\u001b[0m:   1205 of 1205 files downloaded.  \n",
      "{}\n",
      "Traceback (most recent call last):\n",
      "  File \"/mnt/c/Users/beeha/VSCode/! - Self-study/All HUGE Projects/Computer Vision/hutech_mushroom/src/train.py\", line 188, in <module>\n",
      "    trainer()\n",
      "  File \"/mnt/c/Users/beeha/VSCode/! - Self-study/All HUGE Projects/Computer Vision/hutech_mushroom/src/train.py\", line 110, in trainer\n",
      "    train_loader = get_data_loader(artifact_data_dir, config, mode=\"train\")\n",
      "  File \"/mnt/c/Users/beeha/VSCode/! - Self-study/All HUGE Projects/Computer Vision/hutech_mushroom/src/loader/loader.py\", line 10, in get_data_loader\n",
      "    transform_list.append(transforms.Resize(config['resize']))\n",
      "  File \"/root/anaconda3/envs/pytorch37/lib/python3.9/site-packages/wandb/sdk/wandb_config.py\", line 130, in __getitem__\n",
      "    return self._items[key]\n",
      "KeyError: 'resize'\n",
      "\u001b[1;34mwandb\u001b[0m: \n",
      "\u001b[1;34mwandb\u001b[0m: 🚀 View run \u001b[33mdazzling-dawn-9\u001b[0m at: \u001b[34mhttps://wandb.ai/beehappy2554-bosch-global/hutech_mushroom-src/runs/vhb0485e\u001b[0m\n",
      "\u001b[1;34mwandb\u001b[0m: Find logs at: \u001b[1;35mwandb/run-20250329_103657-vhb0485e/logs\u001b[0m\n"
     ]
    }
   ],
   "source": [
    "!python train.py --config \"../config/exp.yaml\""
   ]
  }
 ],
 "metadata": {
  "kernelspec": {
   "display_name": "pytorch37",
   "language": "python",
   "name": "python3"
  },
  "language_info": {
   "codemirror_mode": {
    "name": "ipython",
    "version": 3
   },
   "file_extension": ".py",
   "mimetype": "text/x-python",
   "name": "python",
   "nbconvert_exporter": "python",
   "pygments_lexer": "ipython3",
   "version": "3.9.21"
  }
 },
 "nbformat": 4,
 "nbformat_minor": 2
}
