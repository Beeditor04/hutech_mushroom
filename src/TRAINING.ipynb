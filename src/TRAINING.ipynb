{
 "cells": [
  {
   "cell_type": "markdown",
   "metadata": {},
   "source": [
    "### setup login to wandb"
   ]
  },
  {
   "cell_type": "code",
   "execution_count": 1,
   "metadata": {},
   "outputs": [
    {
     "name": "stderr",
     "output_type": "stream",
     "text": [
      "\u001b[34m\u001b[1mwandb\u001b[0m: Using wandb-core as the SDK backend.  Please refer to https://wandb.me/wandb-core for more information.\n",
      "\u001b[34m\u001b[1mwandb\u001b[0m: \u001b[33mWARNING\u001b[0m If you're specifying your api key in code, ensure this code is not shared publicly.\n",
      "\u001b[34m\u001b[1mwandb\u001b[0m: \u001b[33mWARNING\u001b[0m Consider setting the WANDB_API_KEY environment variable, or running `wandb login` from the command line.\n",
      "\u001b[34m\u001b[1mwandb\u001b[0m: Appending key for api.wandb.ai to your netrc file: /root/.netrc\n",
      "\u001b[34m\u001b[1mwandb\u001b[0m: Currently logged in as: \u001b[33mnhom3ds317\u001b[0m (\u001b[33mnhomcs331-beeditor\u001b[0m) to \u001b[32mhttps://api.wandb.ai\u001b[0m. Use \u001b[1m`wandb login --relogin`\u001b[0m to force relogin\n",
      "\u001b[34m\u001b[1mwandb\u001b[0m: \u001b[33mWARNING\u001b[0m `wandb.require('core')` is redundant as it is now the default behavior.\n"
     ]
    }
   ],
   "source": [
    "# through .env keys\n",
    "import wandb\n",
    "import os\n",
    "from dotenv import load_dotenv\n",
    "load_dotenv()\n",
    "\n",
    "api_key  = os.getenv(\"WANDB_API_KEY_2\")\n",
    "wandb.login(key=api_key)\n",
    "wandb.require(\"core\")"
   ]
  },
  {
   "cell_type": "code",
   "execution_count": 2,
   "metadata": {},
   "outputs": [],
   "source": [
    "# # on notebook\n",
    "# import wandb\n",
    "# api_key  = \"your_api_key_here\"\n",
    "# wandb.login(key=api_key)\n",
    "# wandb.require(\"core\")"
   ]
  },
  {
   "cell_type": "code",
   "execution_count": 3,
   "metadata": {},
   "outputs": [
    {
     "name": "stdout",
     "output_type": "stream",
     "text": [
      "args Namespace(model='alexnet', config='../config/exp.yaml', wandb=1, project='hutech_mushroom', dataset='hutech-dataset:latest')\n",
      "HERE config! {'project': 'hutech_mushroom', 'dataset': 'hutech-dataset:latest', 'model': 'convnext_tiny', 'pretrained': True, 'freeze': False, 'resize': 224, 'horizontal_flip': 0.5, 'vertical_flip': 0.5, 'random_rotation': 90, 'random_affine': 0.2, 'random_perspective': 0.2, 'edge_enhance': True, 'auto_aug': 1, 'normalize': 0, 'scheduler': 'cosine', 'is_warmup': False, 'scheduler_warmup': 0.01, 'scheduler_step': 20, 'scheduler_gamma': 0.5, 'es_patience': 200, 'num_classes': 4, 'lr': '1e-5', 'num_epochs': 2, 'batch_size': 4, 'loss': 'cross_entropy', 'is_weight': False, 'optimizer': 'adamw', 'weight_decay': 0.00025, 'momentum': 0.9}\n",
      "\u001b[34m\u001b[1mwandb\u001b[0m: Currently logged in as: \u001b[33mnhom3ds317\u001b[0m (\u001b[33mnhomcs331-beeditor\u001b[0m) to \u001b[32mhttps://api.wandb.ai\u001b[0m. Use \u001b[1m`wandb login --relogin`\u001b[0m to force relogin\n",
      "\u001b[34m\u001b[1mwandb\u001b[0m: \u001b[38;5;178m⢿\u001b[0m creating run (0.3s)\n",
      "\u001b[34m\u001b[1mwandb\u001b[0m: \u001b[38;5;178m⣻\u001b[0m creating run (0.3s)\n",
      "\u001b[34m\u001b[1mwandb\u001b[0m: \u001b[38;5;178m⣽\u001b[0m creating run (0.3s)\n",
      "\u001b[34m\u001b[1mwandb\u001b[0m: \u001b[38;5;178m⣾\u001b[0m creating run (0.3s)\n",
      "\u001b[34m\u001b[1mwandb\u001b[0m: Tracking run with wandb version 0.19.8\n",
      "\u001b[34m\u001b[1mwandb\u001b[0m: Run data is saved locally in \u001b[35m\u001b[1m/mnt/c/Users/beeha/VSCode/! - Self-study/All HUGE Projects/Computer Vision/hutech_mushroom/src/wandb/run-20250414_214710-j7kwhb3f\u001b[0m\n",
      "\u001b[34m\u001b[1mwandb\u001b[0m: Run \u001b[1m`wandb offline`\u001b[0m to turn off syncing.\n",
      "\u001b[34m\u001b[1mwandb\u001b[0m: Syncing run \u001b[33mhearty-water-4\u001b[0m\n",
      "\u001b[34m\u001b[1mwandb\u001b[0m: ⭐️ View project at \u001b[34m\u001b[4mhttps://wandb.ai/nhomcs331-beeditor/hutech_mushroom\u001b[0m\n",
      "\u001b[34m\u001b[1mwandb\u001b[0m: 🚀 View run at \u001b[34m\u001b[4mhttps://wandb.ai/nhomcs331-beeditor/hutech_mushroom/runs/j7kwhb3f\u001b[0m\n",
      "HERE config! {'project': 'hutech_mushroom', 'dataset': 'hutech-dataset:latest', 'model': 'convnext_tiny', 'pretrained': True, 'freeze': False, 'resize': 224, 'horizontal_flip': 0.5, 'vertical_flip': 0.5, 'random_rotation': 90, 'random_affine': 0.2, 'random_perspective': 0.2, 'edge_enhance': True, 'auto_aug': 1, 'normalize': 0, 'scheduler': 'cosine', 'is_warmup': False, 'scheduler_warmup': 0.01, 'scheduler_step': 20, 'scheduler_gamma': 0.5, 'es_patience': 200, 'num_classes': 4, 'lr': '1e-5', 'num_epochs': 2, 'batch_size': 4, 'loss': 'cross_entropy', 'is_weight': False, 'optimizer': 'adamw', 'weight_decay': 0.00025, 'momentum': 0.9}\n",
      "\u001b[34m\u001b[1mwandb\u001b[0m:   1265 of 1265 files downloaded.  \n",
      "{'project': 'hutech_mushroom', 'dataset': 'hutech-dataset:latest', 'model': 'convnext_tiny', 'pretrained': True, 'freeze': False, 'resize': 224, 'horizontal_flip': 0.5, 'vertical_flip': 0.5, 'random_rotation': 90, 'random_affine': 0.2, 'random_perspective': 0.2, 'edge_enhance': True, 'auto_aug': 1, 'normalize': 0, 'scheduler': 'cosine', 'is_warmup': False, 'scheduler_warmup': 0.01, 'scheduler_step': 20, 'scheduler_gamma': 0.5, 'es_patience': 200, 'num_classes': 4, 'lr': '1e-5', 'num_epochs': 2, 'batch_size': 4, 'loss': 'cross_entropy', 'is_weight': False, 'optimizer': 'adamw', 'weight_decay': 0.00025, 'momentum': 0.9}\n",
      "/root/anaconda3/envs/pytorch37/lib/python3.9/site-packages/torchvision/transforms/v2/_deprecated.py:42: UserWarning: The transform `ToTensor()` is deprecated and will be removed in a future release. Instead, please use `v2.Compose([v2.ToImage(), v2.ToDtype(torch.float32, scale=True)])`.Output is equivalent up to float precision.\n",
      "  warnings.warn(\n",
      "Batch size: 4\n",
      "Not using class weights here!!!!\n",
      "Class weights: None\n",
      "Training model...\n",
      "Device: cuda\n",
      "Number of epochs: 2\n",
      "Optimizer: AdamW (\n",
      "Parameter Group 0\n",
      "    amsgrad: False\n",
      "    betas: (0.9, 0.999)\n",
      "    capturable: False\n",
      "    differentiable: False\n",
      "    eps: 1e-08\n",
      "    foreach: None\n",
      "    fused: None\n",
      "    initial_lr: 1e-05\n",
      "    lr: 1e-05\n",
      "    maximize: False\n",
      "    weight_decay: 0.00025\n",
      ")\n",
      "Criterion: CrossEntropyLoss()\n",
      "Scheduler: <torch.optim.lr_scheduler.CosineAnnealingLR object at 0x7f83b1751c40>\n",
      "Total parameters: 27823204\n",
      "Trainable parameters: 27823204\n",
      "Batch size: 4\n",
      "Early stopping: 200\n",
      "Dataset: 480 training samples, 360 validation samples\n",
      "Model will be saved at ../weights/best-convnext_tiny-2025-04-14-21-47-41.pt\n",
      "100%|█████████████████████████████████████████| 120/120 [00:15<00:00,  7.87it/s]\n",
      "100%|████████████████████████████████████████| 360/360 [00:03<00:00, 102.47it/s]\n",
      "Saving model at epoch 1 with val loss 1.1530\n",
      "[Epoch 1/2] Train Loss: 1.3210 Val Loss: 1.1530 Train Acc: 0.3521 Val Acc: 0.5611\n",
      " 22%|█████████▍                                | 27/120 [00:03<00:11,  8.12it/s]"
     ]
    },
    {
     "name": "stderr",
     "output_type": "stream",
     "text": [
      "message_loop has been closed\n",
      "Traceback (most recent call last):\n",
      "  File \"/root/anaconda3/envs/pytorch37/lib/python3.9/site-packages/wandb/sdk/interface/router_sock.py\", line 27, in _read_message\n",
      "    return self._sock_client.read_server_response(timeout=1)\n",
      "  File \"/root/anaconda3/envs/pytorch37/lib/python3.9/site-packages/wandb/sdk/lib/sock_client.py\", line 235, in read_server_response\n",
      "    data = self._read_packet_bytes(timeout=timeout)\n",
      "  File \"/root/anaconda3/envs/pytorch37/lib/python3.9/site-packages/wandb/sdk/lib/sock_client.py\", line 220, in _read_packet_bytes\n",
      "    raise SockClientClosedError\n",
      "wandb.sdk.lib.sock_client.SockClientClosedError\n",
      "\n",
      "The above exception was the direct cause of the following exception:\n",
      "\n",
      "Traceback (most recent call last):\n",
      "  File \"/root/anaconda3/envs/pytorch37/lib/python3.9/site-packages/wandb/sdk/interface/router.py\", line 56, in message_loop\n",
      "    msg = self._read_message()\n",
      "  File \"/root/anaconda3/envs/pytorch37/lib/python3.9/site-packages/wandb/sdk/interface/router_sock.py\", line 29, in _read_message\n",
      "    raise MessageRouterClosedError from e\n",
      "wandb.sdk.interface.router.MessageRouterClosedError\n"
     ]
    },
    {
     "name": "stdout",
     "output_type": "stream",
     "text": [
      " 22%|█████████▍                                | 27/120 [00:03<00:11,  8.09it/s]\n",
      "Traceback (most recent call last):\n",
      "  File \"/mnt/c/Users/beeha/VSCode/! - Self-study/All HUGE Projects/Computer Vision/hutech_mushroom/src/train.py\", line 240, in <module>\n",
      "    trainer()\n",
      "  File \"/mnt/c/Users/beeha/VSCode/! - Self-study/All HUGE Projects/Computer Vision/hutech_mushroom/src/train.py\", line 175, in trainer\n",
      "    train_loss, train_acc = train_one_epoch(model, train_loader, optimizer, criterion)\n",
      "  File \"/mnt/c/Users/beeha/VSCode/! - Self-study/All HUGE Projects/Computer Vision/hutech_mushroom/src/train.py\", line 48, in train_one_epoch\n",
      "    running_loss += loss.item() * images.size(0)\n",
      "KeyboardInterrupt\n",
      "^C\n"
     ]
    }
   ],
   "source": [
    "!python train.py --config ../config/exp.yaml --wandb 1"
   ]
  }
 ],
 "metadata": {
  "kernelspec": {
   "display_name": "pytorch37",
   "language": "python",
   "name": "python3"
  },
  "language_info": {
   "codemirror_mode": {
    "name": "ipython",
    "version": 3
   },
   "file_extension": ".py",
   "mimetype": "text/x-python",
   "name": "python",
   "nbconvert_exporter": "python",
   "pygments_lexer": "ipython3",
   "version": "3.9.21"
  }
 },
 "nbformat": 4,
 "nbformat_minor": 2
}
