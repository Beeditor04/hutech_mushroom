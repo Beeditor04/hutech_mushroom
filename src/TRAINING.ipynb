{
 "cells": [
  {
   "cell_type": "code",
   "execution_count": 1,
   "metadata": {},
   "outputs": [
    {
     "name": "stdout",
     "output_type": "stream",
     "text": [
      "args Namespace(model='alexnet', config='../config/exp.yaml', project='hutech_mushroom', dataset='hutech-dataset:latest')\n",
      "HERE config! {'project': 'hutech_mushroom', 'dataset': 'hutech-dataset:latest', 'model': 'vit', 'freeze': True, 'resize': 224, 'random_crop': 224, 'horizontal_flip': 0.5, 'vertical_flip': 0.5, 'random_rotation': 90, 'brightness': 0.5, 'contrast': 0.5, 'saturation': 0.5, 'hue': 0.5, 'random_affine': 0.5, 'random_perspective': 0.5, 'auto_aug': 1, 'normalize': 1, 'mean': [0.485, 0.456, 0.406], 'std': [0.229, 0.224, 0.225], 'random_erasing': 0.3, 'scheduler': 'cosine', 'es_patience': 10, 'num_classes': 4, 'lr': '1e-5', 'num_epochs': 150, 'batch_size': 4, 'optimizer': 'adam', 'weight_decay': 0.00025, 'momentum': 0.9}\n",
      "\u001b[34m\u001b[1mwandb\u001b[0m: Using wandb-core as the SDK backend.  Please refer to https://wandb.me/wandb-core for more information.\n",
      "\u001b[34m\u001b[1mwandb\u001b[0m: Currently logged in as: \u001b[33mbeehappy2554\u001b[0m (\u001b[33mbeehappy2554-bosch-global\u001b[0m) to \u001b[32mhttps://api.wandb.ai\u001b[0m. Use \u001b[1m`wandb login --relogin`\u001b[0m to force relogin\n",
      "\u001b[34m\u001b[1mwandb\u001b[0m: Tracking run with wandb version 0.19.8\n",
      "\u001b[34m\u001b[1mwandb\u001b[0m: Run data is saved locally in \u001b[35m\u001b[1m/mnt/c/Users/beeha/VSCode/! - Self-study/All HUGE Projects/Computer Vision/hutech_mushroom/src/wandb/run-20250331_101918-k0mg0rb8\u001b[0m\n",
      "\u001b[34m\u001b[1mwandb\u001b[0m: Run \u001b[1m`wandb offline`\u001b[0m to turn off syncing.\n",
      "\u001b[34m\u001b[1mwandb\u001b[0m: Syncing run \u001b[33mrare-river-353\u001b[0m\n",
      "\u001b[34m\u001b[1mwandb\u001b[0m: ⭐️ View project at \u001b[34m\u001b[4mhttps://wandb.ai/beehappy2554-bosch-global/hutech_mushroom\u001b[0m\n",
      "\u001b[34m\u001b[1mwandb\u001b[0m: 🚀 View run at \u001b[34m\u001b[4mhttps://wandb.ai/beehappy2554-bosch-global/hutech_mushroom/runs/k0mg0rb8\u001b[0m\n",
      "here config!!! {'project': 'hutech_mushroom', 'dataset': 'hutech-dataset:latest', 'model': 'vit', 'freeze': True, 'resize': 224, 'random_crop': 224, 'horizontal_flip': 0.5, 'vertical_flip': 0.5, 'random_rotation': 90, 'brightness': 0.5, 'contrast': 0.5, 'saturation': 0.5, 'hue': 0.5, 'random_affine': 0.5, 'random_perspective': 0.5, 'auto_aug': 1, 'normalize': 1, 'mean': [0.485, 0.456, 0.406], 'std': [0.229, 0.224, 0.225], 'random_erasing': 0.3, 'scheduler': 'cosine', 'es_patience': 10, 'num_classes': 4, 'lr': '1e-5', 'num_epochs': 150, 'batch_size': 4, 'optimizer': 'adam', 'weight_decay': 0.00025, 'momentum': 0.9}\n",
      "HERE config! {'project': 'hutech_mushroom', 'dataset': 'hutech-dataset:latest', 'model': 'vit', 'freeze': True, 'resize': 224, 'random_crop': 224, 'horizontal_flip': 0.5, 'vertical_flip': 0.5, 'random_rotation': 90, 'brightness': 0.5, 'contrast': 0.5, 'saturation': 0.5, 'hue': 0.5, 'random_affine': 0.5, 'random_perspective': 0.5, 'auto_aug': 1, 'normalize': 1, 'mean': [0.485, 0.456, 0.406], 'std': [0.229, 0.224, 0.225], 'random_erasing': 0.3, 'scheduler': 'cosine', 'es_patience': 10, 'num_classes': 4, 'lr': '1e-5', 'num_epochs': 150, 'batch_size': 4, 'optimizer': 'adam', 'weight_decay': 0.00025, 'momentum': 0.9}\n",
      "\u001b[34m\u001b[1mwandb\u001b[0m:   1205 of 1205 files downloaded.  \n",
      "{'project': 'hutech_mushroom', 'dataset': 'hutech-dataset:latest', 'model': 'vit', 'freeze': True, 'resize': 224, 'random_crop': 224, 'horizontal_flip': 0.5, 'vertical_flip': 0.5, 'random_rotation': 90, 'brightness': 0.5, 'contrast': 0.5, 'saturation': 0.5, 'hue': 0.5, 'random_affine': 0.5, 'random_perspective': 0.5, 'auto_aug': 1, 'normalize': 1, 'mean': [0.485, 0.456, 0.406], 'std': [0.229, 0.224, 0.225], 'random_erasing': 0.3, 'scheduler': 'cosine', 'es_patience': 10, 'num_classes': 4, 'lr': '1e-5', 'num_epochs': 150, 'batch_size': 4, 'optimizer': 'adam', 'weight_decay': 0.00025, 'momentum': 0.9}\n",
      "Training model...\n",
      "Device: cuda\n",
      "Number of epochs: 150\n",
      "Optimizer: Adam (\n",
      "Parameter Group 0\n",
      "    amsgrad: False\n",
      "    betas: (0.9, 0.999)\n",
      "    capturable: False\n",
      "    differentiable: False\n",
      "    eps: 1e-08\n",
      "    foreach: None\n",
      "    fused: None\n",
      "    initial_lr: 1e-05\n",
      "    lr: 1e-05\n",
      "    maximize: False\n",
      "    weight_decay: 0.00025\n",
      ")\n",
      "Criterion: CrossEntropyLoss()\n",
      "Scheduler: <torch.optim.lr_scheduler.CosineAnnealingLR object at 0x7ff3073e8820>\n",
      "Total parameters: 5525188\n",
      "Batch size: 4\n",
      "Early stopping: 10\n",
      "Dataset: 720 training samples, 120 validation samples\n",
      "Model will be saved at ../models/best-vit-2025-03-31-10:19:29.pt\n",
      " 48%|████████████████████▎                     | 87/180 [00:49<01:20,  1.15it/s]^C\n",
      " 48%|████████████████████▎                     | 87/180 [00:51<00:54,  1.69it/s]\n",
      "Traceback (most recent call last):\n",
      "  File \"/mnt/c/Users/beeha/VSCode/! - Self-study/All HUGE Projects/Computer Vision/hutech_mushroom/src/train.py\", line 210, in <module>\n",
      "    run.finish()\n",
      "  File \"/mnt/c/Users/beeha/VSCode/! - Self-study/All HUGE Projects/Computer Vision/hutech_mushroom/src/train.py\", line 151, in trainer\n",
      "    # train\n",
      "  File \"/mnt/c/Users/beeha/VSCode/! - Self-study/All HUGE Projects/Computer Vision/hutech_mushroom/src/train.py\", line 40, in train_one_epoch\n",
      "    running_loss += loss.item() * images.size(0)\n",
      "KeyboardInterrupt\n",
      "Error in atexit._run_exitfuncs:\n",
      "Traceback (most recent call last):\n",
      "  File \"/root/anaconda3/envs/pytorch37/lib/python3.9/site-packages/wandb/sdk/lib/sock_client.py\", line 151, in _send_message\n",
      "    self._sendall_with_error_handle(header + data)\n",
      "  File \"/root/anaconda3/envs/pytorch37/lib/python3.9/site-packages/wandb/sdk/lib/sock_client.py\", line 130, in _sendall_with_error_handle\n",
      "    sent = self._sock.send(data)\n",
      "BrokenPipeError: [Errno 32] Broken pipe\n"
     ]
    }
   ],
   "source": [
    "!python train.py --config ../config/exp.yaml"
   ]
  }
 ],
 "metadata": {
  "kernelspec": {
   "display_name": "pytorch37",
   "language": "python",
   "name": "python3"
  },
  "language_info": {
   "codemirror_mode": {
    "name": "ipython",
    "version": 3
   },
   "file_extension": ".py",
   "mimetype": "text/x-python",
   "name": "python",
   "nbconvert_exporter": "python",
   "pygments_lexer": "ipython3",
   "version": "3.9.21"
  }
 },
 "nbformat": 4,
 "nbformat_minor": 2
}
