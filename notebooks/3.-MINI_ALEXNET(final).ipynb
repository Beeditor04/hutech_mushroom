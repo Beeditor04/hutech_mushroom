{
 "cells": [
  {
   "cell_type": "code",
   "execution_count": 1,
   "metadata": {
    "_cell_guid": "b1076dfc-b9ad-4769-8c92-a6c4dae69d19",
    "_uuid": "8f2839f25d086af736a60e9eeb907d3b93b6e0e5",
    "execution": {
     "iopub.execute_input": "2025-03-04T02:02:58.745194Z",
     "iopub.status.busy": "2025-03-04T02:02:58.744834Z",
     "iopub.status.idle": "2025-03-04T02:03:06.478501Z",
     "shell.execute_reply": "2025-03-04T02:03:06.477616Z",
     "shell.execute_reply.started": "2025-03-04T02:02:58.745163Z"
    },
    "trusted": true
   },
   "outputs": [],
   "source": [
    "import torch\n",
    "import torch.nn as nn\n",
    "import torch.nn.functional as F\n",
    "import torchvision.transforms as transforms\n",
    "import torchvision.models as models\n",
    "from torchvision import datasets\n",
    "from torch.utils.data import DataLoader\n",
    "\n",
    "import numpy as np\n",
    "from tqdm import tqdm\n",
    "\n",
    "import os\n",
    "from PIL import Image\n",
    "\n",
    "import matplotlib.pyplot as plt "
   ]
  },
  {
   "cell_type": "code",
   "execution_count": 2,
   "metadata": {
    "execution": {
     "iopub.execute_input": "2025-03-04T02:03:06.480094Z",
     "iopub.status.busy": "2025-03-04T02:03:06.479679Z",
     "iopub.status.idle": "2025-03-04T02:03:06.598507Z",
     "shell.execute_reply": "2025-03-04T02:03:06.597870Z",
     "shell.execute_reply.started": "2025-03-04T02:03:06.480044Z"
    },
    "trusted": true
   },
   "outputs": [
    {
     "name": "stdout",
     "output_type": "stream",
     "text": [
      "Device being used: cuda\n",
      "CUDA is available!\n",
      "GPU Device Name: NVIDIA GeForce RTX 3050 Laptop GPU\n",
      "Total GPU Count: 1\n"
     ]
    }
   ],
   "source": [
    "device = torch.device(\"cuda\" if torch.cuda.is_available() else \"cpu\")\n",
    "print(\"Device being used:\", device)\n",
    "\n",
    "if torch.cuda.is_available():\n",
    "    print(\"CUDA is available!\")\n",
    "    print(\"GPU Device Name:\", torch.cuda.get_device_name(0))\n",
    "    print(\"Total GPU Count:\", torch.cuda.device_count())\n",
    "else:\n",
    "    print(\"CUDA is not available, using CPU\")"
   ]
  },
  {
   "cell_type": "code",
   "execution_count": 1,
   "metadata": {},
   "outputs": [
    {
     "name": "stdout",
     "output_type": "stream",
     "text": [
      "Requirement already satisfied: wandb in /root/anaconda3/envs/pytorch37/lib/python3.9/site-packages (0.19.8)\n",
      "Requirement already satisfied: click!=8.0.0,>=7.1 in /root/anaconda3/envs/pytorch37/lib/python3.9/site-packages (from wandb) (8.1.8)\n",
      "Requirement already satisfied: docker-pycreds>=0.4.0 in /root/anaconda3/envs/pytorch37/lib/python3.9/site-packages (from wandb) (0.4.0)\n",
      "Requirement already satisfied: eval-type-backport in /root/anaconda3/envs/pytorch37/lib/python3.9/site-packages (from wandb) (0.2.2)\n",
      "Requirement already satisfied: gitpython!=3.1.29,>=1.0.0 in /root/anaconda3/envs/pytorch37/lib/python3.9/site-packages (from wandb) (3.1.44)\n",
      "Requirement already satisfied: platformdirs in /root/anaconda3/envs/pytorch37/lib/python3.9/site-packages (from wandb) (3.10.0)\n",
      "Requirement already satisfied: protobuf!=4.21.0,!=5.28.0,<6,>=3.15.0 in /root/anaconda3/envs/pytorch37/lib/python3.9/site-packages (from wandb) (5.29.4)\n",
      "Requirement already satisfied: psutil>=5.0.0 in /root/anaconda3/envs/pytorch37/lib/python3.9/site-packages (from wandb) (5.9.0)\n",
      "Requirement already satisfied: pydantic<3,>=2.6 in /root/anaconda3/envs/pytorch37/lib/python3.9/site-packages (from wandb) (2.10.6)\n",
      "Requirement already satisfied: pyyaml in /root/anaconda3/envs/pytorch37/lib/python3.9/site-packages (from wandb) (6.0.2)\n",
      "Requirement already satisfied: requests<3,>=2.0.0 in /root/anaconda3/envs/pytorch37/lib/python3.9/site-packages (from wandb) (2.32.3)\n",
      "Requirement already satisfied: sentry-sdk>=2.0.0 in /root/anaconda3/envs/pytorch37/lib/python3.9/site-packages (from wandb) (2.23.1)\n",
      "Requirement already satisfied: setproctitle in /root/anaconda3/envs/pytorch37/lib/python3.9/site-packages (from wandb) (1.3.5)\n",
      "Requirement already satisfied: setuptools in /root/anaconda3/envs/pytorch37/lib/python3.9/site-packages (from wandb) (75.8.0)\n",
      "Requirement already satisfied: typing-extensions<5,>=4.4 in /root/anaconda3/envs/pytorch37/lib/python3.9/site-packages (from wandb) (4.12.2)\n",
      "Requirement already satisfied: six>=1.4.0 in /root/anaconda3/envs/pytorch37/lib/python3.9/site-packages (from docker-pycreds>=0.4.0->wandb) (1.16.0)\n",
      "Requirement already satisfied: gitdb<5,>=4.0.1 in /root/anaconda3/envs/pytorch37/lib/python3.9/site-packages (from gitpython!=3.1.29,>=1.0.0->wandb) (4.0.12)\n",
      "Requirement already satisfied: annotated-types>=0.6.0 in /root/anaconda3/envs/pytorch37/lib/python3.9/site-packages (from pydantic<3,>=2.6->wandb) (0.7.0)\n",
      "Requirement already satisfied: pydantic-core==2.27.2 in /root/anaconda3/envs/pytorch37/lib/python3.9/site-packages (from pydantic<3,>=2.6->wandb) (2.27.2)\n",
      "Requirement already satisfied: charset-normalizer<4,>=2 in /root/anaconda3/envs/pytorch37/lib/python3.9/site-packages (from requests<3,>=2.0.0->wandb) (3.4.1)\n",
      "Requirement already satisfied: idna<4,>=2.5 in /root/anaconda3/envs/pytorch37/lib/python3.9/site-packages (from requests<3,>=2.0.0->wandb) (3.7)\n",
      "Requirement already satisfied: urllib3<3,>=1.21.1 in /root/anaconda3/envs/pytorch37/lib/python3.9/site-packages (from requests<3,>=2.0.0->wandb) (2.3.0)\n",
      "Requirement already satisfied: certifi>=2017.4.17 in /root/anaconda3/envs/pytorch37/lib/python3.9/site-packages (from requests<3,>=2.0.0->wandb) (2025.1.31)\n",
      "Requirement already satisfied: smmap<6,>=3.0.1 in /root/anaconda3/envs/pytorch37/lib/python3.9/site-packages (from gitdb<5,>=4.0.1->gitpython!=3.1.29,>=1.0.0->wandb) (5.0.2)\n",
      "\u001b[33mWARNING: Running pip as the 'root' user can result in broken permissions and conflicting behaviour with the system package manager, possibly rendering your system unusable. It is recommended to use a virtual environment instead: https://pip.pypa.io/warnings/venv. Use the --root-user-action option if you know what you are doing and want to suppress this warning.\u001b[0m\u001b[33m\n",
      "\u001b[0m"
     ]
    },
    {
     "name": "stderr",
     "output_type": "stream",
     "text": [
      "\u001b[34m\u001b[1mwandb\u001b[0m: Using wandb-core as the SDK backend.  Please refer to https://wandb.me/wandb-core for more information.\n",
      "\u001b[34m\u001b[1mwandb\u001b[0m: Currently logged in as: \u001b[33mbeehappy2554\u001b[0m (\u001b[33mbeehappy2554-bosch-global\u001b[0m) to \u001b[32mhttps://api.wandb.ai\u001b[0m. Use \u001b[1m`wandb login --relogin`\u001b[0m to force relogin\n",
      "\u001b[34m\u001b[1mwandb\u001b[0m: \u001b[33mWARNING\u001b[0m `wandb.require('core')` is redundant as it is now the default behavior.\n"
     ]
    }
   ],
   "source": [
    "!pip install wandb\n",
    "import wandb\n",
    "wandb.login()\n",
    "wandb.require(\"core\")"
   ]
  },
  {
   "cell_type": "code",
   "execution_count": null,
   "metadata": {
    "execution": {
     "iopub.execute_input": "2025-03-04T02:03:06.599867Z",
     "iopub.status.busy": "2025-03-04T02:03:06.599632Z",
     "iopub.status.idle": "2025-03-04T02:03:06.603594Z",
     "shell.execute_reply": "2025-03-04T02:03:06.602823Z",
     "shell.execute_reply.started": "2025-03-04T02:03:06.599848Z"
    },
    "trusted": true
   },
   "outputs": [],
   "source": [
    "device = torch.device(\"cuda\" if torch.cuda.is_available() else \"cpu\")\n",
    "\n",
    "base_transform = transforms.Compose([\n",
    "    transforms.RandomHorizontalFlip(p=0.5),  # Horizontal flip\n",
    "    transforms.RandomVerticalFlip(p=0.3),    # Vertical flip\n",
    "    transforms.RandomRotation(90),           # Rotate between -15° to 15°\n",
    "    transforms.RandomAffine(degrees=0, translate=(0.2, 0.25)),  # Slight translation, no rotation here\n",
    "    transforms.ColorJitter(brightness=0.3, contrast=0.3, saturation=0.2, hue=0.2),  # Mild color adjustments\n",
    "    transforms.GaussianBlur(kernel_size=(3, 3), sigma=(0.1, 2.0)),  # Light blur\n",
    "    transforms.ToTensor(),  # Convert to tensor\n",
    "])"
   ]
  },
  {
   "cell_type": "markdown",
   "metadata": {},
   "source": [
    "# preparing dataset"
   ]
  },
  {
   "cell_type": "code",
   "execution_count": 3,
   "metadata": {},
   "outputs": [
    {
     "data": {
      "text/html": [
       "Tracking run with wandb version 0.19.8"
      ],
      "text/plain": [
       "<IPython.core.display.HTML object>"
      ]
     },
     "metadata": {},
     "output_type": "display_data"
    },
    {
     "data": {
      "text/html": [
       "Run data is saved locally in <code>/mnt/c/Users/beeha/VSCode/! - Self-study/All HUGE Projects/Computer Vision/hutech_mushroom/notebooks/wandb/run-20250328_111044-ilp08tvz</code>"
      ],
      "text/plain": [
       "<IPython.core.display.HTML object>"
      ]
     },
     "metadata": {},
     "output_type": "display_data"
    },
    {
     "data": {
      "text/html": [
       "Syncing run <strong><a href='https://wandb.ai/beehappy2554-bosch-global/hutech_mushroom/runs/ilp08tvz' target=\"_blank\">bright-snow-9</a></strong> to <a href='https://wandb.ai/beehappy2554-bosch-global/hutech_mushroom' target=\"_blank\">Weights & Biases</a> (<a href='https://wandb.me/developer-guide' target=\"_blank\">docs</a>)<br>"
      ],
      "text/plain": [
       "<IPython.core.display.HTML object>"
      ]
     },
     "metadata": {},
     "output_type": "display_data"
    },
    {
     "data": {
      "text/html": [
       " View project at <a href='https://wandb.ai/beehappy2554-bosch-global/hutech_mushroom' target=\"_blank\">https://wandb.ai/beehappy2554-bosch-global/hutech_mushroom</a>"
      ],
      "text/plain": [
       "<IPython.core.display.HTML object>"
      ]
     },
     "metadata": {},
     "output_type": "display_data"
    },
    {
     "data": {
      "text/html": [
       " View run at <a href='https://wandb.ai/beehappy2554-bosch-global/hutech_mushroom/runs/ilp08tvz' target=\"_blank\">https://wandb.ai/beehappy2554-bosch-global/hutech_mushroom/runs/ilp08tvz</a>"
      ],
      "text/plain": [
       "<IPython.core.display.HTML object>"
      ]
     },
     "metadata": {},
     "output_type": "display_data"
    }
   ],
   "source": [
    "# setup init\n",
    "\n",
    "# run = wandb.init(\n",
    "#     project=\"minialexnet\",\n",
    "#     config=config,\n",
    "# )\n",
    "\n",
    "run = wandb.init(\n",
    "    project=\"hutech_mushroom\",\n",
    "    job_type=\"update_artifact\",)"
   ]
  },
  {
   "cell_type": "markdown",
   "metadata": {},
   "source": [
    "* add data to Artifacts"
   ]
  },
  {
   "cell_type": "code",
   "execution_count": 4,
   "metadata": {},
   "outputs": [
    {
     "name": "stderr",
     "output_type": "stream",
     "text": [
      "\u001b[34m\u001b[1mwandb\u001b[0m: Adding directory to artifact (./../data)... Done. 1.4s\n"
     ]
    },
    {
     "data": {
      "text/plain": [
       "<Artifact hutech-dataset>"
      ]
     },
     "execution_count": 4,
     "metadata": {},
     "output_type": "execute_result"
    }
   ],
   "source": [
    "DATA_DIR =\"../data\"\n",
    "artifact_data = wandb.Artifact(\"hutech-dataset\", type=\"dataset\")\n",
    "artifact_data.add_dir(DATA_DIR)\n",
    "run.log_artifact(artifact_data)"
   ]
  },
  {
   "cell_type": "markdown",
   "metadata": {},
   "source": [
    "# Versioning the Dataset"
   ]
  },
  {
   "cell_type": "code",
   "execution_count": 28,
   "metadata": {},
   "outputs": [
    {
     "name": "stderr",
     "output_type": "stream",
     "text": [
      "\u001b[34m\u001b[1mwandb\u001b[0m:   1203 of 1203 files downloaded.  \n"
     ]
    }
   ],
   "source": [
    "### OPTIMIZE THIS\n",
    "config = {\n",
    "    \"lr\": 10e-5,\n",
    "    \"num_epochs\": 100,\n",
    "    \"batch_size\": 32, \n",
    "    \"optimizer\": \"adam\",\n",
    "    \"weight_decay\": 0.0001,\n",
    "    \"momentum\": 0.9\n",
    "}\n",
    "\n",
    "run = wandb.init(\n",
    "    project=\"hutech_mushroom\",\n",
    "    job_type=\"train\",\n",
    ")\n",
    "\n",
    "run.config.update(config, allow_val_change=True)\n",
    "artifact_data = run.use_artifact('beehappy2554-bosch-global/hutech_mushroom/hutech-dataset:latest', type='dataset')\n",
    "artifact_data_dir = artifact_data.download()"
   ]
  },
  {
   "cell_type": "code",
   "execution_count": 29,
   "metadata": {},
   "outputs": [
    {
     "data": {
      "text/plain": [
       "{'lr': 0.0001, 'num_epochs': 100, 'batch_size': 32, 'optimizer': 'adam', 'weight_decay': 0.0001, 'momentum': 0.9}"
      ]
     },
     "execution_count": 29,
     "metadata": {},
     "output_type": "execute_result"
    }
   ],
   "source": [
    "run.config"
   ]
  },
  {
   "cell_type": "markdown",
   "metadata": {},
   "source": [
    "## Fit into model"
   ]
  },
  {
   "cell_type": "code",
   "execution_count": 30,
   "metadata": {},
   "outputs": [
    {
     "name": "stdout",
     "output_type": "stream",
     "text": [
      "Classes: ['0', '1', '2', '3']\n"
     ]
    }
   ],
   "source": [
    "# Load datasets\n",
    "BATCH_SIZE = run.config.batch_size\n",
    "train_dataset = datasets.ImageFolder(root=os.path.join(artifact_data_dir, \"train\"), transform=base_transforms)\n",
    "val_dataset = datasets.ImageFolder(root=os.path.join(artifact_data_dir, \"val\"), transform=base_transforms)\n",
    "test_dataset = datasets.ImageFolder(root=os.path.join(artifact_data_dir, \"test\"), transform=base_transforms)\n",
    "\n",
    "# Create DataLoaders\n",
    "train_loader = DataLoader(train_dataset, batch_size=BATCH_SIZE, shuffle=True)\n",
    "val_loader = DataLoader(val_dataset, batch_size=BATCH_SIZE, shuffle=False)\n",
    "test_loader = DataLoader(test_dataset, batch_size=BATCH_SIZE, shuffle=False)\n",
    "\n",
    "# Get class labels\n",
    "class_names = train_dataset.classes\n",
    "print(f\"Classes: {class_names}\")"
   ]
  },
  {
   "cell_type": "code",
   "execution_count": 31,
   "metadata": {
    "execution": {
     "iopub.execute_input": "2025-03-04T02:03:07.650146Z",
     "iopub.status.busy": "2025-03-04T02:03:07.649867Z",
     "iopub.status.idle": "2025-03-04T02:03:07.767584Z",
     "shell.execute_reply": "2025-03-04T02:03:07.766868Z",
     "shell.execute_reply.started": "2025-03-04T02:03:07.650116Z"
    },
    "trusted": true
   },
   "outputs": [
    {
     "name": "stdout",
     "output_type": "stream",
     "text": [
      "MiniAlexNet(\n",
      "  (conv1): Conv2d(3, 64, kernel_size=(11, 11), stride=(4, 4), padding=(1, 1))\n",
      "  (bn1): BatchNorm2d(64, eps=1e-05, momentum=0.1, affine=True, track_running_stats=True)\n",
      "  (pool1): MaxPool2d(kernel_size=3, stride=2, padding=0, dilation=1, ceil_mode=False)\n",
      "  (conv2): Conv2d(64, 32, kernel_size=(3, 3), stride=(1, 1), padding=(1, 1))\n",
      "  (bn2): BatchNorm2d(32, eps=1e-05, momentum=0.1, affine=True, track_running_stats=True)\n",
      "  (conv3): Conv2d(32, 256, kernel_size=(3, 3), stride=(2, 2), padding=(1, 1))\n",
      "  (bn3): BatchNorm2d(256, eps=1e-05, momentum=0.1, affine=True, track_running_stats=True)\n",
      "  (pool3): MaxPool2d(kernel_size=3, stride=2, padding=0, dilation=1, ceil_mode=False)\n",
      "  (gp): AdaptiveAvgPool2d(output_size=(6, 6))\n",
      "  (fc1): Linear(in_features=9216, out_features=512, bias=True)\n",
      "  (dropout1): Dropout(p=0.5, inplace=False)\n",
      "  (fc2): Linear(in_features=512, out_features=256, bias=True)\n",
      "  (dropout2): Dropout(p=0.5, inplace=False)\n",
      "  (fc3): Linear(in_features=256, out_features=4, bias=True)\n",
      ")\n"
     ]
    }
   ],
   "source": [
    "class MiniAlexNet(nn.Module):\n",
    "    def __init__(self, num_classes=2):\n",
    "        super(MiniAlexNet, self).__init__()\n",
    "        \n",
    "        # Convolutional Layer 1\n",
    "        self.conv1 = nn.Conv2d(in_channels=3, out_channels=64, kernel_size=11, stride=4, padding=1)\n",
    "        self.bn1 = nn.BatchNorm2d(64)\n",
    "        self.pool1 = nn.MaxPool2d(kernel_size=3, stride=2)\n",
    "\n",
    "        # Convolutional Layer 2\n",
    "        self.conv2 = nn.Conv2d(in_channels=64, out_channels=32, kernel_size=3, stride=1, padding=1)\n",
    "        self.bn2 = nn.BatchNorm2d(32)\n",
    "\n",
    "        # Convolutional Layer 3 (Sửa lại)\n",
    "        self.conv3 = nn.Conv2d(in_channels=32, out_channels=256, kernel_size=3, stride=2, padding=1)  # Giữ kernel size 3, stride 2\n",
    "        self.bn3 = nn.BatchNorm2d(256)\n",
    "        self.pool3 = nn.MaxPool2d(kernel_size=3, stride=2)\n",
    "\n",
    "        self.gp = nn.AdaptiveAvgPool2d((6, 6))  # Giữ lại AdaptiveAvgPool2d\n",
    "        # Fully Connected Layers with Dropout\n",
    "        self.fc1 = nn.Linear(256 * 6 * 6, 512)  # Điều chỉnh theo kích thước đầu vào\n",
    "        self.dropout1 = nn.Dropout(p=0.5)\n",
    "        self.fc2 = nn.Linear(512, 256)\n",
    "        self.dropout2 = nn.Dropout(p=0.5)\n",
    "        self.fc3 = nn.Linear(256, num_classes)\n",
    "\n",
    "    def forward(self, x):\n",
    "        x = self.pool1(F.relu(self.bn1(self.conv1(x))))\n",
    "        x = F.relu(self.bn2(self.conv2(x)))\n",
    "        x = self.pool3(F.relu(self.bn3(self.conv3(x))))\n",
    "        x = self.gp(x)\n",
    "        # Flatten the output from the convolutional layers\n",
    "        x = torch.flatten(x, start_dim=1)\n",
    "        x = F.relu(self.fc1(x))\n",
    "        x = self.dropout1(x)\n",
    "        x = F.relu(self.fc2(x))\n",
    "        x = self.dropout2(x)\n",
    "        x = self.fc3(x)\n",
    "        return x\n",
    "\n",
    "# Initialize model\n",
    "num_classes = len(class_names)\n",
    "model = MiniAlexNet(num_classes)\n",
    "print(model)"
   ]
  },
  {
   "cell_type": "code",
   "execution_count": 32,
   "metadata": {
    "execution": {
     "iopub.execute_input": "2025-03-04T02:03:07.768549Z",
     "iopub.status.busy": "2025-03-04T02:03:07.768333Z",
     "iopub.status.idle": "2025-03-04T02:03:09.030589Z",
     "shell.execute_reply": "2025-03-04T02:03:09.029888Z",
     "shell.execute_reply.started": "2025-03-04T02:03:07.768530Z"
    },
    "trusted": true
   },
   "outputs": [
    {
     "data": {
      "text/plain": [
       "==========================================================================================\n",
       "Layer (type:depth-idx)                   Output Shape              Param #\n",
       "==========================================================================================\n",
       "MiniAlexNet                              [1, 4]                    --\n",
       "├─Conv2d: 1-1                            [1, 64, 55, 55]           23,296\n",
       "├─BatchNorm2d: 1-2                       [1, 64, 55, 55]           128\n",
       "├─MaxPool2d: 1-3                         [1, 64, 27, 27]           --\n",
       "├─Conv2d: 1-4                            [1, 32, 27, 27]           18,464\n",
       "├─BatchNorm2d: 1-5                       [1, 32, 27, 27]           64\n",
       "├─Conv2d: 1-6                            [1, 256, 14, 14]          73,984\n",
       "├─BatchNorm2d: 1-7                       [1, 256, 14, 14]          512\n",
       "├─MaxPool2d: 1-8                         [1, 256, 6, 6]            --\n",
       "├─AdaptiveAvgPool2d: 1-9                 [1, 256, 6, 6]            --\n",
       "├─Linear: 1-10                           [1, 512]                  4,719,104\n",
       "├─Dropout: 1-11                          [1, 512]                  --\n",
       "├─Linear: 1-12                           [1, 256]                  131,328\n",
       "├─Dropout: 1-13                          [1, 256]                  --\n",
       "├─Linear: 1-14                           [1, 4]                    1,028\n",
       "==========================================================================================\n",
       "Total params: 4,967,908\n",
       "Trainable params: 4,967,908\n",
       "Non-trainable params: 0\n",
       "Total mult-adds (M): 103.28\n",
       "==========================================================================================\n",
       "Input size (MB): 0.62\n",
       "Forward/backward pass size (MB): 4.28\n",
       "Params size (MB): 19.87\n",
       "Estimated Total Size (MB): 24.77\n",
       "=========================================================================================="
      ]
     },
     "execution_count": 32,
     "metadata": {},
     "output_type": "execute_result"
    }
   ],
   "source": [
    "from torchinfo import summary\n",
    "summary(model, input_size=(1, 3, 227, 227))"
   ]
  },
  {
   "cell_type": "code",
   "execution_count": null,
   "metadata": {
    "execution": {
     "iopub.execute_input": "2025-03-04T02:03:09.031524Z",
     "iopub.status.busy": "2025-03-04T02:03:09.031311Z",
     "iopub.status.idle": "2025-03-04T02:03:09.036962Z",
     "shell.execute_reply": "2025-03-04T02:03:09.036210Z",
     "shell.execute_reply.started": "2025-03-04T02:03:09.031506Z"
    },
    "trusted": true
   },
   "outputs": [],
   "source": [
    "def plot_one_batch(loader, batch_size=4):\n",
    "    images, labels = next(iter(loader))\n",
    "    # de-normalize images\n",
    "\n",
    "    print(f\"Batch size: {batch_size}\")   \n",
    "\n",
    "    rows = (batch_size + 3) // 4  \n",
    "    fig, axes = plt.subplots(rows, 4, figsize=(10, 5))\n",
    "    axes = axes.flatten()  \n",
    "    \n",
    "    for i in range(batch_size):\n",
    "        img = images[i].permute(1, 2, 0)  # convert back to image\n",
    "        label = labels[i]\n",
    "\n",
    "        axes[i].imshow(img)\n",
    "        axes[i].set_title(class_names[label], fontsize=10, pad=10)  \n",
    "        axes[i].axis(\"off\")\n",
    "\n",
    "    for j in range(batch_size, len(axes)):\n",
    "        fig.delaxes(axes[j])\n",
    "\n",
    "    plt.tight_layout()  # Điều chỉnh layout để tránh chồng chữ lên ảnh\n",
    "    plt.savefig(\"sample_batch.png\", dpi=300, bbox_inches='tight')\n"
   ]
  },
  {
   "cell_type": "code",
   "execution_count": 34,
   "metadata": {
    "execution": {
     "iopub.execute_input": "2025-03-04T02:03:09.039342Z",
     "iopub.status.busy": "2025-03-04T02:03:09.039077Z",
     "iopub.status.idle": "2025-03-04T02:03:10.505212Z",
     "shell.execute_reply": "2025-03-04T02:03:10.499566Z",
     "shell.execute_reply.started": "2025-03-04T02:03:09.039311Z"
    },
    "trusted": true
   },
   "outputs": [
    {
     "name": "stdout",
     "output_type": "stream",
     "text": [
      "Batch size: 32\n"
     ]
    },
    {
     "data": {
      "image/png": "[encoded data removed]",
      "text/plain": [
       "<Figure size 1000x500 with 32 Axes>"
      ]
     },
     "metadata": {},
     "output_type": "display_data"
    },
    {
     "name": "stdout",
     "output_type": "stream",
     "text": [
      "<torch.utils.data.dataloader.DataLoader object at 0x7f2f04a6bfa0>\n"
     ]
    }
   ],
   "source": [
    "plot_one_batch(train_loader, BATCH_SIZE)\n",
    "print(train_loader)"
   ]
  },
  {
   "cell_type": "code",
   "execution_count": 35,
   "metadata": {
    "execution": {
     "iopub.execute_input": "2025-03-04T02:03:10.506609Z",
     "iopub.status.busy": "2025-03-04T02:03:10.506394Z",
     "iopub.status.idle": "2025-03-04T02:03:10.510853Z",
     "shell.execute_reply": "2025-03-04T02:03:10.509911Z",
     "shell.execute_reply.started": "2025-03-04T02:03:10.506590Z"
    },
    "trusted": true
   },
   "outputs": [],
   "source": [
    "import time\n",
    "def save_log(text, timestamp):\n",
    "    # check if log file exists\n",
    "    log_dir = \"../log\"\n",
    "    with open(os.path.join(log_dir, f\"training-alexnet-{timestamp}.log\"), \"w\") as f:\n",
    "        f.write(text + \"\\n\")\n",
    "    print(text)"
   ]
  },
  {
   "cell_type": "code",
   "execution_count": 36,
   "metadata": {},
   "outputs": [
    {
     "name": "stdout",
     "output_type": "stream",
     "text": [
      "720\n",
      "23\n"
     ]
    },
    {
     "data": {
      "text/plain": [
       "720"
      ]
     },
     "execution_count": 36,
     "metadata": {},
     "output_type": "execute_result"
    }
   ],
   "source": [
    "print(len(train_dataset))\n",
    "print(len(train_loader))\n",
    "len(train_loader.dataset)"
   ]
  },
  {
   "cell_type": "code",
   "execution_count": 37,
   "metadata": {
    "execution": {
     "iopub.execute_input": "2025-03-04T02:03:10.511937Z",
     "iopub.status.busy": "2025-03-04T02:03:10.511681Z",
     "iopub.status.idle": "2025-03-04T02:14:43.232356Z",
     "shell.execute_reply": "2025-03-04T02:14:43.231380Z",
     "shell.execute_reply.started": "2025-03-04T02:03:10.511911Z"
    },
    "trusted": true
   },
   "outputs": [
    {
     "name": "stdout",
     "output_type": "stream",
     "text": [
      "Training model...\n",
      "Device: cuda\n",
      "Number of epochs: 100\n",
      "Optimizer: Adam (\n",
      "Parameter Group 0\n",
      "    amsgrad: False\n",
      "    betas: (0.9, 0.999)\n",
      "    capturable: False\n",
      "    differentiable: False\n",
      "    eps: 1e-08\n",
      "    foreach: None\n",
      "    fused: None\n",
      "    lr: 0.0001\n",
      "    maximize: False\n",
      "    weight_decay: 0.0001\n",
      ")\n",
      "Criterion: CrossEntropyLoss()\n",
      "Dataset: 720 training samples, 120 validation samples\n"
     ]
    },
    {
     "name": "stderr",
     "output_type": "stream",
     "text": [
      "100%|██████████| 23/23 [00:03<00:00,  6.64it/s]\n",
      "100%|██████████| 4/4 [00:00<00:00,  9.33it/s]\n"
     ]
    },
    {
     "name": "stdout",
     "output_type": "stream",
     "text": [
      "[Epoch 1/100] Train Loss: 1.2789 Val Loss: 1.2965 Train Acc: 0.4167 Val Acc: 0.6000\n"
     ]
    },
    {
     "name": "stderr",
     "output_type": "stream",
     "text": [
      "100%|██████████| 23/23 [00:03<00:00,  7.02it/s]\n",
      "100%|██████████| 4/4 [00:00<00:00,  8.96it/s]\n"
     ]
    },
    {
     "name": "stdout",
     "output_type": "stream",
     "text": [
      "[Epoch 2/100] Train Loss: 0.8884 Val Loss: 0.9019 Train Acc: 0.6528 Val Acc: 0.6333\n"
     ]
    },
    {
     "name": "stderr",
     "output_type": "stream",
     "text": [
      "100%|██████████| 23/23 [00:03<00:00,  6.88it/s]\n",
      "100%|██████████| 4/4 [00:00<00:00,  9.30it/s]\n"
     ]
    },
    {
     "name": "stdout",
     "output_type": "stream",
     "text": [
      "[Epoch 3/100] Train Loss: 0.6916 Val Loss: 0.5643 Train Acc: 0.7486 Val Acc: 0.8083\n"
     ]
    },
    {
     "name": "stderr",
     "output_type": "stream",
     "text": [
      "100%|██████████| 23/23 [00:03<00:00,  6.76it/s]\n",
      "100%|██████████| 4/4 [00:00<00:00,  8.46it/s]\n"
     ]
    },
    {
     "name": "stdout",
     "output_type": "stream",
     "text": [
      "[Epoch 4/100] Train Loss: 0.5168 Val Loss: 0.4226 Train Acc: 0.8333 Val Acc: 0.8583\n"
     ]
    },
    {
     "name": "stderr",
     "output_type": "stream",
     "text": [
      "100%|██████████| 23/23 [00:03<00:00,  6.98it/s]\n",
      "100%|██████████| 4/4 [00:00<00:00,  9.56it/s]\n"
     ]
    },
    {
     "name": "stdout",
     "output_type": "stream",
     "text": [
      "[Epoch 5/100] Train Loss: 0.4399 Val Loss: 0.4211 Train Acc: 0.8389 Val Acc: 0.8583\n"
     ]
    },
    {
     "name": "stderr",
     "output_type": "stream",
     "text": [
      "100%|██████████| 23/23 [00:03<00:00,  7.06it/s]\n",
      "100%|██████████| 4/4 [00:00<00:00,  9.18it/s]\n"
     ]
    },
    {
     "name": "stdout",
     "output_type": "stream",
     "text": [
      "[Epoch 6/100] Train Loss: 0.3677 Val Loss: 0.5877 Train Acc: 0.8847 Val Acc: 0.7583\n"
     ]
    },
    {
     "name": "stderr",
     "output_type": "stream",
     "text": [
      "100%|██████████| 23/23 [00:03<00:00,  7.03it/s]\n",
      "100%|██████████| 4/4 [00:00<00:00,  9.09it/s]\n"
     ]
    },
    {
     "name": "stdout",
     "output_type": "stream",
     "text": [
      "[Epoch 7/100] Train Loss: 0.3370 Val Loss: 0.3150 Train Acc: 0.8861 Val Acc: 0.9000\n"
     ]
    },
    {
     "name": "stderr",
     "output_type": "stream",
     "text": [
      "100%|██████████| 23/23 [00:03<00:00,  6.76it/s]\n",
      "100%|██████████| 4/4 [00:00<00:00,  9.24it/s]\n"
     ]
    },
    {
     "name": "stdout",
     "output_type": "stream",
     "text": [
      "[Epoch 8/100] Train Loss: 0.2756 Val Loss: 0.2112 Train Acc: 0.9083 Val Acc: 0.9333\n"
     ]
    },
    {
     "name": "stderr",
     "output_type": "stream",
     "text": [
      "100%|██████████| 23/23 [00:03<00:00,  6.83it/s]\n",
      "100%|██████████| 4/4 [00:00<00:00,  7.45it/s]\n"
     ]
    },
    {
     "name": "stdout",
     "output_type": "stream",
     "text": [
      "[Epoch 9/100] Train Loss: 0.2519 Val Loss: 0.2130 Train Acc: 0.9167 Val Acc: 0.9250\n"
     ]
    },
    {
     "name": "stderr",
     "output_type": "stream",
     "text": [
      "100%|██████████| 23/23 [00:03<00:00,  6.18it/s]\n",
      "100%|██████████| 4/4 [00:00<00:00,  8.76it/s]\n"
     ]
    },
    {
     "name": "stdout",
     "output_type": "stream",
     "text": [
      "[Epoch 10/100] Train Loss: 0.2462 Val Loss: 0.2044 Train Acc: 0.9208 Val Acc: 0.9500\n"
     ]
    },
    {
     "name": "stderr",
     "output_type": "stream",
     "text": [
      "100%|██████████| 23/23 [00:03<00:00,  6.99it/s]\n",
      "100%|██████████| 4/4 [00:00<00:00,  9.11it/s]\n"
     ]
    },
    {
     "name": "stdout",
     "output_type": "stream",
     "text": [
      "[Epoch 11/100] Train Loss: 0.1845 Val Loss: 0.1778 Train Acc: 0.9417 Val Acc: 0.9417\n"
     ]
    },
    {
     "name": "stderr",
     "output_type": "stream",
     "text": [
      "100%|██████████| 23/23 [00:03<00:00,  6.72it/s]\n",
      "100%|██████████| 4/4 [00:00<00:00,  9.07it/s]\n"
     ]
    },
    {
     "name": "stdout",
     "output_type": "stream",
     "text": [
      "[Epoch 12/100] Train Loss: 0.1543 Val Loss: 0.7416 Train Acc: 0.9500 Val Acc: 0.7833\n"
     ]
    },
    {
     "name": "stderr",
     "output_type": "stream",
     "text": [
      "100%|██████████| 23/23 [00:03<00:00,  6.80it/s]\n",
      "100%|██████████| 4/4 [00:00<00:00,  8.99it/s]\n"
     ]
    },
    {
     "name": "stdout",
     "output_type": "stream",
     "text": [
      "[Epoch 13/100] Train Loss: 0.1395 Val Loss: 0.1943 Train Acc: 0.9528 Val Acc: 0.9417\n"
     ]
    },
    {
     "name": "stderr",
     "output_type": "stream",
     "text": [
      "100%|██████████| 23/23 [00:03<00:00,  6.80it/s]\n",
      "100%|██████████| 4/4 [00:00<00:00,  7.23it/s]\n"
     ]
    },
    {
     "name": "stdout",
     "output_type": "stream",
     "text": [
      "[Epoch 14/100] Train Loss: 0.1337 Val Loss: 0.2890 Train Acc: 0.9542 Val Acc: 0.9250\n"
     ]
    },
    {
     "name": "stderr",
     "output_type": "stream",
     "text": [
      "100%|██████████| 23/23 [00:03<00:00,  6.77it/s]\n",
      "100%|██████████| 4/4 [00:00<00:00,  8.09it/s]\n"
     ]
    },
    {
     "name": "stdout",
     "output_type": "stream",
     "text": [
      "[Epoch 15/100] Train Loss: 0.1197 Val Loss: 0.1641 Train Acc: 0.9611 Val Acc: 0.9583\n"
     ]
    },
    {
     "name": "stderr",
     "output_type": "stream",
     "text": [
      "100%|██████████| 23/23 [00:03<00:00,  7.07it/s]\n",
      "100%|██████████| 4/4 [00:00<00:00,  8.56it/s]\n"
     ]
    },
    {
     "name": "stdout",
     "output_type": "stream",
     "text": [
      "[Epoch 16/100] Train Loss: 0.1070 Val Loss: 0.1683 Train Acc: 0.9667 Val Acc: 0.9583\n"
     ]
    },
    {
     "name": "stderr",
     "output_type": "stream",
     "text": [
      "100%|██████████| 23/23 [00:03<00:00,  6.58it/s]\n",
      "100%|██████████| 4/4 [00:00<00:00, 11.06it/s]\n"
     ]
    },
    {
     "name": "stdout",
     "output_type": "stream",
     "text": [
      "[Epoch 17/100] Train Loss: 0.0735 Val Loss: 0.1518 Train Acc: 0.9792 Val Acc: 0.9500\n"
     ]
    },
    {
     "name": "stderr",
     "output_type": "stream",
     "text": [
      "100%|██████████| 23/23 [00:03<00:00,  6.67it/s]\n",
      "100%|██████████| 4/4 [00:00<00:00,  9.02it/s]\n"
     ]
    },
    {
     "name": "stdout",
     "output_type": "stream",
     "text": [
      "[Epoch 18/100] Train Loss: 0.1029 Val Loss: 1.6241 Train Acc: 0.9597 Val Acc: 0.5667\n"
     ]
    },
    {
     "name": "stderr",
     "output_type": "stream",
     "text": [
      "100%|██████████| 23/23 [00:03<00:00,  6.25it/s]\n",
      "100%|██████████| 4/4 [00:00<00:00,  8.95it/s]\n"
     ]
    },
    {
     "name": "stdout",
     "output_type": "stream",
     "text": [
      "[Epoch 19/100] Train Loss: 0.0874 Val Loss: 0.5660 Train Acc: 0.9736 Val Acc: 0.8250\n"
     ]
    },
    {
     "name": "stderr",
     "output_type": "stream",
     "text": [
      "100%|██████████| 23/23 [00:03<00:00,  7.33it/s]\n",
      "100%|██████████| 4/4 [00:00<00:00,  8.67it/s]\n"
     ]
    },
    {
     "name": "stdout",
     "output_type": "stream",
     "text": [
      "[Epoch 20/100] Train Loss: 0.0757 Val Loss: 0.2659 Train Acc: 0.9806 Val Acc: 0.8917\n"
     ]
    },
    {
     "name": "stderr",
     "output_type": "stream",
     "text": [
      "100%|██████████| 23/23 [00:03<00:00,  6.73it/s]\n",
      "100%|██████████| 4/4 [00:00<00:00,  8.64it/s]\n"
     ]
    },
    {
     "name": "stdout",
     "output_type": "stream",
     "text": [
      "[Epoch 21/100] Train Loss: 0.0680 Val Loss: 0.4296 Train Acc: 0.9806 Val Acc: 0.8500\n"
     ]
    },
    {
     "name": "stderr",
     "output_type": "stream",
     "text": [
      "100%|██████████| 23/23 [00:03<00:00,  6.71it/s]\n",
      "100%|██████████| 4/4 [00:00<00:00,  8.47it/s]\n"
     ]
    },
    {
     "name": "stdout",
     "output_type": "stream",
     "text": [
      "[Epoch 22/100] Train Loss: 0.0587 Val Loss: 0.2137 Train Acc: 0.9833 Val Acc: 0.9583\n"
     ]
    },
    {
     "name": "stderr",
     "output_type": "stream",
     "text": [
      "100%|██████████| 23/23 [00:03<00:00,  6.74it/s]\n",
      "100%|██████████| 4/4 [00:00<00:00,  8.52it/s]\n"
     ]
    },
    {
     "name": "stdout",
     "output_type": "stream",
     "text": [
      "[Epoch 23/100] Train Loss: 0.0606 Val Loss: 0.1647 Train Acc: 0.9847 Val Acc: 0.9583\n"
     ]
    },
    {
     "name": "stderr",
     "output_type": "stream",
     "text": [
      "100%|██████████| 23/23 [00:03<00:00,  6.63it/s]\n",
      "100%|██████████| 4/4 [00:00<00:00,  8.82it/s]\n"
     ]
    },
    {
     "name": "stdout",
     "output_type": "stream",
     "text": [
      "[Epoch 24/100] Train Loss: 0.0279 Val Loss: 0.1241 Train Acc: 0.9986 Val Acc: 0.9417\n"
     ]
    },
    {
     "name": "stderr",
     "output_type": "stream",
     "text": [
      "100%|██████████| 23/23 [00:03<00:00,  6.55it/s]\n",
      "100%|██████████| 4/4 [00:00<00:00,  8.68it/s]\n"
     ]
    },
    {
     "name": "stdout",
     "output_type": "stream",
     "text": [
      "[Epoch 25/100] Train Loss: 0.0270 Val Loss: 0.2304 Train Acc: 0.9931 Val Acc: 0.9250\n"
     ]
    },
    {
     "name": "stderr",
     "output_type": "stream",
     "text": [
      "100%|██████████| 23/23 [00:04<00:00,  5.32it/s]\n",
      "100%|██████████| 4/4 [00:00<00:00,  6.06it/s]\n"
     ]
    },
    {
     "name": "stdout",
     "output_type": "stream",
     "text": [
      "[Epoch 26/100] Train Loss: 0.0407 Val Loss: 0.2008 Train Acc: 0.9847 Val Acc: 0.9250\n"
     ]
    },
    {
     "name": "stderr",
     "output_type": "stream",
     "text": [
      "100%|██████████| 23/23 [00:04<00:00,  5.33it/s]\n",
      "100%|██████████| 4/4 [00:00<00:00,  6.50it/s]\n"
     ]
    },
    {
     "name": "stdout",
     "output_type": "stream",
     "text": [
      "[Epoch 27/100] Train Loss: 0.0643 Val Loss: 0.0799 Train Acc: 0.9819 Val Acc: 0.9583\n"
     ]
    },
    {
     "name": "stderr",
     "output_type": "stream",
     "text": [
      "100%|██████████| 23/23 [00:04<00:00,  5.14it/s]\n",
      "100%|██████████| 4/4 [00:00<00:00,  7.10it/s]\n"
     ]
    },
    {
     "name": "stdout",
     "output_type": "stream",
     "text": [
      "[Epoch 28/100] Train Loss: 0.0510 Val Loss: 0.3504 Train Acc: 0.9889 Val Acc: 0.8833\n"
     ]
    },
    {
     "name": "stderr",
     "output_type": "stream",
     "text": [
      "100%|██████████| 23/23 [00:04<00:00,  5.00it/s]\n",
      "100%|██████████| 4/4 [00:00<00:00,  6.87it/s]\n"
     ]
    },
    {
     "name": "stdout",
     "output_type": "stream",
     "text": [
      "[Epoch 29/100] Train Loss: 0.0428 Val Loss: 0.3303 Train Acc: 0.9903 Val Acc: 0.9167\n"
     ]
    },
    {
     "name": "stderr",
     "output_type": "stream",
     "text": [
      "100%|██████████| 23/23 [00:04<00:00,  5.10it/s]\n",
      "100%|██████████| 4/4 [00:00<00:00,  6.60it/s]\n"
     ]
    },
    {
     "name": "stdout",
     "output_type": "stream",
     "text": [
      "[Epoch 30/100] Train Loss: 0.0300 Val Loss: 0.1090 Train Acc: 0.9931 Val Acc: 0.9667\n"
     ]
    },
    {
     "name": "stderr",
     "output_type": "stream",
     "text": [
      "100%|██████████| 23/23 [00:04<00:00,  5.60it/s]\n",
      "100%|██████████| 4/4 [00:00<00:00,  6.03it/s]\n"
     ]
    },
    {
     "name": "stdout",
     "output_type": "stream",
     "text": [
      "[Epoch 31/100] Train Loss: 0.0433 Val Loss: 0.3202 Train Acc: 0.9875 Val Acc: 0.9167\n"
     ]
    },
    {
     "name": "stderr",
     "output_type": "stream",
     "text": [
      "100%|██████████| 23/23 [00:03<00:00,  5.89it/s]\n",
      "100%|██████████| 4/4 [00:00<00:00,  7.80it/s]\n"
     ]
    },
    {
     "name": "stdout",
     "output_type": "stream",
     "text": [
      "[Epoch 32/100] Train Loss: 0.0287 Val Loss: 0.1349 Train Acc: 0.9917 Val Acc: 0.9583\n"
     ]
    },
    {
     "name": "stderr",
     "output_type": "stream",
     "text": [
      "100%|██████████| 23/23 [00:03<00:00,  6.06it/s]\n",
      "100%|██████████| 4/4 [00:00<00:00,  7.56it/s]\n"
     ]
    },
    {
     "name": "stdout",
     "output_type": "stream",
     "text": [
      "[Epoch 33/100] Train Loss: 0.0204 Val Loss: 0.2099 Train Acc: 0.9944 Val Acc: 0.9500\n"
     ]
    },
    {
     "name": "stderr",
     "output_type": "stream",
     "text": [
      "100%|██████████| 23/23 [00:03<00:00,  5.79it/s]\n",
      "100%|██████████| 4/4 [00:00<00:00,  7.45it/s]\n"
     ]
    },
    {
     "name": "stdout",
     "output_type": "stream",
     "text": [
      "[Epoch 34/100] Train Loss: 0.0240 Val Loss: 0.1487 Train Acc: 0.9958 Val Acc: 0.9333\n"
     ]
    },
    {
     "name": "stderr",
     "output_type": "stream",
     "text": [
      "100%|██████████| 23/23 [00:04<00:00,  5.18it/s]\n",
      "100%|██████████| 4/4 [00:00<00:00,  6.25it/s]\n"
     ]
    },
    {
     "name": "stdout",
     "output_type": "stream",
     "text": [
      "[Epoch 35/100] Train Loss: 0.0341 Val Loss: 0.0883 Train Acc: 0.9889 Val Acc: 0.9500\n"
     ]
    },
    {
     "name": "stderr",
     "output_type": "stream",
     "text": [
      "100%|██████████| 23/23 [00:04<00:00,  5.24it/s]\n",
      "100%|██████████| 4/4 [00:00<00:00,  6.26it/s]\n"
     ]
    },
    {
     "name": "stdout",
     "output_type": "stream",
     "text": [
      "[Epoch 36/100] Train Loss: 0.0513 Val Loss: 0.1605 Train Acc: 0.9875 Val Acc: 0.9417\n"
     ]
    },
    {
     "name": "stderr",
     "output_type": "stream",
     "text": [
      "100%|██████████| 23/23 [00:04<00:00,  5.39it/s]\n",
      "100%|██████████| 4/4 [00:00<00:00,  6.79it/s]\n"
     ]
    },
    {
     "name": "stdout",
     "output_type": "stream",
     "text": [
      "[Epoch 37/100] Train Loss: 0.0347 Val Loss: 0.0884 Train Acc: 0.9903 Val Acc: 0.9667\n"
     ]
    },
    {
     "name": "stderr",
     "output_type": "stream",
     "text": [
      "100%|██████████| 23/23 [00:04<00:00,  4.91it/s]\n",
      "100%|██████████| 4/4 [00:00<00:00,  7.00it/s]\n"
     ]
    },
    {
     "name": "stdout",
     "output_type": "stream",
     "text": [
      "[Epoch 38/100] Train Loss: 0.0209 Val Loss: 0.1825 Train Acc: 0.9944 Val Acc: 0.9417\n"
     ]
    },
    {
     "name": "stderr",
     "output_type": "stream",
     "text": [
      "100%|██████████| 23/23 [00:04<00:00,  4.95it/s]\n",
      "100%|██████████| 4/4 [00:00<00:00,  6.68it/s]\n"
     ]
    },
    {
     "name": "stdout",
     "output_type": "stream",
     "text": [
      "[Epoch 39/100] Train Loss: 0.0332 Val Loss: 0.1049 Train Acc: 0.9903 Val Acc: 0.9667\n"
     ]
    },
    {
     "name": "stderr",
     "output_type": "stream",
     "text": [
      "100%|██████████| 23/23 [00:04<00:00,  4.95it/s]\n",
      "100%|██████████| 4/4 [00:00<00:00,  6.88it/s]\n"
     ]
    },
    {
     "name": "stdout",
     "output_type": "stream",
     "text": [
      "[Epoch 40/100] Train Loss: 0.0435 Val Loss: 0.2145 Train Acc: 0.9833 Val Acc: 0.9500\n"
     ]
    },
    {
     "name": "stderr",
     "output_type": "stream",
     "text": [
      "100%|██████████| 23/23 [00:04<00:00,  4.81it/s]\n",
      "100%|██████████| 4/4 [00:00<00:00,  7.02it/s]\n"
     ]
    },
    {
     "name": "stdout",
     "output_type": "stream",
     "text": [
      "[Epoch 41/100] Train Loss: 0.0239 Val Loss: 0.0924 Train Acc: 0.9903 Val Acc: 0.9667\n"
     ]
    },
    {
     "name": "stderr",
     "output_type": "stream",
     "text": [
      "100%|██████████| 23/23 [00:04<00:00,  5.35it/s]\n",
      "100%|██████████| 4/4 [00:00<00:00,  6.83it/s]\n"
     ]
    },
    {
     "name": "stdout",
     "output_type": "stream",
     "text": [
      "[Epoch 42/100] Train Loss: 0.0220 Val Loss: 0.1199 Train Acc: 0.9931 Val Acc: 0.9583\n"
     ]
    },
    {
     "name": "stderr",
     "output_type": "stream",
     "text": [
      "100%|██████████| 23/23 [00:04<00:00,  5.39it/s]\n",
      "100%|██████████| 4/4 [00:00<00:00,  6.72it/s]\n"
     ]
    },
    {
     "name": "stdout",
     "output_type": "stream",
     "text": [
      "[Epoch 43/100] Train Loss: 0.0339 Val Loss: 0.1562 Train Acc: 0.9875 Val Acc: 0.9583\n"
     ]
    },
    {
     "name": "stderr",
     "output_type": "stream",
     "text": [
      "100%|██████████| 23/23 [00:04<00:00,  5.15it/s]\n",
      "100%|██████████| 4/4 [00:00<00:00,  6.35it/s]\n"
     ]
    },
    {
     "name": "stdout",
     "output_type": "stream",
     "text": [
      "[Epoch 44/100] Train Loss: 0.0143 Val Loss: 0.0360 Train Acc: 0.9986 Val Acc: 0.9917\n"
     ]
    },
    {
     "name": "stderr",
     "output_type": "stream",
     "text": [
      "100%|██████████| 23/23 [00:04<00:00,  5.15it/s]\n",
      "100%|██████████| 4/4 [00:00<00:00,  6.74it/s]\n"
     ]
    },
    {
     "name": "stdout",
     "output_type": "stream",
     "text": [
      "[Epoch 45/100] Train Loss: 0.0117 Val Loss: 0.2806 Train Acc: 0.9958 Val Acc: 0.9500\n"
     ]
    },
    {
     "name": "stderr",
     "output_type": "stream",
     "text": [
      "100%|██████████| 23/23 [00:04<00:00,  4.95it/s]\n",
      "100%|██████████| 4/4 [00:00<00:00,  5.90it/s]\n"
     ]
    },
    {
     "name": "stdout",
     "output_type": "stream",
     "text": [
      "[Epoch 46/100] Train Loss: 0.0100 Val Loss: 0.1825 Train Acc: 0.9958 Val Acc: 0.9667\n"
     ]
    },
    {
     "name": "stderr",
     "output_type": "stream",
     "text": [
      "100%|██████████| 23/23 [00:04<00:00,  5.18it/s]\n",
      "100%|██████████| 4/4 [00:00<00:00,  6.43it/s]\n"
     ]
    },
    {
     "name": "stdout",
     "output_type": "stream",
     "text": [
      "[Epoch 47/100] Train Loss: 0.0197 Val Loss: 0.1068 Train Acc: 0.9944 Val Acc: 0.9417\n"
     ]
    },
    {
     "name": "stderr",
     "output_type": "stream",
     "text": [
      "100%|██████████| 23/23 [00:04<00:00,  5.11it/s]\n",
      "100%|██████████| 4/4 [00:00<00:00,  6.96it/s]\n"
     ]
    },
    {
     "name": "stdout",
     "output_type": "stream",
     "text": [
      "[Epoch 48/100] Train Loss: 0.0173 Val Loss: 0.2650 Train Acc: 0.9958 Val Acc: 0.9333\n"
     ]
    },
    {
     "name": "stderr",
     "output_type": "stream",
     "text": [
      "100%|██████████| 23/23 [00:04<00:00,  5.03it/s]\n",
      "100%|██████████| 4/4 [00:00<00:00,  6.26it/s]\n"
     ]
    },
    {
     "name": "stdout",
     "output_type": "stream",
     "text": [
      "[Epoch 49/100] Train Loss: 0.0309 Val Loss: 0.6057 Train Acc: 0.9889 Val Acc: 0.8667\n"
     ]
    },
    {
     "name": "stderr",
     "output_type": "stream",
     "text": [
      "100%|██████████| 23/23 [00:04<00:00,  5.19it/s]\n",
      "100%|██████████| 4/4 [00:00<00:00,  6.39it/s]\n"
     ]
    },
    {
     "name": "stdout",
     "output_type": "stream",
     "text": [
      "[Epoch 50/100] Train Loss: 0.0251 Val Loss: 0.2307 Train Acc: 0.9903 Val Acc: 0.9417\n"
     ]
    },
    {
     "name": "stderr",
     "output_type": "stream",
     "text": [
      "100%|██████████| 23/23 [00:04<00:00,  5.19it/s]\n",
      "100%|██████████| 4/4 [00:00<00:00,  6.66it/s]\n"
     ]
    },
    {
     "name": "stdout",
     "output_type": "stream",
     "text": [
      "[Epoch 51/100] Train Loss: 0.0334 Val Loss: 0.1785 Train Acc: 0.9889 Val Acc: 0.9583\n"
     ]
    },
    {
     "name": "stderr",
     "output_type": "stream",
     "text": [
      "100%|██████████| 23/23 [00:04<00:00,  5.04it/s]\n",
      "100%|██████████| 4/4 [00:00<00:00,  5.68it/s]\n"
     ]
    },
    {
     "name": "stdout",
     "output_type": "stream",
     "text": [
      "[Epoch 52/100] Train Loss: 0.0309 Val Loss: 0.0812 Train Acc: 0.9889 Val Acc: 0.9750\n"
     ]
    },
    {
     "name": "stderr",
     "output_type": "stream",
     "text": [
      "100%|██████████| 23/23 [00:04<00:00,  5.05it/s]\n",
      "100%|██████████| 4/4 [00:00<00:00,  6.45it/s]\n"
     ]
    },
    {
     "name": "stdout",
     "output_type": "stream",
     "text": [
      "[Epoch 53/100] Train Loss: 0.0517 Val Loss: 1.6351 Train Acc: 0.9819 Val Acc: 0.6833\n"
     ]
    },
    {
     "name": "stderr",
     "output_type": "stream",
     "text": [
      "100%|██████████| 23/23 [00:04<00:00,  5.32it/s]\n",
      "100%|██████████| 4/4 [00:00<00:00,  6.24it/s]\n"
     ]
    },
    {
     "name": "stdout",
     "output_type": "stream",
     "text": [
      "[Epoch 54/100] Train Loss: 0.0377 Val Loss: 0.2067 Train Acc: 0.9819 Val Acc: 0.9583\n"
     ]
    },
    {
     "name": "stderr",
     "output_type": "stream",
     "text": [
      "100%|██████████| 23/23 [00:04<00:00,  5.25it/s]\n",
      "100%|██████████| 4/4 [00:00<00:00,  6.74it/s]\n"
     ]
    },
    {
     "name": "stdout",
     "output_type": "stream",
     "text": [
      "[Epoch 55/100] Train Loss: 0.0244 Val Loss: 1.2455 Train Acc: 0.9944 Val Acc: 0.7333\n"
     ]
    },
    {
     "name": "stderr",
     "output_type": "stream",
     "text": [
      "100%|██████████| 23/23 [00:04<00:00,  5.11it/s]\n",
      "100%|██████████| 4/4 [00:00<00:00,  6.21it/s]\n"
     ]
    },
    {
     "name": "stdout",
     "output_type": "stream",
     "text": [
      "[Epoch 56/100] Train Loss: 0.0134 Val Loss: 0.2102 Train Acc: 0.9958 Val Acc: 0.9583\n"
     ]
    },
    {
     "name": "stderr",
     "output_type": "stream",
     "text": [
      "100%|██████████| 23/23 [00:04<00:00,  5.18it/s]\n",
      "100%|██████████| 4/4 [00:00<00:00,  6.66it/s]\n"
     ]
    },
    {
     "name": "stdout",
     "output_type": "stream",
     "text": [
      "[Epoch 57/100] Train Loss: 0.0127 Val Loss: 0.2216 Train Acc: 0.9944 Val Acc: 0.9167\n"
     ]
    },
    {
     "name": "stderr",
     "output_type": "stream",
     "text": [
      "100%|██████████| 23/23 [00:04<00:00,  5.20it/s]\n",
      "100%|██████████| 4/4 [00:00<00:00,  6.65it/s]\n"
     ]
    },
    {
     "name": "stdout",
     "output_type": "stream",
     "text": [
      "[Epoch 58/100] Train Loss: 0.0097 Val Loss: 0.0819 Train Acc: 0.9986 Val Acc: 0.9833\n"
     ]
    },
    {
     "name": "stderr",
     "output_type": "stream",
     "text": [
      "100%|██████████| 23/23 [00:04<00:00,  5.03it/s]\n",
      "100%|██████████| 4/4 [00:00<00:00,  6.92it/s]\n"
     ]
    },
    {
     "name": "stdout",
     "output_type": "stream",
     "text": [
      "[Epoch 59/100] Train Loss: 0.0086 Val Loss: 0.1654 Train Acc: 0.9986 Val Acc: 0.9583\n"
     ]
    },
    {
     "name": "stderr",
     "output_type": "stream",
     "text": [
      "100%|██████████| 23/23 [00:04<00:00,  5.09it/s]\n",
      "100%|██████████| 4/4 [00:00<00:00,  5.67it/s]\n"
     ]
    },
    {
     "name": "stdout",
     "output_type": "stream",
     "text": [
      "[Epoch 60/100] Train Loss: 0.0117 Val Loss: 0.2974 Train Acc: 0.9972 Val Acc: 0.9250\n"
     ]
    },
    {
     "name": "stderr",
     "output_type": "stream",
     "text": [
      "100%|██████████| 23/23 [00:04<00:00,  4.96it/s]\n",
      "100%|██████████| 4/4 [00:00<00:00,  6.50it/s]\n"
     ]
    },
    {
     "name": "stdout",
     "output_type": "stream",
     "text": [
      "[Epoch 61/100] Train Loss: 0.0138 Val Loss: 0.5634 Train Acc: 0.9958 Val Acc: 0.8250\n"
     ]
    },
    {
     "name": "stderr",
     "output_type": "stream",
     "text": [
      "100%|██████████| 23/23 [00:04<00:00,  5.29it/s]\n",
      "100%|██████████| 4/4 [00:00<00:00,  6.73it/s]\n"
     ]
    },
    {
     "name": "stdout",
     "output_type": "stream",
     "text": [
      "[Epoch 62/100] Train Loss: 0.0128 Val Loss: 0.2268 Train Acc: 0.9958 Val Acc: 0.9500\n"
     ]
    },
    {
     "name": "stderr",
     "output_type": "stream",
     "text": [
      "100%|██████████| 23/23 [00:04<00:00,  5.28it/s]\n",
      "100%|██████████| 4/4 [00:00<00:00,  5.87it/s]\n"
     ]
    },
    {
     "name": "stdout",
     "output_type": "stream",
     "text": [
      "[Epoch 63/100] Train Loss: 0.0079 Val Loss: 0.2369 Train Acc: 0.9986 Val Acc: 0.9333\n"
     ]
    },
    {
     "name": "stderr",
     "output_type": "stream",
     "text": [
      "100%|██████████| 23/23 [00:04<00:00,  5.27it/s]\n",
      "100%|██████████| 4/4 [00:00<00:00,  6.48it/s]\n"
     ]
    },
    {
     "name": "stdout",
     "output_type": "stream",
     "text": [
      "[Epoch 64/100] Train Loss: 0.0051 Val Loss: 0.1398 Train Acc: 1.0000 Val Acc: 0.9750\n"
     ]
    },
    {
     "name": "stderr",
     "output_type": "stream",
     "text": [
      "100%|██████████| 23/23 [00:04<00:00,  5.58it/s]\n",
      "100%|██████████| 4/4 [00:00<00:00,  5.83it/s]\n"
     ]
    },
    {
     "name": "stdout",
     "output_type": "stream",
     "text": [
      "[Epoch 65/100] Train Loss: 0.0029 Val Loss: 0.2073 Train Acc: 1.0000 Val Acc: 0.9500\n"
     ]
    },
    {
     "name": "stderr",
     "output_type": "stream",
     "text": [
      "100%|██████████| 23/23 [00:04<00:00,  5.18it/s]\n",
      "100%|██████████| 4/4 [00:00<00:00,  6.59it/s]\n"
     ]
    },
    {
     "name": "stdout",
     "output_type": "stream",
     "text": [
      "[Epoch 66/100] Train Loss: 0.0041 Val Loss: 0.0824 Train Acc: 1.0000 Val Acc: 0.9750\n"
     ]
    },
    {
     "name": "stderr",
     "output_type": "stream",
     "text": [
      "100%|██████████| 23/23 [00:04<00:00,  5.29it/s]\n",
      "100%|██████████| 4/4 [00:00<00:00,  6.89it/s]\n"
     ]
    },
    {
     "name": "stdout",
     "output_type": "stream",
     "text": [
      "[Epoch 67/100] Train Loss: 0.0019 Val Loss: 0.1413 Train Acc: 1.0000 Val Acc: 0.9750\n"
     ]
    },
    {
     "name": "stderr",
     "output_type": "stream",
     "text": [
      "100%|██████████| 23/23 [00:04<00:00,  5.35it/s]\n",
      "100%|██████████| 4/4 [00:00<00:00,  6.41it/s]\n"
     ]
    },
    {
     "name": "stdout",
     "output_type": "stream",
     "text": [
      "[Epoch 68/100] Train Loss: 0.0025 Val Loss: 0.1728 Train Acc: 1.0000 Val Acc: 0.9583\n"
     ]
    },
    {
     "name": "stderr",
     "output_type": "stream",
     "text": [
      "100%|██████████| 23/23 [00:04<00:00,  5.07it/s]\n",
      "100%|██████████| 4/4 [00:00<00:00,  6.55it/s]\n"
     ]
    },
    {
     "name": "stdout",
     "output_type": "stream",
     "text": [
      "[Epoch 69/100] Train Loss: 0.0036 Val Loss: 0.1397 Train Acc: 0.9986 Val Acc: 0.9750\n"
     ]
    },
    {
     "name": "stderr",
     "output_type": "stream",
     "text": [
      "100%|██████████| 23/23 [00:04<00:00,  5.34it/s]\n",
      "100%|██████████| 4/4 [00:00<00:00,  7.43it/s]\n"
     ]
    },
    {
     "name": "stdout",
     "output_type": "stream",
     "text": [
      "[Epoch 70/100] Train Loss: 0.0032 Val Loss: 0.1372 Train Acc: 0.9986 Val Acc: 0.9667\n"
     ]
    },
    {
     "name": "stderr",
     "output_type": "stream",
     "text": [
      "100%|██████████| 23/23 [00:04<00:00,  5.08it/s]\n",
      "100%|██████████| 4/4 [00:00<00:00,  6.60it/s]\n"
     ]
    },
    {
     "name": "stdout",
     "output_type": "stream",
     "text": [
      "[Epoch 71/100] Train Loss: 0.0012 Val Loss: 0.1276 Train Acc: 1.0000 Val Acc: 0.9667\n"
     ]
    },
    {
     "name": "stderr",
     "output_type": "stream",
     "text": [
      "100%|██████████| 23/23 [00:04<00:00,  5.10it/s]\n",
      "100%|██████████| 4/4 [00:00<00:00,  6.39it/s]\n"
     ]
    },
    {
     "name": "stdout",
     "output_type": "stream",
     "text": [
      "[Epoch 72/100] Train Loss: 0.0041 Val Loss: 0.1690 Train Acc: 0.9972 Val Acc: 0.9417\n"
     ]
    },
    {
     "name": "stderr",
     "output_type": "stream",
     "text": [
      "100%|██████████| 23/23 [00:04<00:00,  4.91it/s]\n",
      "100%|██████████| 4/4 [00:00<00:00,  5.48it/s]\n"
     ]
    },
    {
     "name": "stdout",
     "output_type": "stream",
     "text": [
      "[Epoch 73/100] Train Loss: 0.0120 Val Loss: 0.2438 Train Acc: 0.9972 Val Acc: 0.9583\n"
     ]
    },
    {
     "name": "stderr",
     "output_type": "stream",
     "text": [
      "100%|██████████| 23/23 [00:04<00:00,  4.82it/s]\n",
      "100%|██████████| 4/4 [00:00<00:00,  6.47it/s]\n"
     ]
    },
    {
     "name": "stdout",
     "output_type": "stream",
     "text": [
      "[Epoch 74/100] Train Loss: 0.0117 Val Loss: 0.2035 Train Acc: 0.9986 Val Acc: 0.9583\n"
     ]
    },
    {
     "name": "stderr",
     "output_type": "stream",
     "text": [
      "100%|██████████| 23/23 [00:04<00:00,  5.36it/s]\n",
      "100%|██████████| 4/4 [00:00<00:00,  6.20it/s]\n"
     ]
    },
    {
     "name": "stdout",
     "output_type": "stream",
     "text": [
      "[Epoch 75/100] Train Loss: 0.0182 Val Loss: 0.3585 Train Acc: 0.9944 Val Acc: 0.9167\n"
     ]
    },
    {
     "name": "stderr",
     "output_type": "stream",
     "text": [
      "100%|██████████| 23/23 [00:04<00:00,  5.06it/s]\n",
      "100%|██████████| 4/4 [00:00<00:00,  6.62it/s]\n"
     ]
    },
    {
     "name": "stdout",
     "output_type": "stream",
     "text": [
      "[Epoch 76/100] Train Loss: 0.0102 Val Loss: 0.1582 Train Acc: 0.9972 Val Acc: 0.9250\n"
     ]
    },
    {
     "name": "stderr",
     "output_type": "stream",
     "text": [
      "100%|██████████| 23/23 [00:04<00:00,  5.13it/s]\n",
      "100%|██████████| 4/4 [00:00<00:00,  6.79it/s]\n"
     ]
    },
    {
     "name": "stdout",
     "output_type": "stream",
     "text": [
      "[Epoch 77/100] Train Loss: 0.0191 Val Loss: 1.4976 Train Acc: 0.9917 Val Acc: 0.7417\n"
     ]
    },
    {
     "name": "stderr",
     "output_type": "stream",
     "text": [
      "100%|██████████| 23/23 [00:04<00:00,  4.92it/s]\n",
      "100%|██████████| 4/4 [00:00<00:00,  6.97it/s]\n"
     ]
    },
    {
     "name": "stdout",
     "output_type": "stream",
     "text": [
      "[Epoch 78/100] Train Loss: 0.0242 Val Loss: 0.1292 Train Acc: 0.9931 Val Acc: 0.9583\n"
     ]
    },
    {
     "name": "stderr",
     "output_type": "stream",
     "text": [
      "100%|██████████| 23/23 [00:04<00:00,  4.78it/s]\n",
      "100%|██████████| 4/4 [00:00<00:00,  6.77it/s]\n"
     ]
    },
    {
     "name": "stdout",
     "output_type": "stream",
     "text": [
      "[Epoch 79/100] Train Loss: 0.0141 Val Loss: 0.3048 Train Acc: 0.9944 Val Acc: 0.9333\n"
     ]
    },
    {
     "name": "stderr",
     "output_type": "stream",
     "text": [
      "100%|██████████| 23/23 [00:04<00:00,  4.95it/s]\n",
      "100%|██████████| 4/4 [00:00<00:00,  6.83it/s]\n"
     ]
    },
    {
     "name": "stdout",
     "output_type": "stream",
     "text": [
      "[Epoch 80/100] Train Loss: 0.0183 Val Loss: 1.3723 Train Acc: 0.9931 Val Acc: 0.7250\n"
     ]
    },
    {
     "name": "stderr",
     "output_type": "stream",
     "text": [
      "100%|██████████| 23/23 [00:04<00:00,  5.43it/s]\n",
      "100%|██████████| 4/4 [00:00<00:00,  6.84it/s]\n"
     ]
    },
    {
     "name": "stdout",
     "output_type": "stream",
     "text": [
      "[Epoch 81/100] Train Loss: 0.0308 Val Loss: 0.3896 Train Acc: 0.9889 Val Acc: 0.9083\n"
     ]
    },
    {
     "name": "stderr",
     "output_type": "stream",
     "text": [
      "100%|██████████| 23/23 [00:04<00:00,  5.06it/s]\n",
      "100%|██████████| 4/4 [00:00<00:00,  6.57it/s]\n"
     ]
    },
    {
     "name": "stdout",
     "output_type": "stream",
     "text": [
      "[Epoch 82/100] Train Loss: 0.0217 Val Loss: 0.1700 Train Acc: 0.9917 Val Acc: 0.9583\n"
     ]
    },
    {
     "name": "stderr",
     "output_type": "stream",
     "text": [
      "100%|██████████| 23/23 [00:04<00:00,  5.18it/s]\n",
      "100%|██████████| 4/4 [00:00<00:00,  7.46it/s]\n"
     ]
    },
    {
     "name": "stdout",
     "output_type": "stream",
     "text": [
      "[Epoch 83/100] Train Loss: 0.0902 Val Loss: 0.8381 Train Acc: 0.9806 Val Acc: 0.8000\n"
     ]
    },
    {
     "name": "stderr",
     "output_type": "stream",
     "text": [
      "100%|██████████| 23/23 [00:04<00:00,  4.99it/s]\n",
      "100%|██████████| 4/4 [00:00<00:00,  6.16it/s]\n"
     ]
    },
    {
     "name": "stdout",
     "output_type": "stream",
     "text": [
      "[Epoch 84/100] Train Loss: 0.0449 Val Loss: 0.2919 Train Acc: 0.9861 Val Acc: 0.9250\n"
     ]
    },
    {
     "name": "stderr",
     "output_type": "stream",
     "text": [
      "100%|██████████| 23/23 [00:04<00:00,  4.91it/s]\n",
      "100%|██████████| 4/4 [00:00<00:00,  6.84it/s]\n"
     ]
    },
    {
     "name": "stdout",
     "output_type": "stream",
     "text": [
      "[Epoch 85/100] Train Loss: 0.0256 Val Loss: 0.0688 Train Acc: 0.9931 Val Acc: 0.9750\n"
     ]
    },
    {
     "name": "stderr",
     "output_type": "stream",
     "text": [
      "100%|██████████| 23/23 [00:04<00:00,  5.18it/s]\n",
      "100%|██████████| 4/4 [00:00<00:00,  6.93it/s]\n"
     ]
    },
    {
     "name": "stdout",
     "output_type": "stream",
     "text": [
      "[Epoch 86/100] Train Loss: 0.0276 Val Loss: 0.1665 Train Acc: 0.9917 Val Acc: 0.9333\n"
     ]
    },
    {
     "name": "stderr",
     "output_type": "stream",
     "text": [
      "100%|██████████| 23/23 [00:04<00:00,  4.96it/s]\n",
      "100%|██████████| 4/4 [00:00<00:00,  8.12it/s]\n"
     ]
    },
    {
     "name": "stdout",
     "output_type": "stream",
     "text": [
      "[Epoch 87/100] Train Loss: 0.0182 Val Loss: 0.2136 Train Acc: 0.9958 Val Acc: 0.9500\n"
     ]
    },
    {
     "name": "stderr",
     "output_type": "stream",
     "text": [
      "100%|██████████| 23/23 [00:04<00:00,  5.74it/s]\n",
      "100%|██████████| 4/4 [00:00<00:00,  6.84it/s]\n"
     ]
    },
    {
     "name": "stdout",
     "output_type": "stream",
     "text": [
      "[Epoch 88/100] Train Loss: 0.0115 Val Loss: 0.7194 Train Acc: 0.9958 Val Acc: 0.8583\n"
     ]
    },
    {
     "name": "stderr",
     "output_type": "stream",
     "text": [
      "100%|██████████| 23/23 [00:04<00:00,  4.93it/s]\n",
      "100%|██████████| 4/4 [00:00<00:00,  6.53it/s]\n"
     ]
    },
    {
     "name": "stdout",
     "output_type": "stream",
     "text": [
      "[Epoch 89/100] Train Loss: 0.0115 Val Loss: 0.1628 Train Acc: 0.9944 Val Acc: 0.9417\n"
     ]
    },
    {
     "name": "stderr",
     "output_type": "stream",
     "text": [
      "100%|██████████| 23/23 [00:04<00:00,  5.47it/s]\n",
      "100%|██████████| 4/4 [00:00<00:00,  6.20it/s]\n"
     ]
    },
    {
     "name": "stdout",
     "output_type": "stream",
     "text": [
      "[Epoch 90/100] Train Loss: 0.0094 Val Loss: 0.1927 Train Acc: 0.9986 Val Acc: 0.9667\n"
     ]
    },
    {
     "name": "stderr",
     "output_type": "stream",
     "text": [
      "100%|██████████| 23/23 [00:04<00:00,  5.24it/s]\n",
      "100%|██████████| 4/4 [00:00<00:00,  6.68it/s]\n"
     ]
    },
    {
     "name": "stdout",
     "output_type": "stream",
     "text": [
      "[Epoch 91/100] Train Loss: 0.0304 Val Loss: 0.4083 Train Acc: 0.9944 Val Acc: 0.9250\n"
     ]
    },
    {
     "name": "stderr",
     "output_type": "stream",
     "text": [
      "100%|██████████| 23/23 [00:04<00:00,  5.31it/s]\n",
      "100%|██████████| 4/4 [00:00<00:00,  5.70it/s]\n"
     ]
    },
    {
     "name": "stdout",
     "output_type": "stream",
     "text": [
      "[Epoch 92/100] Train Loss: 0.0157 Val Loss: 0.1123 Train Acc: 0.9958 Val Acc: 0.9500\n"
     ]
    },
    {
     "name": "stderr",
     "output_type": "stream",
     "text": [
      "100%|██████████| 23/23 [00:04<00:00,  4.96it/s]\n",
      "100%|██████████| 4/4 [00:00<00:00,  6.14it/s]\n"
     ]
    },
    {
     "name": "stdout",
     "output_type": "stream",
     "text": [
      "[Epoch 93/100] Train Loss: 0.0168 Val Loss: 0.2204 Train Acc: 0.9944 Val Acc: 0.9500\n"
     ]
    },
    {
     "name": "stderr",
     "output_type": "stream",
     "text": [
      "100%|██████████| 23/23 [00:04<00:00,  5.12it/s]\n",
      "100%|██████████| 4/4 [00:00<00:00,  6.20it/s]\n"
     ]
    },
    {
     "name": "stdout",
     "output_type": "stream",
     "text": [
      "[Epoch 94/100] Train Loss: 0.0075 Val Loss: 0.0723 Train Acc: 0.9986 Val Acc: 0.9833\n"
     ]
    },
    {
     "name": "stderr",
     "output_type": "stream",
     "text": [
      "100%|██████████| 23/23 [00:04<00:00,  5.06it/s]\n",
      "100%|██████████| 4/4 [00:00<00:00,  6.08it/s]\n"
     ]
    },
    {
     "name": "stdout",
     "output_type": "stream",
     "text": [
      "[Epoch 95/100] Train Loss: 0.0042 Val Loss: 0.2062 Train Acc: 0.9986 Val Acc: 0.9583\n"
     ]
    },
    {
     "name": "stderr",
     "output_type": "stream",
     "text": [
      "100%|██████████| 23/23 [00:04<00:00,  5.01it/s]\n",
      "100%|██████████| 4/4 [00:00<00:00,  6.49it/s]\n"
     ]
    },
    {
     "name": "stdout",
     "output_type": "stream",
     "text": [
      "[Epoch 96/100] Train Loss: 0.0043 Val Loss: 0.1932 Train Acc: 0.9986 Val Acc: 0.9583\n"
     ]
    },
    {
     "name": "stderr",
     "output_type": "stream",
     "text": [
      "100%|██████████| 23/23 [00:04<00:00,  4.85it/s]\n",
      "100%|██████████| 4/4 [00:00<00:00,  6.35it/s]\n"
     ]
    },
    {
     "name": "stdout",
     "output_type": "stream",
     "text": [
      "[Epoch 97/100] Train Loss: 0.0023 Val Loss: 0.1326 Train Acc: 1.0000 Val Acc: 0.9667\n"
     ]
    },
    {
     "name": "stderr",
     "output_type": "stream",
     "text": [
      "100%|██████████| 23/23 [00:04<00:00,  5.19it/s]\n",
      "100%|██████████| 4/4 [00:00<00:00,  6.28it/s]\n"
     ]
    },
    {
     "name": "stdout",
     "output_type": "stream",
     "text": [
      "[Epoch 98/100] Train Loss: 0.0060 Val Loss: 0.1272 Train Acc: 0.9986 Val Acc: 0.9583\n"
     ]
    },
    {
     "name": "stderr",
     "output_type": "stream",
     "text": [
      "100%|██████████| 23/23 [00:04<00:00,  5.14it/s]\n",
      "100%|██████████| 4/4 [00:00<00:00,  6.93it/s]\n"
     ]
    },
    {
     "name": "stdout",
     "output_type": "stream",
     "text": [
      "[Epoch 99/100] Train Loss: 0.0082 Val Loss: 0.4447 Train Acc: 0.9958 Val Acc: 0.8833\n"
     ]
    },
    {
     "name": "stderr",
     "output_type": "stream",
     "text": [
      "100%|██████████| 23/23 [00:04<00:00,  5.21it/s]\n",
      "100%|██████████| 4/4 [00:00<00:00,  6.21it/s]\n"
     ]
    },
    {
     "name": "stdout",
     "output_type": "stream",
     "text": [
      "[Epoch 100/100] Train Loss: 0.0218 Val Loss: 0.2376 Train Acc: 0.9917 Val Acc: 0.9500\n",
      "Model saved at ../models/minialexnet-2025-03-27 23:18:58.pt\n"
     ]
    },
    {
     "data": {
      "text/plain": [
       "<Artifact minialexnet-model>"
      ]
     },
     "execution_count": 37,
     "metadata": {},
     "output_type": "execute_result"
    }
   ],
   "source": [
    "import torch.optim as optim\n",
    "model = model.to(device)\n",
    "wandb.watch(model, log=\"all\", log_freq=100)\n",
    "# Hyperparameters\n",
    "NUM_EPOCHS = wandb.config.num_epochs\n",
    "LEARNING_RATE = wandb.config.lr\n",
    "BATCH_SIZE = wandb.config.batch_size\n",
    "OPTIMIZER_NAME = wandb.config.optimizer\n",
    "WEIGHT_DECAY = wandb.config.weight_decay\n",
    "MOMENTUM = wandb.config.momentum\n",
    "\n",
    "# optimize for only classifier layers\n",
    "criterion = nn.CrossEntropyLoss()\n",
    "if OPTIMIZER_NAME == \"adam\":\n",
    "    optimizer = optim.Adam(model.parameters(), lr=LEARNING_RATE, weight_decay=WEIGHT_DECAY)\n",
    "elif OPTIMIZER_NAME == \"sgd\":\n",
    "    optimizer = optim.SGD(model.parameters(), lr=LEARNING_RATE, weight_decay=WEIGHT_DECAY, momentum=MOMENTUM)\n",
    "elif OPTIMIZER_NAME == \"adamw\":\n",
    "    optimizer = optim.AdamW(model.parameters(), lr=LEARNING_RATE, weight_decay=WEIGHT_DECAY)\n",
    "else:\n",
    "    raise ValueError(f\"Invalid optimizer name: {OPTIMIZER_NAME}\")\n",
    "NUM_CLASSES = 2\n",
    "\n",
    "train_losses = []\n",
    "val_losses = []\n",
    "timestamp = time.strftime(\"%Y-%m-%d %H:%M:%S\")\n",
    "\n",
    "# Stat check\n",
    "print(\"Training model...\")\n",
    "print(f\"Device: {device}\")\n",
    "print(f\"Number of epochs: {NUM_EPOCHS}\")\n",
    "print(f\"Optimizer: {optimizer}\")\n",
    "print(f\"Criterion: {criterion}\")\n",
    "print(f\"Dataset: {len(train_dataset)} training samples, {len(val_dataset)} validation samples\")\n",
    "\n",
    "# Training loop\n",
    "for epoch in range(NUM_EPOCHS):\n",
    "    model.train()\n",
    "    running_loss = 0.0\n",
    "    running_corrects = 0\n",
    "    \n",
    "    for inputs, labels in tqdm(train_loader):\n",
    "        inputs = inputs.to(device)\n",
    "        labels = labels.to(device)\n",
    "\n",
    "        optimizer.zero_grad()\n",
    "        outputs = model(inputs)\n",
    "        loss = criterion(outputs, labels)\n",
    "        loss.backward()\n",
    "        optimizer.step()\n",
    "\n",
    "        running_loss += loss.item() * inputs.size(0)\n",
    "        _, preds = torch.max(outputs, 1)\n",
    "        running_corrects += torch.sum(preds == labels.data)\n",
    "\n",
    "    epoch_loss = running_loss / len(train_dataset)\n",
    "    epoch_acc = running_corrects.double() / len(train_dataset)\n",
    "\n",
    "    # Validation phase: turn on eval mode, no gradient compute\n",
    "    model.eval()\n",
    "    val_running_loss = 0.0\n",
    "    val_running_corrects = 0\n",
    "    with torch.no_grad():\n",
    "        for inputs, labels in tqdm(val_loader):\n",
    "            inputs = inputs.to(device)\n",
    "            labels = labels.to(device)\n",
    "\n",
    "            outputs = model(inputs)\n",
    "            loss = criterion(outputs, labels)\n",
    "            val_running_loss += loss.item() * inputs.size(0)\n",
    "            _, preds = torch.max(outputs, 1)\n",
    "            val_running_corrects += torch.sum(preds == labels.data)\n",
    "\n",
    "    val_loss = val_running_loss / len(val_dataset)\n",
    "    val_acc = val_running_corrects.double() / len(val_dataset)\n",
    "    print(f\"[Epoch {epoch+1}/{NUM_EPOCHS}] Train Loss: {epoch_loss:.4f} Val Loss: {val_loss:.4f} Train Acc: {epoch_acc:.4f} Val Acc: {val_acc:.4f}\")\n",
    "    run.log({\"train_loss\": epoch_loss, \"val_loss\": val_loss, \"train_acc\": epoch_acc, \"val_acc\": val_acc})\n",
    "    train_losses.append(epoch_loss)\n",
    "    val_losses.append(val_loss)\n",
    "\n",
    "# Save model\n",
    "model_dir = \"../models\"\n",
    "os.makedirs(model_dir, exist_ok=True)\n",
    "model_path = os.path.join(model_dir, f\"minialexnet-{timestamp}.pt\")\n",
    "torch.save(model.state_dict(), model_path)\n",
    "print(f\"Model saved at {model_path}\")\n",
    "\n",
    "# Save model as artifact\n",
    "artifact_model = wandb.Artifact(\"minialexnet-model\", type=\"model\")\n",
    "artifact_model.add_file(model_path)\n",
    "run.log_artifact(artifact_model)"
   ]
  },
  {
   "cell_type": "code",
   "execution_count": 38,
   "metadata": {
    "execution": {
     "iopub.execute_input": "2025-03-04T02:14:43.233667Z",
     "iopub.status.busy": "2025-03-04T02:14:43.233384Z",
     "iopub.status.idle": "2025-03-04T02:14:43.440915Z",
     "shell.execute_reply": "2025-03-04T02:14:43.440134Z",
     "shell.execute_reply.started": "2025-03-04T02:14:43.233627Z"
    },
    "trusted": true
   },
   "outputs": [],
   "source": [
    "import matplotlib.pyplot as plt\n",
    "\n",
    "fig, ax = plt.subplots(figsize=(10, 5))\n",
    "ax.plot(range(1, NUM_EPOCHS + 1), train_losses, label=\"Train Loss\", marker=\".\")\n",
    "ax.plot(range(1, NUM_EPOCHS + 1), val_losses, label=\"Validation Loss\", marker=\".\")\n",
    "ax.set_xlabel(\"Epochs\")\n",
    "ax.set_ylabel(\"Loss\")\n",
    "ax.set_title(\"Training and Validation Loss Over Epochs\")\n",
    "ax.legend()\n",
    "ax.grid()\n",
    "\n",
    "# Log the figure to wandb without using plt.gcf()\n",
    "wandb.log({\"train and val loss:\": wandb.Image(fig)})\n",
    "plt.close(fig)\n"
   ]
  },
  {
   "cell_type": "code",
   "execution_count": 39,
   "metadata": {
    "execution": {
     "iopub.execute_input": "2025-03-04T02:14:43.441937Z",
     "iopub.status.busy": "2025-03-04T02:14:43.441666Z",
     "iopub.status.idle": "2025-03-04T02:14:44.609946Z",
     "shell.execute_reply": "2025-03-04T02:14:44.609284Z",
     "shell.execute_reply.started": "2025-03-04T02:14:43.441915Z"
    },
    "trusted": true
   },
   "outputs": [],
   "source": [
    "model.eval()\n",
    "test_running_corrects = 0\n",
    "\n",
    "all_preds = []\n",
    "all_labels = []\n",
    "with torch.no_grad():\n",
    "    for inputs, labels in test_loader:\n",
    "        inputs = inputs.to(device)\n",
    "        labels = labels.to(device)\n",
    "\n",
    "        outputs = model(inputs)\n",
    "        _, preds = torch.max(outputs, 1)\n",
    "        \n",
    "        all_preds.extend(preds.cpu().numpy())\n",
    "        all_labels.extend(labels.cpu().numpy())"
   ]
  },
  {
   "cell_type": "code",
   "execution_count": 40,
   "metadata": {
    "execution": {
     "iopub.execute_input": "2025-03-04T02:14:44.610950Z",
     "iopub.status.busy": "2025-03-04T02:14:44.610678Z",
     "iopub.status.idle": "2025-03-04T02:14:45.409622Z",
     "shell.execute_reply": "2025-03-04T02:14:45.408933Z",
     "shell.execute_reply.started": "2025-03-04T02:14:44.610922Z"
    },
    "trusted": true
   },
   "outputs": [
    {
     "name": "stdout",
     "output_type": "stream",
     "text": [
      "Accuracy: 0.9222222222222223\n",
      "Classification Report:\n",
      "               precision    recall  f1-score   support\n",
      "\n",
      "           0       0.92      0.97      0.94        90\n",
      "           1       0.98      0.88      0.92        90\n",
      "           2       0.91      0.92      0.92        90\n",
      "           3       0.89      0.92      0.91        90\n",
      "\n",
      "    accuracy                           0.92       360\n",
      "   macro avg       0.92      0.92      0.92       360\n",
      "weighted avg       0.92      0.92      0.92       360\n",
      "\n",
      "Confusion Matrix:\n",
      " [[87  0  2  1]\n",
      " [ 1 79  3  7]\n",
      " [ 4  1 83  2]\n",
      " [ 3  1  3 83]]\n"
     ]
    },
    {
     "data": {
      "image/png": "[encoded data removed]",
      "text/plain": [
       "<Figure size 600x600 with 2 Axes>"
      ]
     },
     "metadata": {},
     "output_type": "display_data"
    }
   ],
   "source": [
    "from sklearn.metrics import accuracy_score, classification_report, confusion_matrix\n",
    "import seaborn as sns\n",
    "\n",
    "accuracy = accuracy_score(all_labels, all_preds)\n",
    "report = classification_report(all_labels, all_preds)\n",
    "cm = confusion_matrix(all_labels, all_preds)\n",
    "print(\"Accuracy:\", accuracy)\n",
    "print(\"Classification Report:\\n\", report)\n",
    "print(\"Confusion Matrix:\\n\", cm)\n",
    "\n",
    "fig, ax = plt.subplots(figsize=(6,6))\n",
    "\n",
    "sns.heatmap(cm, annot=True, fmt=\"d\", cmap=\"Blues\", xticklabels=class_names, yticklabels=class_names, ax=ax)\n",
    "ax.set_xlabel(\"Predicted\")\n",
    "ax.set_ylabel(\"Actual\")\n",
    "ax.set_title(\"Test Confusion Matrix\")\n",
    "\n",
    "# Log test accuracy and confusion matrix to WandB\n",
    "run.log({\n",
    "    \"test_accuracy\": accuracy,\n",
    "    \"confusion_matrix\": wandb.Image(fig, caption=\"Test Confusion Matrix\")\n",
    "})\n",
    "plt.show()\n",
    "\n"
   ]
  },
  {
   "cell_type": "code",
   "execution_count": 41,
   "metadata": {},
   "outputs": [
    {
     "data": {
      "text/html": [],
      "text/plain": [
       "<IPython.core.display.HTML object>"
      ]
     },
     "metadata": {},
     "output_type": "display_data"
    },
    {
     "data": {
      "text/html": [
       "<br>    <style><br>        .wandb-row {<br>            display: flex;<br>            flex-direction: row;<br>            flex-wrap: wrap;<br>            justify-content: flex-start;<br>            width: 100%;<br>        }<br>        .wandb-col {<br>            display: flex;<br>            flex-direction: column;<br>            flex-basis: 100%;<br>            flex: 1;<br>            padding: 10px;<br>        }<br>    </style><br><div class=\"wandb-row\"><div class=\"wandb-col\"><h3>Run history:</h3><br/><table class=\"wandb\"><tr><td>test_accuracy</td><td>▁</td></tr><tr><td>train_acc</td><td>▁▅▅▆▆▇▇▇▇███████████████████████████████</td></tr><tr><td>train_loss</td><td>█▆▅▄▂▂▂▂▂▁▁▁▁▁▁▁▁▁▁▁▁▁▁▁▁▁▁▁▁▁▁▁▁▁▁▁▁▁▁▁</td></tr><tr><td>val_acc</td><td>▅▄▇▇▇▇██▁█▇███▇████▇▆██▄█▇█████▇▇█▅▇█▇██</td></tr><tr><td>val_loss</td><td>▇▃▁▄▂▁█▂▁▂▁▁▂▁▁▁▂▂▁▂▁▂▃▂▂▂▁▁▁▁▁▂▂▁▁▂▂▁▂▁</td></tr></table><br/></div><div class=\"wandb-col\"><h3>Run summary:</h3><br/><table class=\"wandb\"><tr><td>test_accuracy</td><td>0.92222</td></tr><tr><td>train_acc</td><td>0.99167</td></tr><tr><td>train_loss</td><td>0.02175</td></tr><tr><td>val_acc</td><td>0.95</td></tr><tr><td>val_loss</td><td>0.23759</td></tr></table><br/></div></div>"
      ],
      "text/plain": [
       "<IPython.core.display.HTML object>"
      ]
     },
     "metadata": {},
     "output_type": "display_data"
    },
    {
     "data": {
      "text/html": [
       " View run <strong style=\"color:#cdcd00\">crimson-wave-2</strong> at: <a href='https://wandb.ai/beehappy2554-bosch-global/hutech_mushroom/runs/lhw39vkl' target=\"_blank\">https://wandb.ai/beehappy2554-bosch-global/hutech_mushroom/runs/lhw39vkl</a><br> View project at: <a href='https://wandb.ai/beehappy2554-bosch-global/hutech_mushroom' target=\"_blank\">https://wandb.ai/beehappy2554-bosch-global/hutech_mushroom</a><br>Synced 5 W&B file(s), 2 media file(s), 2 artifact file(s) and 0 other file(s)"
      ],
      "text/plain": [
       "<IPython.core.display.HTML object>"
      ]
     },
     "metadata": {},
     "output_type": "display_data"
    },
    {
     "data": {
      "text/html": [
       "Find logs at: <code>./wandb/run-20250327_231830-lhw39vkl/logs</code>"
      ],
      "text/plain": [
       "<IPython.core.display.HTML object>"
      ]
     },
     "metadata": {},
     "output_type": "display_data"
    }
   ],
   "source": [
    "run.finish()"
   ]
  },
  {
   "cell_type": "markdown",
   "metadata": {},
   "source": [
    "### Setup sweep agents"
   ]
  },
  {
   "cell_type": "code",
   "execution_count": null,
   "metadata": {},
   "outputs": [],
   "source": []
  }
 ],
 "metadata": {
  "kaggle": {
   "accelerator": "nvidiaTeslaT4",
   "dataSources": [
    {
     "datasetId": 6724553,
     "sourceId": 10909541,
     "sourceType": "datasetVersion"
    }
   ],
   "dockerImageVersionId": 30918,
   "isGpuEnabled": true,
   "isInternetEnabled": true,
   "language": "python",
   "sourceType": "notebook"
  },
  "kernelspec": {
   "display_name": "pytorch37",
   "language": "python",
   "name": "python3"
  },
  "language_info": {
   "codemirror_mode": {
    "name": "ipython",
    "version": 3
   },
   "file_extension": ".py",
   "mimetype": "text/x-python",
   "name": "python",
   "nbconvert_exporter": "python",
   "pygments_lexer": "ipython3",
   "version": "3.9.21"
  }
 },
 "nbformat": 4,
 "nbformat_minor": 4
}
